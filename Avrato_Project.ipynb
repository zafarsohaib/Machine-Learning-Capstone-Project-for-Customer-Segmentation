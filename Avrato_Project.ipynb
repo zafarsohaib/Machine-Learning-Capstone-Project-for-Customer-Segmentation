{
 "cells": [
  {
   "cell_type": "markdown",
   "metadata": {},
   "source": [
    "# Capstone Project: Create a Customer Segmentation Report for Arvato Financial Services\n",
    "\n",
    "In this project, you will analyze demographics data for customers of a mail-order sales company in Germany, comparing it against demographics information for the general population. You'll use unsupervised learning techniques to perform customer segmentation, identifying the parts of the population that best describe the core customer base of the company. Then, you'll apply what you've learned on a third dataset with demographics information for targets of a marketing campaign for the company, and use a model to predict which individuals are most likely to convert into becoming customers for the company. The data that you will use has been provided by our partners at Bertelsmann Arvato Analytics, and represents a real-life data science task.\n",
    "\n",
    "If you completed the first term of this program, you will be familiar with the first part of this project, from the unsupervised learning project. The versions of those two datasets used in this project will include many more features and has not been pre-cleaned. You are also free to choose whatever approach you'd like to analyzing the data rather than follow pre-determined steps. In your work on this project, make sure that you carefully document your steps and decisions, since your main deliverable for this project will be a blog post reporting your findings."
   ]
  },
  {
   "cell_type": "code",
   "execution_count": 2,
   "metadata": {},
   "outputs": [
    {
     "name": "stdout",
     "output_type": "stream",
     "text": [
      "Collecting cmake==3.18.4.post1 (from -r requirement.txt (line 1))\n",
      "\u001b[?25l  Downloading https://files.pythonhosted.org/packages/bb/c5/9a07d851bf8356dba2871f141f3e5e8d390995687be20316041a1e564d4c/cmake-3.18.4.post1-py3-none-manylinux1_x86_64.whl (17.7MB)\n",
      "\u001b[K    100% |████████████████████████████████| 17.7MB 1.6MB/s eta 0:00:01  1% |▍                               | 235kB 15.6MB/s eta 0:00:02    7% |██▌                             | 1.4MB 25.2MB/s eta 0:00:01    20% |██████▋                         | 3.7MB 25.6MB/s eta 0:00:01    55% |█████████████████▊              | 9.8MB 25.0MB/s eta 0:00:01    61% |███████████████████▋            | 10.8MB 21.4MB/s eta 0:00:01    67% |█████████████████████▌          | 11.9MB 23.1MB/s eta 0:00:01    80% |█████████████████████████▋      | 14.1MB 23.6MB/s eta 0:00:01    86% |███████████████████████████▊    | 15.3MB 21.8MB/s eta 0:00:01\n",
      "\u001b[?25hCollecting xgboost==1.4.1 (from -r requirement.txt (line 2))\n",
      "\u001b[?25l  Downloading https://files.pythonhosted.org/packages/ac/7a/72ad7bb797ba03eeae376f9f19e87ac63bfdd75dd168eda0cf110a8eed80/xgboost-1.4.1.tar.gz (716kB)\n",
      "\u001b[K    100% |████████████████████████████████| 716kB 12.5MB/s ta 0:00:01\n",
      "\u001b[?25hCollecting lightgbm==3.2.1 (from -r requirement.txt (line 3))\n",
      "\u001b[?25l  Downloading https://files.pythonhosted.org/packages/18/b2/fff8370f48549ce223f929fe8cab4ee6bf285a41f86037d91312b48ed95b/lightgbm-3.2.1-py3-none-manylinux1_x86_64.whl (2.0MB)\n",
      "\u001b[K    100% |████████████████████████████████| 2.0MB 9.0MB/s eta 0:00:01    71% |██████████████████████▊         | 1.4MB 22.8MB/s eta 0:00:01\n",
      "\u001b[?25hCollecting scikit-learn==0.23.2 (from -r requirement.txt (line 4))\n",
      "\u001b[?25l  Downloading https://files.pythonhosted.org/packages/5c/a1/273def87037a7fb010512bbc5901c31cfddfca8080bc63b42b26e3cc55b3/scikit_learn-0.23.2-cp36-cp36m-manylinux1_x86_64.whl (6.8MB)\n",
      "\u001b[K    100% |████████████████████████████████| 6.8MB 3.2MB/s eta 0:00:01    10% |███▎                            | 696kB 18.5MB/s eta 0:00:01\n",
      "\u001b[?25hCollecting scikit-optimize==0.8.1 (from -r requirement.txt (line 5))\n",
      "\u001b[?25l  Downloading https://files.pythonhosted.org/packages/8b/03/be33e89f55866065a02e515c5b319304a801a9f1027a9b311a9b1d1f8dc7/scikit_optimize-0.8.1-py2.py3-none-any.whl (101kB)\n",
      "\u001b[K    100% |████████████████████████████████| 102kB 11.1MB/s a 0:00:01\n",
      "\u001b[?25hCollecting kneed==0.7.0 (from -r requirement.txt (line 6))\n",
      "  Downloading https://files.pythonhosted.org/packages/c3/6b/e130913aaaad1373060e259ab222ca2330672db696b297b082c3f3089fcc/kneed-0.7.0-py2.py3-none-any.whl\n",
      "Collecting numpy==1.19.5 (from -r requirement.txt (line 7))\n",
      "\u001b[?25l  Downloading https://files.pythonhosted.org/packages/45/b2/6c7545bb7a38754d63048c7696804a0d947328125d81bf12beaa692c3ae3/numpy-1.19.5-cp36-cp36m-manylinux1_x86_64.whl (13.4MB)\n",
      "\u001b[K    100% |████████████████████████████████| 13.4MB 2.2MB/s ta 0:00:011  1% |▍                               | 163kB 16.6MB/s eta 0:00:01    15% |█████                           | 2.1MB 22.3MB/s eta 0:00:01    35% |███████████▍                    | 4.8MB 17.0MB/s eta 0:00:01    75% |████████████████████████▎       | 10.2MB 19.9MB/s eta 0:00:01    93% |██████████████████████████████  | 12.5MB 22.2MB/s eta 0:00:01\n",
      "\u001b[?25hRequirement already satisfied: scipy in /opt/conda/lib/python3.6/site-packages (from xgboost==1.4.1->-r requirement.txt (line 2)) (1.2.1)\n",
      "Requirement already satisfied: wheel in /opt/conda/lib/python3.6/site-packages (from lightgbm==3.2.1->-r requirement.txt (line 3)) (0.30.0)\n",
      "Requirement already satisfied: joblib>=0.11 in /opt/conda/lib/python3.6/site-packages (from scikit-learn==0.23.2->-r requirement.txt (line 4)) (0.11)\n",
      "Collecting threadpoolctl>=2.0.0 (from scikit-learn==0.23.2->-r requirement.txt (line 4))\n",
      "  Downloading https://files.pythonhosted.org/packages/f7/12/ec3f2e203afa394a149911729357aa48affc59c20e2c1c8297a60f33f133/threadpoolctl-2.1.0-py3-none-any.whl\n",
      "Collecting pyaml>=16.9 (from scikit-optimize==0.8.1->-r requirement.txt (line 5))\n",
      "  Downloading https://files.pythonhosted.org/packages/15/c4/1310a054d33abc318426a956e7d6df0df76a6ddfa9c66f6310274fb75d42/pyaml-20.4.0-py2.py3-none-any.whl\n",
      "Requirement already satisfied: matplotlib in /opt/conda/lib/python3.6/site-packages (from kneed==0.7.0->-r requirement.txt (line 6)) (2.1.0)\n",
      "Requirement already satisfied: PyYAML in /opt/conda/lib/python3.6/site-packages (from pyaml>=16.9->scikit-optimize==0.8.1->-r requirement.txt (line 5)) (3.12)\n",
      "Requirement already satisfied: six>=1.10 in /opt/conda/lib/python3.6/site-packages (from matplotlib->kneed==0.7.0->-r requirement.txt (line 6)) (1.11.0)\n",
      "Requirement already satisfied: python-dateutil>=2.0 in /opt/conda/lib/python3.6/site-packages (from matplotlib->kneed==0.7.0->-r requirement.txt (line 6)) (2.6.1)\n",
      "Requirement already satisfied: pytz in /opt/conda/lib/python3.6/site-packages (from matplotlib->kneed==0.7.0->-r requirement.txt (line 6)) (2017.3)\n",
      "Requirement already satisfied: cycler>=0.10 in /opt/conda/lib/python3.6/site-packages/cycler-0.10.0-py3.6.egg (from matplotlib->kneed==0.7.0->-r requirement.txt (line 6)) (0.10.0)\n",
      "Requirement already satisfied: pyparsing!=2.0.4,!=2.1.2,!=2.1.6,>=2.0.1 in /opt/conda/lib/python3.6/site-packages (from matplotlib->kneed==0.7.0->-r requirement.txt (line 6)) (2.2.0)\n",
      "Building wheels for collected packages: xgboost\n",
      "  Running setup.py bdist_wheel for xgboost ... \u001b[?25lerror\n",
      "  Complete output from command /opt/conda/bin/python -u -c \"import setuptools, tokenize;__file__='/tmp/pip-install-bz4bvqio/xgboost/setup.py';f=getattr(tokenize, 'open', open)(__file__);code=f.read().replace('\\r\\n', '\\n');f.close();exec(compile(code, __file__, 'exec'))\" bdist_wheel -d /tmp/pip-wheel-v84yr5q9 --python-tag cp36:\n",
      "  /opt/conda/lib/python3.6/distutils/dist.py:261: UserWarning: Unknown distribution option: 'long_description_content_type'\n",
      "    warnings.warn(msg)\n",
      "  running bdist_wheel\n",
      "  running build\n",
      "  running build_py\n",
      "  creating build\n",
      "  creating build/lib.linux-x86_64-3.6\n",
      "  creating build/lib.linux-x86_64-3.6/xgboost\n",
      "  copying xgboost/dask.py -> build/lib.linux-x86_64-3.6/xgboost\n",
      "  copying xgboost/training.py -> build/lib.linux-x86_64-3.6/xgboost\n",
      "  copying xgboost/config.py -> build/lib.linux-x86_64-3.6/xgboost\n",
      "  copying xgboost/sklearn.py -> build/lib.linux-x86_64-3.6/xgboost\n",
      "  copying xgboost/__init__.py -> build/lib.linux-x86_64-3.6/xgboost\n",
      "  copying xgboost/libpath.py -> build/lib.linux-x86_64-3.6/xgboost\n",
      "  copying xgboost/data.py -> build/lib.linux-x86_64-3.6/xgboost\n",
      "  copying xgboost/compat.py -> build/lib.linux-x86_64-3.6/xgboost\n",
      "  copying xgboost/core.py -> build/lib.linux-x86_64-3.6/xgboost\n",
      "  copying xgboost/plotting.py -> build/lib.linux-x86_64-3.6/xgboost\n",
      "  copying xgboost/rabit.py -> build/lib.linux-x86_64-3.6/xgboost\n",
      "  copying xgboost/tracker.py -> build/lib.linux-x86_64-3.6/xgboost\n",
      "  copying xgboost/callback.py -> build/lib.linux-x86_64-3.6/xgboost\n",
      "  running egg_info\n",
      "  writing xgboost.egg-info/PKG-INFO\n",
      "  writing dependency_links to xgboost.egg-info/dependency_links.txt\n",
      "  writing requirements to xgboost.egg-info/requires.txt\n",
      "  writing top-level names to xgboost.egg-info/top_level.txt\n",
      "  reading manifest file 'xgboost.egg-info/SOURCES.txt'\n",
      "  reading manifest template 'MANIFEST.in'\n",
      "  warning: no previously-included files found matching 'xgboost/cmake/RPackageInstall.cmake.in'\n",
      "  warning: no previously-included files found matching 'xgboost/cmake/RPackageInstallTargetSetup.cmake'\n",
      "  warning: no previously-included files found matching 'xgboost/cmake/Sanitizer.cmake'\n",
      "  warning: no previously-included files found matching 'xgboost/cmake/modules/FindASan.cmake'\n",
      "  warning: no previously-included files found matching 'xgboost/cmake/modules/FindLSan.cmake'\n",
      "  warning: no previously-included files found matching 'xgboost/cmake/modules/FindLibR.cmake'\n",
      "  warning: no previously-included files found matching 'xgboost/cmake/modules/FindTSan.cmake'\n",
      "  warning: no previously-included files found matching 'xgboost/cmake/modules/FindUBSan.cmake'\n",
      "  no previously-included directories found matching 'xgboost/rabit/doc'\n",
      "  no previously-included directories found matching 'xgboost/rabit/guide'\n",
      "  warning: no previously-included files found matching 'xgboost/dmlc-core/cmake/gtest_cmake.in'\n",
      "  warning: no previously-included files found matching 'xgboost/dmlc-core/cmake/lint.cmake'\n",
      "  warning: no previously-included files found matching 'xgboost/dmlc-core/cmake/Sanitizer.cmake'\n",
      "  warning: no previously-included files found matching 'xgboost/dmlc-core/cmake/Modules/FindASan.cmake'\n",
      "  warning: no previously-included files found matching 'xgboost/dmlc-core/cmake/Modules/FindLSan.cmake'\n",
      "  warning: no previously-included files found matching 'xgboost/dmlc-core/cmake/Modules/FindTSan.cmake'\n",
      "  warning: no previously-included files found matching 'xgboost/dmlc-core/cmake/Modules/FindUBSan.cmake'\n",
      "  no previously-included directories found matching 'xgboost/dmlc-core/doc'\n",
      "  no previously-included directories found matching 'xgboost/dmlc-core/scripts/'\n",
      "  warning: no previously-included files matching '*.py[oc]' found anywhere in distribution\n",
      "  writing manifest file 'xgboost.egg-info/SOURCES.txt'\n",
      "  copying xgboost/CMakeLists.txt -> build/lib.linux-x86_64-3.6/xgboost\n",
      "  copying xgboost/LICENSE -> build/lib.linux-x86_64-3.6/xgboost\n",
      "  copying xgboost/VERSION -> build/lib.linux-x86_64-3.6/xgboost\n",
      "  copying xgboost/py.typed -> build/lib.linux-x86_64-3.6/xgboost\n",
      "  creating build/lib.linux-x86_64-3.6/xgboost/cmake\n",
      "  copying xgboost/cmake/Doc.cmake -> build/lib.linux-x86_64-3.6/xgboost/cmake\n",
      "  copying xgboost/cmake/FindPrefetchIntrinsics.cmake -> build/lib.linux-x86_64-3.6/xgboost/cmake\n",
      "  copying xgboost/cmake/Python_version.in -> build/lib.linux-x86_64-3.6/xgboost/cmake\n",
      "  copying xgboost/cmake/Utils.cmake -> build/lib.linux-x86_64-3.6/xgboost/cmake\n",
      "  copying xgboost/cmake/Version.cmake -> build/lib.linux-x86_64-3.6/xgboost/cmake\n",
      "  copying xgboost/cmake/version_config.h.in -> build/lib.linux-x86_64-3.6/xgboost/cmake\n",
      "  copying xgboost/cmake/xgboost-config.cmake.in -> build/lib.linux-x86_64-3.6/xgboost/cmake\n",
      "  copying xgboost/cmake/xgboost.pc.in -> build/lib.linux-x86_64-3.6/xgboost/cmake\n",
      "  creating build/lib.linux-x86_64-3.6/xgboost/cmake/modules\n",
      "  copying xgboost/cmake/modules/FindNVML.cmake -> build/lib.linux-x86_64-3.6/xgboost/cmake/modules\n",
      "  copying xgboost/cmake/modules/FindNVTX.cmake -> build/lib.linux-x86_64-3.6/xgboost/cmake/modules\n",
      "  copying xgboost/cmake/modules/FindNccl.cmake -> build/lib.linux-x86_64-3.6/xgboost/cmake/modules\n",
      "  creating build/lib.linux-x86_64-3.6/xgboost/dmlc-core\n",
      "  copying xgboost/dmlc-core/CMakeLists.txt -> build/lib.linux-x86_64-3.6/xgboost/dmlc-core\n",
      "  creating build/lib.linux-x86_64-3.6/xgboost/dmlc-core/cmake\n",
      "  copying xgboost/dmlc-core/cmake/Utils.cmake -> build/lib.linux-x86_64-3.6/xgboost/dmlc-core/cmake\n",
      "  copying xgboost/dmlc-core/cmake/build_config.h.in -> build/lib.linux-x86_64-3.6/xgboost/dmlc-core/cmake\n",
      "  copying xgboost/dmlc-core/cmake/dmlc-config.cmake.in -> build/lib.linux-x86_64-3.6/xgboost/dmlc-core/cmake\n",
      "  creating build/lib.linux-x86_64-3.6/xgboost/dmlc-core/cmake/Modules\n",
      "  copying xgboost/dmlc-core/cmake/Modules/FindHDFS.cmake -> build/lib.linux-x86_64-3.6/xgboost/dmlc-core/cmake/Modules\n",
      "  creating build/lib.linux-x86_64-3.6/xgboost/dmlc-core/include\n",
      "  creating build/lib.linux-x86_64-3.6/xgboost/dmlc-core/include/dmlc\n",
      "  copying xgboost/dmlc-core/include/dmlc/any.h -> build/lib.linux-x86_64-3.6/xgboost/dmlc-core/include/dmlc\n",
      "  copying xgboost/dmlc-core/include/dmlc/array_view.h -> build/lib.linux-x86_64-3.6/xgboost/dmlc-core/include/dmlc\n",
      "  copying xgboost/dmlc-core/include/dmlc/base.h -> build/lib.linux-x86_64-3.6/xgboost/dmlc-core/include/dmlc\n",
      "  copying xgboost/dmlc-core/include/dmlc/blockingconcurrentqueue.h -> build/lib.linux-x86_64-3.6/xgboost/dmlc-core/include/dmlc\n",
      "  copying xgboost/dmlc-core/include/dmlc/build_config_default.h -> build/lib.linux-x86_64-3.6/xgboost/dmlc-core/include/dmlc\n",
      "  copying xgboost/dmlc-core/include/dmlc/common.h -> build/lib.linux-x86_64-3.6/xgboost/dmlc-core/include/dmlc\n",
      "  copying xgboost/dmlc-core/include/dmlc/concurrency.h -> build/lib.linux-x86_64-3.6/xgboost/dmlc-core/include/dmlc\n",
      "  copying xgboost/dmlc-core/include/dmlc/concurrentqueue.h -> build/lib.linux-x86_64-3.6/xgboost/dmlc-core/include/dmlc\n",
      "  copying xgboost/dmlc-core/include/dmlc/config.h -> build/lib.linux-x86_64-3.6/xgboost/dmlc-core/include/dmlc\n",
      "  copying xgboost/dmlc-core/include/dmlc/data.h -> build/lib.linux-x86_64-3.6/xgboost/dmlc-core/include/dmlc\n",
      "  copying xgboost/dmlc-core/include/dmlc/endian.h -> build/lib.linux-x86_64-3.6/xgboost/dmlc-core/include/dmlc\n",
      "  copying xgboost/dmlc-core/include/dmlc/filesystem.h -> build/lib.linux-x86_64-3.6/xgboost/dmlc-core/include/dmlc\n",
      "  copying xgboost/dmlc-core/include/dmlc/input_split_shuffle.h -> build/lib.linux-x86_64-3.6/xgboost/dmlc-core/include/dmlc\n",
      "  copying xgboost/dmlc-core/include/dmlc/io.h -> build/lib.linux-x86_64-3.6/xgboost/dmlc-core/include/dmlc\n",
      "  copying xgboost/dmlc-core/include/dmlc/json.h -> build/lib.linux-x86_64-3.6/xgboost/dmlc-core/include/dmlc\n",
      "  copying xgboost/dmlc-core/include/dmlc/logging.h -> build/lib.linux-x86_64-3.6/xgboost/dmlc-core/include/dmlc\n",
      "  copying xgboost/dmlc-core/include/dmlc/lua.h -> build/lib.linux-x86_64-3.6/xgboost/dmlc-core/include/dmlc\n",
      "  copying xgboost/dmlc-core/include/dmlc/memory.h -> build/lib.linux-x86_64-3.6/xgboost/dmlc-core/include/dmlc\n",
      "  copying xgboost/dmlc-core/include/dmlc/memory_io.h -> build/lib.linux-x86_64-3.6/xgboost/dmlc-core/include/dmlc\n",
      "  copying xgboost/dmlc-core/include/dmlc/omp.h -> build/lib.linux-x86_64-3.6/xgboost/dmlc-core/include/dmlc\n",
      "  copying xgboost/dmlc-core/include/dmlc/optional.h -> build/lib.linux-x86_64-3.6/xgboost/dmlc-core/include/dmlc\n",
      "  copying xgboost/dmlc-core/include/dmlc/parameter.h -> build/lib.linux-x86_64-3.6/xgboost/dmlc-core/include/dmlc\n",
      "  copying xgboost/dmlc-core/include/dmlc/recordio.h -> build/lib.linux-x86_64-3.6/xgboost/dmlc-core/include/dmlc\n",
      "  copying xgboost/dmlc-core/include/dmlc/registry.h -> build/lib.linux-x86_64-3.6/xgboost/dmlc-core/include/dmlc\n",
      "  copying xgboost/dmlc-core/include/dmlc/serializer.h -> build/lib.linux-x86_64-3.6/xgboost/dmlc-core/include/dmlc\n",
      "  copying xgboost/dmlc-core/include/dmlc/strtonum.h -> build/lib.linux-x86_64-3.6/xgboost/dmlc-core/include/dmlc\n",
      "  copying xgboost/dmlc-core/include/dmlc/thread_group.h -> build/lib.linux-x86_64-3.6/xgboost/dmlc-core/include/dmlc\n",
      "  copying xgboost/dmlc-core/include/dmlc/thread_local.h -> build/lib.linux-x86_64-3.6/xgboost/dmlc-core/include/dmlc\n",
      "  copying xgboost/dmlc-core/include/dmlc/threadediter.h -> build/lib.linux-x86_64-3.6/xgboost/dmlc-core/include/dmlc\n",
      "  copying xgboost/dmlc-core/include/dmlc/timer.h -> build/lib.linux-x86_64-3.6/xgboost/dmlc-core/include/dmlc\n",
      "  copying xgboost/dmlc-core/include/dmlc/type_traits.h -> build/lib.linux-x86_64-3.6/xgboost/dmlc-core/include/dmlc\n",
      "  creating build/lib.linux-x86_64-3.6/xgboost/dmlc-core/make\n",
      "  copying xgboost/dmlc-core/make/config.mk -> build/lib.linux-x86_64-3.6/xgboost/dmlc-core/make\n",
      "  copying xgboost/dmlc-core/make/dmlc.mk -> build/lib.linux-x86_64-3.6/xgboost/dmlc-core/make\n",
      "  creating build/lib.linux-x86_64-3.6/xgboost/dmlc-core/src\n",
      "  copying xgboost/dmlc-core/src/config.cc -> build/lib.linux-x86_64-3.6/xgboost/dmlc-core/src\n",
      "  copying xgboost/dmlc-core/src/data.cc -> build/lib.linux-x86_64-3.6/xgboost/dmlc-core/src\n",
      "  copying xgboost/dmlc-core/src/io.cc -> build/lib.linux-x86_64-3.6/xgboost/dmlc-core/src\n",
      "  copying xgboost/dmlc-core/src/recordio.cc -> build/lib.linux-x86_64-3.6/xgboost/dmlc-core/src\n",
      "  creating build/lib.linux-x86_64-3.6/xgboost/dmlc-core/src/data\n",
      "  copying xgboost/dmlc-core/src/data/basic_row_iter.h -> build/lib.linux-x86_64-3.6/xgboost/dmlc-core/src/data\n",
      "  copying xgboost/dmlc-core/src/data/csv_parser.h -> build/lib.linux-x86_64-3.6/xgboost/dmlc-core/src/data\n",
      "  copying xgboost/dmlc-core/src/data/disk_row_iter.h -> build/lib.linux-x86_64-3.6/xgboost/dmlc-core/src/data\n",
      "  copying xgboost/dmlc-core/src/data/libfm_parser.h -> build/lib.linux-x86_64-3.6/xgboost/dmlc-core/src/data\n",
      "  copying xgboost/dmlc-core/src/data/libsvm_parser.h -> build/lib.linux-x86_64-3.6/xgboost/dmlc-core/src/data\n",
      "  copying xgboost/dmlc-core/src/data/parser.h -> build/lib.linux-x86_64-3.6/xgboost/dmlc-core/src/data\n",
      "  copying xgboost/dmlc-core/src/data/row_block.h -> build/lib.linux-x86_64-3.6/xgboost/dmlc-core/src/data\n",
      "  copying xgboost/dmlc-core/src/data/text_parser.h -> build/lib.linux-x86_64-3.6/xgboost/dmlc-core/src/data\n",
      "  creating build/lib.linux-x86_64-3.6/xgboost/dmlc-core/src/io\n",
      "  copying xgboost/dmlc-core/src/io/azure_filesys.cc -> build/lib.linux-x86_64-3.6/xgboost/dmlc-core/src/io\n",
      "  copying xgboost/dmlc-core/src/io/azure_filesys.h -> build/lib.linux-x86_64-3.6/xgboost/dmlc-core/src/io\n",
      "  copying xgboost/dmlc-core/src/io/cached_input_split.h -> build/lib.linux-x86_64-3.6/xgboost/dmlc-core/src/io\n",
      "  copying xgboost/dmlc-core/src/io/filesys.cc -> build/lib.linux-x86_64-3.6/xgboost/dmlc-core/src/io\n",
      "  copying xgboost/dmlc-core/src/io/hdfs_filesys.cc -> build/lib.linux-x86_64-3.6/xgboost/dmlc-core/src/io\n",
      "  copying xgboost/dmlc-core/src/io/hdfs_filesys.h -> build/lib.linux-x86_64-3.6/xgboost/dmlc-core/src/io\n",
      "  copying xgboost/dmlc-core/src/io/indexed_recordio_split.cc -> build/lib.linux-x86_64-3.6/xgboost/dmlc-core/src/io\n",
      "  copying xgboost/dmlc-core/src/io/indexed_recordio_split.h -> build/lib.linux-x86_64-3.6/xgboost/dmlc-core/src/io\n",
      "  copying xgboost/dmlc-core/src/io/input_split_base.cc -> build/lib.linux-x86_64-3.6/xgboost/dmlc-core/src/io\n",
      "  copying xgboost/dmlc-core/src/io/input_split_base.h -> build/lib.linux-x86_64-3.6/xgboost/dmlc-core/src/io\n",
      "  copying xgboost/dmlc-core/src/io/line_split.cc -> build/lib.linux-x86_64-3.6/xgboost/dmlc-core/src/io\n",
      "  copying xgboost/dmlc-core/src/io/line_split.h -> build/lib.linux-x86_64-3.6/xgboost/dmlc-core/src/io\n",
      "  copying xgboost/dmlc-core/src/io/local_filesys.cc -> build/lib.linux-x86_64-3.6/xgboost/dmlc-core/src/io\n",
      "  copying xgboost/dmlc-core/src/io/local_filesys.h -> build/lib.linux-x86_64-3.6/xgboost/dmlc-core/src/io\n",
      "  copying xgboost/dmlc-core/src/io/recordio_split.cc -> build/lib.linux-x86_64-3.6/xgboost/dmlc-core/src/io\n",
      "  copying xgboost/dmlc-core/src/io/recordio_split.h -> build/lib.linux-x86_64-3.6/xgboost/dmlc-core/src/io\n",
      "  copying xgboost/dmlc-core/src/io/s3_filesys.cc -> build/lib.linux-x86_64-3.6/xgboost/dmlc-core/src/io\n",
      "  copying xgboost/dmlc-core/src/io/s3_filesys.h -> build/lib.linux-x86_64-3.6/xgboost/dmlc-core/src/io\n",
      "  copying xgboost/dmlc-core/src/io/single_file_split.h -> build/lib.linux-x86_64-3.6/xgboost/dmlc-core/src/io\n",
      "  copying xgboost/dmlc-core/src/io/single_threaded_input_split.h -> build/lib.linux-x86_64-3.6/xgboost/dmlc-core/src/io\n",
      "  copying xgboost/dmlc-core/src/io/threaded_input_split.h -> build/lib.linux-x86_64-3.6/xgboost/dmlc-core/src/io\n",
      "  copying xgboost/dmlc-core/src/io/uri_spec.h -> build/lib.linux-x86_64-3.6/xgboost/dmlc-core/src/io\n",
      "  creating build/lib.linux-x86_64-3.6/xgboost/dmlc-core/tracker\n",
      "  copying xgboost/dmlc-core/tracker/dmlc-submit -> build/lib.linux-x86_64-3.6/xgboost/dmlc-core/tracker\n",
      "  creating build/lib.linux-x86_64-3.6/xgboost/dmlc-core/tracker/dmlc_tracker\n",
      "  copying xgboost/dmlc-core/tracker/dmlc_tracker/__init__.py -> build/lib.linux-x86_64-3.6/xgboost/dmlc-core/tracker/dmlc_tracker\n",
      "  copying xgboost/dmlc-core/tracker/dmlc_tracker/kubernetes.py -> build/lib.linux-x86_64-3.6/xgboost/dmlc-core/tracker/dmlc_tracker\n",
      "  copying xgboost/dmlc-core/tracker/dmlc_tracker/launcher.py -> build/lib.linux-x86_64-3.6/xgboost/dmlc-core/tracker/dmlc_tracker\n",
      "  copying xgboost/dmlc-core/tracker/dmlc_tracker/local.py -> build/lib.linux-x86_64-3.6/xgboost/dmlc-core/tracker/dmlc_tracker\n",
      "  copying xgboost/dmlc-core/tracker/dmlc_tracker/mesos.py -> build/lib.linux-x86_64-3.6/xgboost/dmlc-core/tracker/dmlc_tracker\n",
      "  copying xgboost/dmlc-core/tracker/dmlc_tracker/mpi.py -> build/lib.linux-x86_64-3.6/xgboost/dmlc-core/tracker/dmlc_tracker\n",
      "  copying xgboost/dmlc-core/tracker/dmlc_tracker/opts.py -> build/lib.linux-x86_64-3.6/xgboost/dmlc-core/tracker/dmlc_tracker\n",
      "  copying xgboost/dmlc-core/tracker/dmlc_tracker/sge.py -> build/lib.linux-x86_64-3.6/xgboost/dmlc-core/tracker/dmlc_tracker\n",
      "  copying xgboost/dmlc-core/tracker/dmlc_tracker/slurm.py -> build/lib.linux-x86_64-3.6/xgboost/dmlc-core/tracker/dmlc_tracker\n",
      "  copying xgboost/dmlc-core/tracker/dmlc_tracker/ssh.py -> build/lib.linux-x86_64-3.6/xgboost/dmlc-core/tracker/dmlc_tracker\n",
      "  copying xgboost/dmlc-core/tracker/dmlc_tracker/submit.py -> build/lib.linux-x86_64-3.6/xgboost/dmlc-core/tracker/dmlc_tracker\n",
      "  copying xgboost/dmlc-core/tracker/dmlc_tracker/tracker.py -> build/lib.linux-x86_64-3.6/xgboost/dmlc-core/tracker/dmlc_tracker\n",
      "  copying xgboost/dmlc-core/tracker/dmlc_tracker/util.py -> build/lib.linux-x86_64-3.6/xgboost/dmlc-core/tracker/dmlc_tracker\n",
      "  copying xgboost/dmlc-core/tracker/dmlc_tracker/yarn.py -> build/lib.linux-x86_64-3.6/xgboost/dmlc-core/tracker/dmlc_tracker\n",
      "  creating build/lib.linux-x86_64-3.6/xgboost/dmlc-core/tracker/yarn\n",
      "  copying xgboost/dmlc-core/tracker/yarn/build.bat -> build/lib.linux-x86_64-3.6/xgboost/dmlc-core/tracker/yarn\n",
      "  copying xgboost/dmlc-core/tracker/yarn/build.sh -> build/lib.linux-x86_64-3.6/xgboost/dmlc-core/tracker/yarn\n",
      "  copying xgboost/dmlc-core/tracker/yarn/pom.xml -> build/lib.linux-x86_64-3.6/xgboost/dmlc-core/tracker/yarn\n",
      "  creating build/lib.linux-x86_64-3.6/xgboost/dmlc-core/tracker/yarn/src\n",
      "  creating build/lib.linux-x86_64-3.6/xgboost/dmlc-core/tracker/yarn/src/main\n",
      "  creating build/lib.linux-x86_64-3.6/xgboost/dmlc-core/tracker/yarn/src/main/java\n",
      "  creating build/lib.linux-x86_64-3.6/xgboost/dmlc-core/tracker/yarn/src/main/java/org\n",
      "  creating build/lib.linux-x86_64-3.6/xgboost/dmlc-core/tracker/yarn/src/main/java/org/apache\n",
      "  creating build/lib.linux-x86_64-3.6/xgboost/dmlc-core/tracker/yarn/src/main/java/org/apache/hadoop\n",
      "  creating build/lib.linux-x86_64-3.6/xgboost/dmlc-core/tracker/yarn/src/main/java/org/apache/hadoop/yarn\n",
      "  creating build/lib.linux-x86_64-3.6/xgboost/dmlc-core/tracker/yarn/src/main/java/org/apache/hadoop/yarn/dmlc\n",
      "  copying xgboost/dmlc-core/tracker/yarn/src/main/java/org/apache/hadoop/yarn/dmlc/ApplicationMaster.java -> build/lib.linux-x86_64-3.6/xgboost/dmlc-core/tracker/yarn/src/main/java/org/apache/hadoop/yarn/dmlc\n",
      "  copying xgboost/dmlc-core/tracker/yarn/src/main/java/org/apache/hadoop/yarn/dmlc/Client.java -> build/lib.linux-x86_64-3.6/xgboost/dmlc-core/tracker/yarn/src/main/java/org/apache/hadoop/yarn/dmlc\n",
      "  copying xgboost/dmlc-core/tracker/yarn/src/main/java/org/apache/hadoop/yarn/dmlc/TaskRecord.java -> build/lib.linux-x86_64-3.6/xgboost/dmlc-core/tracker/yarn/src/main/java/org/apache/hadoop/yarn/dmlc\n",
      "  creating build/lib.linux-x86_64-3.6/xgboost/dmlc-core/windows\n",
      "  copying xgboost/dmlc-core/windows/dmlc.sln -> build/lib.linux-x86_64-3.6/xgboost/dmlc-core/windows\n",
      "  creating build/lib.linux-x86_64-3.6/xgboost/dmlc-core/windows/dmlc\n",
      "  copying xgboost/dmlc-core/windows/dmlc/dmlc.vcxproj -> build/lib.linux-x86_64-3.6/xgboost/dmlc-core/windows/dmlc\n",
      "  creating build/lib.linux-x86_64-3.6/xgboost/include\n",
      "  creating build/lib.linux-x86_64-3.6/xgboost/include/xgboost\n",
      "  copying xgboost/include/xgboost/base.h -> build/lib.linux-x86_64-3.6/xgboost/include/xgboost\n",
      "  copying xgboost/include/xgboost/c_api.h -> build/lib.linux-x86_64-3.6/xgboost/include/xgboost\n",
      "  copying xgboost/include/xgboost/data.h -> build/lib.linux-x86_64-3.6/xgboost/include/xgboost\n",
      "  copying xgboost/include/xgboost/feature_map.h -> build/lib.linux-x86_64-3.6/xgboost/include/xgboost\n",
      "  copying xgboost/include/xgboost/gbm.h -> build/lib.linux-x86_64-3.6/xgboost/include/xgboost\n",
      "  copying xgboost/include/xgboost/generic_parameters.h -> build/lib.linux-x86_64-3.6/xgboost/include/xgboost\n",
      "  copying xgboost/include/xgboost/global_config.h -> build/lib.linux-x86_64-3.6/xgboost/include/xgboost\n",
      "  copying xgboost/include/xgboost/host_device_vector.h -> build/lib.linux-x86_64-3.6/xgboost/include/xgboost\n",
      "  copying xgboost/include/xgboost/intrusive_ptr.h -> build/lib.linux-x86_64-3.6/xgboost/include/xgboost\n",
      "  copying xgboost/include/xgboost/json.h -> build/lib.linux-x86_64-3.6/xgboost/include/xgboost\n",
      "  copying xgboost/include/xgboost/json_io.h -> build/lib.linux-x86_64-3.6/xgboost/include/xgboost\n",
      "  copying xgboost/include/xgboost/learner.h -> build/lib.linux-x86_64-3.6/xgboost/include/xgboost\n",
      "  copying xgboost/include/xgboost/linear_updater.h -> build/lib.linux-x86_64-3.6/xgboost/include/xgboost\n",
      "  copying xgboost/include/xgboost/logging.h -> build/lib.linux-x86_64-3.6/xgboost/include/xgboost\n",
      "  copying xgboost/include/xgboost/metric.h -> build/lib.linux-x86_64-3.6/xgboost/include/xgboost\n",
      "  copying xgboost/include/xgboost/model.h -> build/lib.linux-x86_64-3.6/xgboost/include/xgboost\n",
      "  copying xgboost/include/xgboost/objective.h -> build/lib.linux-x86_64-3.6/xgboost/include/xgboost\n",
      "  copying xgboost/include/xgboost/parameter.h -> build/lib.linux-x86_64-3.6/xgboost/include/xgboost\n",
      "  copying xgboost/include/xgboost/predictor.h -> build/lib.linux-x86_64-3.6/xgboost/include/xgboost\n",
      "  copying xgboost/include/xgboost/span.h -> build/lib.linux-x86_64-3.6/xgboost/include/xgboost\n",
      "  copying xgboost/include/xgboost/tree_model.h -> build/lib.linux-x86_64-3.6/xgboost/include/xgboost\n",
      "  copying xgboost/include/xgboost/tree_updater.h -> build/lib.linux-x86_64-3.6/xgboost/include/xgboost\n",
      "  copying xgboost/include/xgboost/version_config.h -> build/lib.linux-x86_64-3.6/xgboost/include/xgboost\n",
      "  creating build/lib.linux-x86_64-3.6/xgboost/plugin\n",
      "  copying xgboost/plugin/CMakeLists.txt -> build/lib.linux-x86_64-3.6/xgboost/plugin\n",
      "  copying xgboost/plugin/README.md -> build/lib.linux-x86_64-3.6/xgboost/plugin\n",
      "  creating build/lib.linux-x86_64-3.6/xgboost/plugin/dense_parser\n",
      "  copying xgboost/plugin/dense_parser/dense_libsvm.cc -> build/lib.linux-x86_64-3.6/xgboost/plugin/dense_parser\n",
      "  creating build/lib.linux-x86_64-3.6/xgboost/plugin/example\n",
      "  copying xgboost/plugin/example/README.md -> build/lib.linux-x86_64-3.6/xgboost/plugin/example\n",
      "  copying xgboost/plugin/example/custom_obj.cc -> build/lib.linux-x86_64-3.6/xgboost/plugin/example\n",
      "  creating build/lib.linux-x86_64-3.6/xgboost/plugin/lz4\n",
      "  copying xgboost/plugin/lz4/sparse_page_lz4_format.cc -> build/lib.linux-x86_64-3.6/xgboost/plugin/lz4\n",
      "  creating build/lib.linux-x86_64-3.6/xgboost/plugin/updater_gpu\n",
      "  copying xgboost/plugin/updater_gpu/README.md -> build/lib.linux-x86_64-3.6/xgboost/plugin/updater_gpu\n",
      "  creating build/lib.linux-x86_64-3.6/xgboost/plugin/updater_oneapi\n",
      "  copying xgboost/plugin/updater_oneapi/README.md -> build/lib.linux-x86_64-3.6/xgboost/plugin/updater_oneapi\n",
      "  copying xgboost/plugin/updater_oneapi/predictor_oneapi.cc -> build/lib.linux-x86_64-3.6/xgboost/plugin/updater_oneapi\n",
      "  copying xgboost/plugin/updater_oneapi/regression_loss_oneapi.h -> build/lib.linux-x86_64-3.6/xgboost/plugin/updater_oneapi\n",
      "  copying xgboost/plugin/updater_oneapi/regression_obj_oneapi.cc -> build/lib.linux-x86_64-3.6/xgboost/plugin/updater_oneapi\n",
      "  creating build/lib.linux-x86_64-3.6/xgboost/rabit\n",
      "  copying xgboost/rabit/CMakeLists.txt -> build/lib.linux-x86_64-3.6/xgboost/rabit\n",
      "  creating build/lib.linux-x86_64-3.6/xgboost/rabit/include\n",
      "  creating build/lib.linux-x86_64-3.6/xgboost/rabit/include/rabit\n",
      "  copying xgboost/rabit/include/rabit/base.h -> build/lib.linux-x86_64-3.6/xgboost/rabit/include/rabit\n",
      "  copying xgboost/rabit/include/rabit/c_api.h -> build/lib.linux-x86_64-3.6/xgboost/rabit/include/rabit\n",
      "  copying xgboost/rabit/include/rabit/rabit.h -> build/lib.linux-x86_64-3.6/xgboost/rabit/include/rabit\n",
      "  copying xgboost/rabit/include/rabit/serializable.h -> build/lib.linux-x86_64-3.6/xgboost/rabit/include/rabit\n",
      "  creating build/lib.linux-x86_64-3.6/xgboost/rabit/include/rabit/internal\n",
      "  copying xgboost/rabit/include/rabit/internal/engine.h -> build/lib.linux-x86_64-3.6/xgboost/rabit/include/rabit/internal\n",
      "  copying xgboost/rabit/include/rabit/internal/io.h -> build/lib.linux-x86_64-3.6/xgboost/rabit/include/rabit/internal\n",
      "  copying xgboost/rabit/include/rabit/internal/rabit-inl.h -> build/lib.linux-x86_64-3.6/xgboost/rabit/include/rabit/internal\n",
      "  copying xgboost/rabit/include/rabit/internal/socket.h -> build/lib.linux-x86_64-3.6/xgboost/rabit/include/rabit/internal\n",
      "  copying xgboost/rabit/include/rabit/internal/utils.h -> build/lib.linux-x86_64-3.6/xgboost/rabit/include/rabit/internal\n",
      "  creating build/lib.linux-x86_64-3.6/xgboost/rabit/src\n",
      "  copying xgboost/rabit/src/allreduce_base.cc -> build/lib.linux-x86_64-3.6/xgboost/rabit/src\n",
      "  copying xgboost/rabit/src/allreduce_base.h -> build/lib.linux-x86_64-3.6/xgboost/rabit/src\n",
      "  copying xgboost/rabit/src/allreduce_mock.h -> build/lib.linux-x86_64-3.6/xgboost/rabit/src\n",
      "  copying xgboost/rabit/src/c_api.cc -> build/lib.linux-x86_64-3.6/xgboost/rabit/src\n",
      "  copying xgboost/rabit/src/engine.cc -> build/lib.linux-x86_64-3.6/xgboost/rabit/src\n",
      "  copying xgboost/rabit/src/engine_mock.cc -> build/lib.linux-x86_64-3.6/xgboost/rabit/src\n",
      "  copying xgboost/rabit/src/engine_mpi.cc -> build/lib.linux-x86_64-3.6/xgboost/rabit/src\n",
      "  creating build/lib.linux-x86_64-3.6/xgboost/src\n",
      "  copying xgboost/src/CMakeLists.txt -> build/lib.linux-x86_64-3.6/xgboost/src\n",
      "  copying xgboost/src/cli_main.cc -> build/lib.linux-x86_64-3.6/xgboost/src\n",
      "  copying xgboost/src/global_config.cc -> build/lib.linux-x86_64-3.6/xgboost/src\n",
      "  copying xgboost/src/learner.cc -> build/lib.linux-x86_64-3.6/xgboost/src\n",
      "  copying xgboost/src/logging.cc -> build/lib.linux-x86_64-3.6/xgboost/src\n",
      "  creating build/lib.linux-x86_64-3.6/xgboost/src/c_api\n",
      "  copying xgboost/src/c_api/c_api.cc -> build/lib.linux-x86_64-3.6/xgboost/src/c_api\n",
      "  copying xgboost/src/c_api/c_api.cu -> build/lib.linux-x86_64-3.6/xgboost/src/c_api\n",
      "  copying xgboost/src/c_api/c_api_error.cc -> build/lib.linux-x86_64-3.6/xgboost/src/c_api\n",
      "  copying xgboost/src/c_api/c_api_error.h -> build/lib.linux-x86_64-3.6/xgboost/src/c_api\n",
      "  copying xgboost/src/c_api/c_api_utils.h -> build/lib.linux-x86_64-3.6/xgboost/src/c_api\n",
      "  creating build/lib.linux-x86_64-3.6/xgboost/src/common\n",
      "  copying xgboost/src/common/base64.h -> build/lib.linux-x86_64-3.6/xgboost/src/common\n",
      "  copying xgboost/src/common/bitfield.h -> build/lib.linux-x86_64-3.6/xgboost/src/common\n",
      "  copying xgboost/src/common/categorical.h -> build/lib.linux-x86_64-3.6/xgboost/src/common\n",
      "  copying xgboost/src/common/charconv.cc -> build/lib.linux-x86_64-3.6/xgboost/src/common\n",
      "  copying xgboost/src/common/charconv.h -> build/lib.linux-x86_64-3.6/xgboost/src/common\n",
      "  copying xgboost/src/common/column_matrix.h -> build/lib.linux-x86_64-3.6/xgboost/src/common\n",
      "  copying xgboost/src/common/common.cc -> build/lib.linux-x86_64-3.6/xgboost/src/common\n",
      "  copying xgboost/src/common/common.cu -> build/lib.linux-x86_64-3.6/xgboost/src/common\n",
      "  copying xgboost/src/common/common.h -> build/lib.linux-x86_64-3.6/xgboost/src/common\n",
      "  copying xgboost/src/common/compressed_iterator.h -> build/lib.linux-x86_64-3.6/xgboost/src/common\n",
      "  copying xgboost/src/common/config.h -> build/lib.linux-x86_64-3.6/xgboost/src/common\n",
      "  copying xgboost/src/common/device_helpers.cu -> build/lib.linux-x86_64-3.6/xgboost/src/common\n",
      "  copying xgboost/src/common/device_helpers.cuh -> build/lib.linux-x86_64-3.6/xgboost/src/common\n",
      "  copying xgboost/src/common/group_data.h -> build/lib.linux-x86_64-3.6/xgboost/src/common\n",
      "  copying xgboost/src/common/hist_util.cc -> build/lib.linux-x86_64-3.6/xgboost/src/common\n",
      "  copying xgboost/src/common/hist_util.cu -> build/lib.linux-x86_64-3.6/xgboost/src/common\n",
      "  copying xgboost/src/common/hist_util.cuh -> build/lib.linux-x86_64-3.6/xgboost/src/common\n",
      "  copying xgboost/src/common/hist_util.h -> build/lib.linux-x86_64-3.6/xgboost/src/common\n",
      "  copying xgboost/src/common/host_device_vector.cc -> build/lib.linux-x86_64-3.6/xgboost/src/common\n",
      "  copying xgboost/src/common/host_device_vector.cu -> build/lib.linux-x86_64-3.6/xgboost/src/common\n",
      "  copying xgboost/src/common/io.cc -> build/lib.linux-x86_64-3.6/xgboost/src/common\n",
      "  copying xgboost/src/common/io.h -> build/lib.linux-x86_64-3.6/xgboost/src/common\n",
      "  copying xgboost/src/common/json.cc -> build/lib.linux-x86_64-3.6/xgboost/src/common\n",
      "  copying xgboost/src/common/math.h -> build/lib.linux-x86_64-3.6/xgboost/src/common\n",
      "  copying xgboost/src/common/observer.h -> build/lib.linux-x86_64-3.6/xgboost/src/common\n",
      "  copying xgboost/src/common/probability_distribution.h -> build/lib.linux-x86_64-3.6/xgboost/src/common\n",
      "  copying xgboost/src/common/quantile.cc -> build/lib.linux-x86_64-3.6/xgboost/src/common\n",
      "  copying xgboost/src/common/quantile.cu -> build/lib.linux-x86_64-3.6/xgboost/src/common\n",
      "  copying xgboost/src/common/quantile.cuh -> build/lib.linux-x86_64-3.6/xgboost/src/common\n",
      "  copying xgboost/src/common/quantile.h -> build/lib.linux-x86_64-3.6/xgboost/src/common\n",
      "  copying xgboost/src/common/random.cc -> build/lib.linux-x86_64-3.6/xgboost/src/common\n",
      "  copying xgboost/src/common/random.h -> build/lib.linux-x86_64-3.6/xgboost/src/common\n",
      "  copying xgboost/src/common/ranking_utils.cuh -> build/lib.linux-x86_64-3.6/xgboost/src/common\n",
      "  copying xgboost/src/common/row_set.h -> build/lib.linux-x86_64-3.6/xgboost/src/common\n",
      "  copying xgboost/src/common/survival_util.cc -> build/lib.linux-x86_64-3.6/xgboost/src/common\n",
      "  copying xgboost/src/common/survival_util.h -> build/lib.linux-x86_64-3.6/xgboost/src/common\n",
      "  copying xgboost/src/common/threading_utils.h -> build/lib.linux-x86_64-3.6/xgboost/src/common\n",
      "  copying xgboost/src/common/timer.cc -> build/lib.linux-x86_64-3.6/xgboost/src/common\n",
      "  copying xgboost/src/common/timer.h -> build/lib.linux-x86_64-3.6/xgboost/src/common\n",
      "  copying xgboost/src/common/transform.h -> build/lib.linux-x86_64-3.6/xgboost/src/common\n",
      "  copying xgboost/src/common/version.cc -> build/lib.linux-x86_64-3.6/xgboost/src/common\n",
      "  copying xgboost/src/common/version.h -> build/lib.linux-x86_64-3.6/xgboost/src/common\n",
      "  creating build/lib.linux-x86_64-3.6/xgboost/src/data\n",
      "  copying xgboost/src/data/adapter.h -> build/lib.linux-x86_64-3.6/xgboost/src/data\n",
      "  copying xgboost/src/data/array_interface.cu -> build/lib.linux-x86_64-3.6/xgboost/src/data\n",
      "  copying xgboost/src/data/array_interface.h -> build/lib.linux-x86_64-3.6/xgboost/src/data\n",
      "  copying xgboost/src/data/data.cc -> build/lib.linux-x86_64-3.6/xgboost/src/data\n",
      "  copying xgboost/src/data/data.cu -> build/lib.linux-x86_64-3.6/xgboost/src/data\n",
      "  copying xgboost/src/data/device_adapter.cuh -> build/lib.linux-x86_64-3.6/xgboost/src/data\n",
      "  copying xgboost/src/data/ellpack_page.cc -> build/lib.linux-x86_64-3.6/xgboost/src/data\n",
      "  copying xgboost/src/data/ellpack_page.cu -> build/lib.linux-x86_64-3.6/xgboost/src/data\n",
      "  copying xgboost/src/data/ellpack_page.cuh -> build/lib.linux-x86_64-3.6/xgboost/src/data\n",
      "  copying xgboost/src/data/ellpack_page_raw_format.cu -> build/lib.linux-x86_64-3.6/xgboost/src/data\n",
      "  copying xgboost/src/data/ellpack_page_source.cc -> build/lib.linux-x86_64-3.6/xgboost/src/data\n",
      "  copying xgboost/src/data/ellpack_page_source.cu -> build/lib.linux-x86_64-3.6/xgboost/src/data\n",
      "  copying xgboost/src/data/ellpack_page_source.h -> build/lib.linux-x86_64-3.6/xgboost/src/data\n",
      "  copying xgboost/src/data/iterative_device_dmatrix.cu -> build/lib.linux-x86_64-3.6/xgboost/src/data\n",
      "  copying xgboost/src/data/iterative_device_dmatrix.h -> build/lib.linux-x86_64-3.6/xgboost/src/data\n",
      "  copying xgboost/src/data/proxy_dmatrix.cu -> build/lib.linux-x86_64-3.6/xgboost/src/data\n",
      "  copying xgboost/src/data/proxy_dmatrix.h -> build/lib.linux-x86_64-3.6/xgboost/src/data\n",
      "  copying xgboost/src/data/simple_batch_iterator.h -> build/lib.linux-x86_64-3.6/xgboost/src/data\n",
      "  copying xgboost/src/data/simple_dmatrix.cc -> build/lib.linux-x86_64-3.6/xgboost/src/data\n",
      "  copying xgboost/src/data/simple_dmatrix.cu -> build/lib.linux-x86_64-3.6/xgboost/src/data\n",
      "  copying xgboost/src/data/simple_dmatrix.h -> build/lib.linux-x86_64-3.6/xgboost/src/data\n",
      "  copying xgboost/src/data/sparse_page_dmatrix.cc -> build/lib.linux-x86_64-3.6/xgboost/src/data\n",
      "  copying xgboost/src/data/sparse_page_dmatrix.h -> build/lib.linux-x86_64-3.6/xgboost/src/data\n",
      "  copying xgboost/src/data/sparse_page_raw_format.cc -> build/lib.linux-x86_64-3.6/xgboost/src/data\n",
      "  copying xgboost/src/data/sparse_page_source.cc -> build/lib.linux-x86_64-3.6/xgboost/src/data\n",
      "  copying xgboost/src/data/sparse_page_source.h -> build/lib.linux-x86_64-3.6/xgboost/src/data\n",
      "  copying xgboost/src/data/sparse_page_writer.h -> build/lib.linux-x86_64-3.6/xgboost/src/data\n",
      "  creating build/lib.linux-x86_64-3.6/xgboost/src/gbm\n",
      "  copying xgboost/src/gbm/gblinear.cc -> build/lib.linux-x86_64-3.6/xgboost/src/gbm\n",
      "  copying xgboost/src/gbm/gblinear_model.cc -> build/lib.linux-x86_64-3.6/xgboost/src/gbm\n",
      "  copying xgboost/src/gbm/gblinear_model.h -> build/lib.linux-x86_64-3.6/xgboost/src/gbm\n",
      "  copying xgboost/src/gbm/gbm.cc -> build/lib.linux-x86_64-3.6/xgboost/src/gbm\n",
      "  copying xgboost/src/gbm/gbtree.cc -> build/lib.linux-x86_64-3.6/xgboost/src/gbm\n",
      "  copying xgboost/src/gbm/gbtree.cu -> build/lib.linux-x86_64-3.6/xgboost/src/gbm\n",
      "  copying xgboost/src/gbm/gbtree.h -> build/lib.linux-x86_64-3.6/xgboost/src/gbm\n",
      "  copying xgboost/src/gbm/gbtree_model.cc -> build/lib.linux-x86_64-3.6/xgboost/src/gbm\n",
      "  copying xgboost/src/gbm/gbtree_model.h -> build/lib.linux-x86_64-3.6/xgboost/src/gbm\n",
      "  creating build/lib.linux-x86_64-3.6/xgboost/src/linear\n",
      "  copying xgboost/src/linear/coordinate_common.h -> build/lib.linux-x86_64-3.6/xgboost/src/linear\n",
      "  copying xgboost/src/linear/linear_updater.cc -> build/lib.linux-x86_64-3.6/xgboost/src/linear\n",
      "  copying xgboost/src/linear/param.h -> build/lib.linux-x86_64-3.6/xgboost/src/linear\n",
      "  copying xgboost/src/linear/updater_coordinate.cc -> build/lib.linux-x86_64-3.6/xgboost/src/linear\n",
      "  copying xgboost/src/linear/updater_gpu_coordinate.cu -> build/lib.linux-x86_64-3.6/xgboost/src/linear\n",
      "  copying xgboost/src/linear/updater_shotgun.cc -> build/lib.linux-x86_64-3.6/xgboost/src/linear\n",
      "  creating build/lib.linux-x86_64-3.6/xgboost/src/metric\n",
      "  copying xgboost/src/metric/auc.cc -> build/lib.linux-x86_64-3.6/xgboost/src/metric\n",
      "  copying xgboost/src/metric/auc.cu -> build/lib.linux-x86_64-3.6/xgboost/src/metric\n",
      "  copying xgboost/src/metric/auc.h -> build/lib.linux-x86_64-3.6/xgboost/src/metric\n",
      "  copying xgboost/src/metric/elementwise_metric.cc -> build/lib.linux-x86_64-3.6/xgboost/src/metric\n",
      "  copying xgboost/src/metric/elementwise_metric.cu -> build/lib.linux-x86_64-3.6/xgboost/src/metric\n",
      "  copying xgboost/src/metric/metric.cc -> build/lib.linux-x86_64-3.6/xgboost/src/metric\n",
      "  copying xgboost/src/metric/metric_common.h -> build/lib.linux-x86_64-3.6/xgboost/src/metric\n",
      "  copying xgboost/src/metric/multiclass_metric.cc -> build/lib.linux-x86_64-3.6/xgboost/src/metric\n",
      "  copying xgboost/src/metric/multiclass_metric.cu -> build/lib.linux-x86_64-3.6/xgboost/src/metric\n",
      "  copying xgboost/src/metric/rank_metric.cc -> build/lib.linux-x86_64-3.6/xgboost/src/metric\n",
      "  copying xgboost/src/metric/rank_metric.cu -> build/lib.linux-x86_64-3.6/xgboost/src/metric\n",
      "  copying xgboost/src/metric/survival_metric.cc -> build/lib.linux-x86_64-3.6/xgboost/src/metric\n",
      "  copying xgboost/src/metric/survival_metric.cu -> build/lib.linux-x86_64-3.6/xgboost/src/metric\n",
      "  creating build/lib.linux-x86_64-3.6/xgboost/src/objective\n",
      "  copying xgboost/src/objective/aft_obj.cc -> build/lib.linux-x86_64-3.6/xgboost/src/objective\n",
      "  copying xgboost/src/objective/aft_obj.cu -> build/lib.linux-x86_64-3.6/xgboost/src/objective\n",
      "  copying xgboost/src/objective/hinge.cc -> build/lib.linux-x86_64-3.6/xgboost/src/objective\n",
      "  copying xgboost/src/objective/hinge.cu -> build/lib.linux-x86_64-3.6/xgboost/src/objective\n",
      "  copying xgboost/src/objective/multiclass_obj.cc -> build/lib.linux-x86_64-3.6/xgboost/src/objective\n",
      "  copying xgboost/src/objective/multiclass_obj.cu -> build/lib.linux-x86_64-3.6/xgboost/src/objective\n",
      "  copying xgboost/src/objective/objective.cc -> build/lib.linux-x86_64-3.6/xgboost/src/objective\n",
      "  copying xgboost/src/objective/rank_obj.cc -> build/lib.linux-x86_64-3.6/xgboost/src/objective\n",
      "  copying xgboost/src/objective/rank_obj.cu -> build/lib.linux-x86_64-3.6/xgboost/src/objective\n",
      "  copying xgboost/src/objective/regression_loss.h -> build/lib.linux-x86_64-3.6/xgboost/src/objective\n",
      "  copying xgboost/src/objective/regression_obj.cc -> build/lib.linux-x86_64-3.6/xgboost/src/objective\n",
      "  copying xgboost/src/objective/regression_obj.cu -> build/lib.linux-x86_64-3.6/xgboost/src/objective\n",
      "  creating build/lib.linux-x86_64-3.6/xgboost/src/predictor\n",
      "  copying xgboost/src/predictor/cpu_predictor.cc -> build/lib.linux-x86_64-3.6/xgboost/src/predictor\n",
      "  copying xgboost/src/predictor/gpu_predictor.cu -> build/lib.linux-x86_64-3.6/xgboost/src/predictor\n",
      "  copying xgboost/src/predictor/predictor.cc -> build/lib.linux-x86_64-3.6/xgboost/src/predictor\n",
      "  creating build/lib.linux-x86_64-3.6/xgboost/src/tree\n",
      "  copying xgboost/src/tree/constraints.cc -> build/lib.linux-x86_64-3.6/xgboost/src/tree\n",
      "  copying xgboost/src/tree/constraints.cu -> build/lib.linux-x86_64-3.6/xgboost/src/tree\n",
      "  copying xgboost/src/tree/constraints.cuh -> build/lib.linux-x86_64-3.6/xgboost/src/tree\n",
      "  copying xgboost/src/tree/constraints.h -> build/lib.linux-x86_64-3.6/xgboost/src/tree\n",
      "  copying xgboost/src/tree/param.cc -> build/lib.linux-x86_64-3.6/xgboost/src/tree\n",
      "  copying xgboost/src/tree/param.h -> build/lib.linux-x86_64-3.6/xgboost/src/tree\n",
      "  copying xgboost/src/tree/split_evaluator.h -> build/lib.linux-x86_64-3.6/xgboost/src/tree\n",
      "  copying xgboost/src/tree/tree_model.cc -> build/lib.linux-x86_64-3.6/xgboost/src/tree\n",
      "  copying xgboost/src/tree/tree_updater.cc -> build/lib.linux-x86_64-3.6/xgboost/src/tree\n",
      "  copying xgboost/src/tree/updater_basemaker-inl.h -> build/lib.linux-x86_64-3.6/xgboost/src/tree\n",
      "  copying xgboost/src/tree/updater_colmaker.cc -> build/lib.linux-x86_64-3.6/xgboost/src/tree\n",
      "  copying xgboost/src/tree/updater_gpu_common.cuh -> build/lib.linux-x86_64-3.6/xgboost/src/tree\n",
      "  copying xgboost/src/tree/updater_gpu_hist.cu -> build/lib.linux-x86_64-3.6/xgboost/src/tree\n",
      "  copying xgboost/src/tree/updater_histmaker.cc -> build/lib.linux-x86_64-3.6/xgboost/src/tree\n",
      "  copying xgboost/src/tree/updater_prune.cc -> build/lib.linux-x86_64-3.6/xgboost/src/tree\n",
      "  copying xgboost/src/tree/updater_quantile_hist.cc -> build/lib.linux-x86_64-3.6/xgboost/src/tree\n",
      "  copying xgboost/src/tree/updater_quantile_hist.h -> build/lib.linux-x86_64-3.6/xgboost/src/tree\n",
      "  copying xgboost/src/tree/updater_refresh.cc -> build/lib.linux-x86_64-3.6/xgboost/src/tree\n",
      "  copying xgboost/src/tree/updater_sync.cc -> build/lib.linux-x86_64-3.6/xgboost/src/tree\n",
      "  creating build/lib.linux-x86_64-3.6/xgboost/src/tree/gpu_hist\n",
      "  copying xgboost/src/tree/gpu_hist/driver.cuh -> build/lib.linux-x86_64-3.6/xgboost/src/tree/gpu_hist\n",
      "  copying xgboost/src/tree/gpu_hist/evaluate_splits.cu -> build/lib.linux-x86_64-3.6/xgboost/src/tree/gpu_hist\n",
      "  copying xgboost/src/tree/gpu_hist/evaluate_splits.cuh -> build/lib.linux-x86_64-3.6/xgboost/src/tree/gpu_hist\n",
      "  copying xgboost/src/tree/gpu_hist/feature_groups.cu -> build/lib.linux-x86_64-3.6/xgboost/src/tree/gpu_hist\n",
      "  copying xgboost/src/tree/gpu_hist/feature_groups.cuh -> build/lib.linux-x86_64-3.6/xgboost/src/tree/gpu_hist\n",
      "  copying xgboost/src/tree/gpu_hist/gradient_based_sampler.cu -> build/lib.linux-x86_64-3.6/xgboost/src/tree/gpu_hist\n",
      "  copying xgboost/src/tree/gpu_hist/gradient_based_sampler.cuh -> build/lib.linux-x86_64-3.6/xgboost/src/tree/gpu_hist\n",
      "  copying xgboost/src/tree/gpu_hist/histogram.cu -> build/lib.linux-x86_64-3.6/xgboost/src/tree/gpu_hist\n",
      "  copying xgboost/src/tree/gpu_hist/histogram.cuh -> build/lib.linux-x86_64-3.6/xgboost/src/tree/gpu_hist\n",
      "  copying xgboost/src/tree/gpu_hist/row_partitioner.cu -> build/lib.linux-x86_64-3.6/xgboost/src/tree/gpu_hist\n",
      "  copying xgboost/src/tree/gpu_hist/row_partitioner.cuh -> build/lib.linux-x86_64-3.6/xgboost/src/tree/gpu_hist\n",
      "  running build_ext\n",
      "  creating build/temp.linux-x86_64-3.6\n",
      "  creating build/temp.linux-x86_64-3.6/xgboost\n",
      "  creating build/temp.linux-x86_64-3.6/xgboost/src\n",
      "  copying xgboost/src/CMakeLists.txt -> build/temp.linux-x86_64-3.6/xgboost/src\n",
      "  creating build/temp.linux-x86_64-3.6/xgboost/src/linear\n",
      "  copying xgboost/src/linear/updater_shotgun.cc -> build/temp.linux-x86_64-3.6/xgboost/src/linear\n",
      "  copying xgboost/src/linear/linear_updater.cc -> build/temp.linux-x86_64-3.6/xgboost/src/linear\n",
      "  copying xgboost/src/linear/updater_gpu_coordinate.cu -> build/temp.linux-x86_64-3.6/xgboost/src/linear\n",
      "  copying xgboost/src/linear/coordinate_common.h -> build/temp.linux-x86_64-3.6/xgboost/src/linear\n",
      "  copying xgboost/src/linear/param.h -> build/temp.linux-x86_64-3.6/xgboost/src/linear\n",
      "  copying xgboost/src/linear/updater_coordinate.cc -> build/temp.linux-x86_64-3.6/xgboost/src/linear\n",
      "  copying xgboost/src/logging.cc -> build/temp.linux-x86_64-3.6/xgboost/src\n",
      "  copying xgboost/src/global_config.cc -> build/temp.linux-x86_64-3.6/xgboost/src\n",
      "  copying xgboost/src/cli_main.cc -> build/temp.linux-x86_64-3.6/xgboost/src\n",
      "  creating build/temp.linux-x86_64-3.6/xgboost/src/metric\n",
      "  copying xgboost/src/metric/metric.cc -> build/temp.linux-x86_64-3.6/xgboost/src/metric\n",
      "  copying xgboost/src/metric/rank_metric.cu -> build/temp.linux-x86_64-3.6/xgboost/src/metric\n",
      "  copying xgboost/src/metric/auc.h -> build/temp.linux-x86_64-3.6/xgboost/src/metric\n",
      "  copying xgboost/src/metric/auc.cu -> build/temp.linux-x86_64-3.6/xgboost/src/metric\n",
      "  copying xgboost/src/metric/elementwise_metric.cc -> build/temp.linux-x86_64-3.6/xgboost/src/metric\n",
      "  copying xgboost/src/metric/metric_common.h -> build/temp.linux-x86_64-3.6/xgboost/src/metric\n",
      "  copying xgboost/src/metric/multiclass_metric.cc -> build/temp.linux-x86_64-3.6/xgboost/src/metric\n",
      "  copying xgboost/src/metric/survival_metric.cu -> build/temp.linux-x86_64-3.6/xgboost/src/metric\n",
      "  copying xgboost/src/metric/elementwise_metric.cu -> build/temp.linux-x86_64-3.6/xgboost/src/metric\n",
      "  copying xgboost/src/metric/survival_metric.cc -> build/temp.linux-x86_64-3.6/xgboost/src/metric\n",
      "  copying xgboost/src/metric/auc.cc -> build/temp.linux-x86_64-3.6/xgboost/src/metric\n",
      "  copying xgboost/src/metric/rank_metric.cc -> build/temp.linux-x86_64-3.6/xgboost/src/metric\n",
      "  copying xgboost/src/metric/multiclass_metric.cu -> build/temp.linux-x86_64-3.6/xgboost/src/metric\n",
      "  copying xgboost/src/learner.cc -> build/temp.linux-x86_64-3.6/xgboost/src\n",
      "  creating build/temp.linux-x86_64-3.6/xgboost/src/objective\n",
      "  copying xgboost/src/objective/hinge.cu -> build/temp.linux-x86_64-3.6/xgboost/src/objective\n",
      "  copying xgboost/src/objective/hinge.cc -> build/temp.linux-x86_64-3.6/xgboost/src/objective\n",
      "  copying xgboost/src/objective/rank_obj.cc -> build/temp.linux-x86_64-3.6/xgboost/src/objective\n",
      "  copying xgboost/src/objective/regression_loss.h -> build/temp.linux-x86_64-3.6/xgboost/src/objective\n",
      "  copying xgboost/src/objective/aft_obj.cu -> build/temp.linux-x86_64-3.6/xgboost/src/objective\n",
      "  copying xgboost/src/objective/regression_obj.cu -> build/temp.linux-x86_64-3.6/xgboost/src/objective\n",
      "  copying xgboost/src/objective/multiclass_obj.cu -> build/temp.linux-x86_64-3.6/xgboost/src/objective\n",
      "  copying xgboost/src/objective/objective.cc -> build/temp.linux-x86_64-3.6/xgboost/src/objective\n",
      "  copying xgboost/src/objective/aft_obj.cc -> build/temp.linux-x86_64-3.6/xgboost/src/objective\n",
      "  copying xgboost/src/objective/multiclass_obj.cc -> build/temp.linux-x86_64-3.6/xgboost/src/objective\n",
      "  copying xgboost/src/objective/rank_obj.cu -> build/temp.linux-x86_64-3.6/xgboost/src/objective\n",
      "  copying xgboost/src/objective/regression_obj.cc -> build/temp.linux-x86_64-3.6/xgboost/src/objective\n",
      "  creating build/temp.linux-x86_64-3.6/xgboost/src/predictor\n",
      "  copying xgboost/src/predictor/cpu_predictor.cc -> build/temp.linux-x86_64-3.6/xgboost/src/predictor\n",
      "  copying xgboost/src/predictor/gpu_predictor.cu -> build/temp.linux-x86_64-3.6/xgboost/src/predictor\n",
      "  copying xgboost/src/predictor/predictor.cc -> build/temp.linux-x86_64-3.6/xgboost/src/predictor\n",
      "  creating build/temp.linux-x86_64-3.6/xgboost/src/c_api\n",
      "  copying xgboost/src/c_api/c_api_error.cc -> build/temp.linux-x86_64-3.6/xgboost/src/c_api\n",
      "  copying xgboost/src/c_api/c_api.cc -> build/temp.linux-x86_64-3.6/xgboost/src/c_api\n",
      "  copying xgboost/src/c_api/c_api_error.h -> build/temp.linux-x86_64-3.6/xgboost/src/c_api\n",
      "  copying xgboost/src/c_api/c_api.cu -> build/temp.linux-x86_64-3.6/xgboost/src/c_api\n",
      "  copying xgboost/src/c_api/c_api_utils.h -> build/temp.linux-x86_64-3.6/xgboost/src/c_api\n",
      "  creating build/temp.linux-x86_64-3.6/xgboost/src/gbm\n",
      "  copying xgboost/src/gbm/gblinear_model.h -> build/temp.linux-x86_64-3.6/xgboost/src/gbm\n",
      "  copying xgboost/src/gbm/gbtree_model.cc -> build/temp.linux-x86_64-3.6/xgboost/src/gbm\n",
      "  copying xgboost/src/gbm/gbtree_model.h -> build/temp.linux-x86_64-3.6/xgboost/src/gbm\n",
      "  copying xgboost/src/gbm/gbm.cc -> build/temp.linux-x86_64-3.6/xgboost/src/gbm\n",
      "  copying xgboost/src/gbm/gbtree.cc -> build/temp.linux-x86_64-3.6/xgboost/src/gbm\n",
      "  copying xgboost/src/gbm/gblinear.cc -> build/temp.linux-x86_64-3.6/xgboost/src/gbm\n",
      "  copying xgboost/src/gbm/gblinear_model.cc -> build/temp.linux-x86_64-3.6/xgboost/src/gbm\n",
      "  copying xgboost/src/gbm/gbtree.cu -> build/temp.linux-x86_64-3.6/xgboost/src/gbm\n",
      "  copying xgboost/src/gbm/gbtree.h -> build/temp.linux-x86_64-3.6/xgboost/src/gbm\n",
      "  creating build/temp.linux-x86_64-3.6/xgboost/src/common\n",
      "  copying xgboost/src/common/json.cc -> build/temp.linux-x86_64-3.6/xgboost/src/common\n",
      "  copying xgboost/src/common/charconv.cc -> build/temp.linux-x86_64-3.6/xgboost/src/common\n",
      "  copying xgboost/src/common/random.h -> build/temp.linux-x86_64-3.6/xgboost/src/common\n",
      "  copying xgboost/src/common/compressed_iterator.h -> build/temp.linux-x86_64-3.6/xgboost/src/common\n",
      "  copying xgboost/src/common/quantile.cuh -> build/temp.linux-x86_64-3.6/xgboost/src/common\n",
      "  copying xgboost/src/common/config.h -> build/temp.linux-x86_64-3.6/xgboost/src/common\n",
      "  copying xgboost/src/common/hist_util.h -> build/temp.linux-x86_64-3.6/xgboost/src/common\n",
      "  copying xgboost/src/common/survival_util.cc -> build/temp.linux-x86_64-3.6/xgboost/src/common\n",
      "  copying xgboost/src/common/hist_util.cc -> build/temp.linux-x86_64-3.6/xgboost/src/common\n",
      "  copying xgboost/src/common/host_device_vector.cc -> build/temp.linux-x86_64-3.6/xgboost/src/common\n",
      "  copying xgboost/src/common/common.h -> build/temp.linux-x86_64-3.6/xgboost/src/common\n",
      "  copying xgboost/src/common/common.cu -> build/temp.linux-x86_64-3.6/xgboost/src/common\n",
      "  copying xgboost/src/common/probability_distribution.h -> build/temp.linux-x86_64-3.6/xgboost/src/common\n",
      "  copying xgboost/src/common/bitfield.h -> build/temp.linux-x86_64-3.6/xgboost/src/common\n",
      "  copying xgboost/src/common/survival_util.h -> build/temp.linux-x86_64-3.6/xgboost/src/common\n",
      "  copying xgboost/src/common/timer.cc -> build/temp.linux-x86_64-3.6/xgboost/src/common\n",
      "  copying xgboost/src/common/io.cc -> build/temp.linux-x86_64-3.6/xgboost/src/common\n",
      "  copying xgboost/src/common/column_matrix.h -> build/temp.linux-x86_64-3.6/xgboost/src/common\n",
      "  copying xgboost/src/common/device_helpers.cuh -> build/temp.linux-x86_64-3.6/xgboost/src/common\n",
      "  copying xgboost/src/common/device_helpers.cu -> build/temp.linux-x86_64-3.6/xgboost/src/common\n",
      "  copying xgboost/src/common/io.h -> build/temp.linux-x86_64-3.6/xgboost/src/common\n",
      "  copying xgboost/src/common/hist_util.cuh -> build/temp.linux-x86_64-3.6/xgboost/src/common\n",
      "  copying xgboost/src/common/quantile.cc -> build/temp.linux-x86_64-3.6/xgboost/src/common\n",
      "  copying xgboost/src/common/quantile.h -> build/temp.linux-x86_64-3.6/xgboost/src/common\n",
      "  copying xgboost/src/common/observer.h -> build/temp.linux-x86_64-3.6/xgboost/src/common\n",
      "  copying xgboost/src/common/host_device_vector.cu -> build/temp.linux-x86_64-3.6/xgboost/src/common\n",
      "  copying xgboost/src/common/version.h -> build/temp.linux-x86_64-3.6/xgboost/src/common\n",
      "  copying xgboost/src/common/math.h -> build/temp.linux-x86_64-3.6/xgboost/src/common\n",
      "  copying xgboost/src/common/categorical.h -> build/temp.linux-x86_64-3.6/xgboost/src/common\n",
      "  copying xgboost/src/common/timer.h -> build/temp.linux-x86_64-3.6/xgboost/src/common\n",
      "  copying xgboost/src/common/quantile.cu -> build/temp.linux-x86_64-3.6/xgboost/src/common\n",
      "  copying xgboost/src/common/base64.h -> build/temp.linux-x86_64-3.6/xgboost/src/common\n",
      "  copying xgboost/src/common/version.cc -> build/temp.linux-x86_64-3.6/xgboost/src/common\n",
      "  copying xgboost/src/common/threading_utils.h -> build/temp.linux-x86_64-3.6/xgboost/src/common\n",
      "  copying xgboost/src/common/hist_util.cu -> build/temp.linux-x86_64-3.6/xgboost/src/common\n",
      "  copying xgboost/src/common/transform.h -> build/temp.linux-x86_64-3.6/xgboost/src/common\n",
      "  copying xgboost/src/common/random.cc -> build/temp.linux-x86_64-3.6/xgboost/src/common\n",
      "  copying xgboost/src/common/group_data.h -> build/temp.linux-x86_64-3.6/xgboost/src/common\n",
      "  copying xgboost/src/common/ranking_utils.cuh -> build/temp.linux-x86_64-3.6/xgboost/src/common\n",
      "  copying xgboost/src/common/charconv.h -> build/temp.linux-x86_64-3.6/xgboost/src/common\n",
      "  copying xgboost/src/common/common.cc -> build/temp.linux-x86_64-3.6/xgboost/src/common\n",
      "  copying xgboost/src/common/row_set.h -> build/temp.linux-x86_64-3.6/xgboost/src/common\n",
      "  creating build/temp.linux-x86_64-3.6/xgboost/src/tree\n",
      "  copying xgboost/src/tree/constraints.cu -> build/temp.linux-x86_64-3.6/xgboost/src/tree\n",
      "  creating build/temp.linux-x86_64-3.6/xgboost/src/tree/gpu_hist\n",
      "  copying xgboost/src/tree/gpu_hist/histogram.cuh -> build/temp.linux-x86_64-3.6/xgboost/src/tree/gpu_hist\n",
      "  copying xgboost/src/tree/gpu_hist/evaluate_splits.cu -> build/temp.linux-x86_64-3.6/xgboost/src/tree/gpu_hist\n",
      "  copying xgboost/src/tree/gpu_hist/gradient_based_sampler.cu -> build/temp.linux-x86_64-3.6/xgboost/src/tree/gpu_hist\n",
      "  copying xgboost/src/tree/gpu_hist/row_partitioner.cuh -> build/temp.linux-x86_64-3.6/xgboost/src/tree/gpu_hist\n",
      "  copying xgboost/src/tree/gpu_hist/histogram.cu -> build/temp.linux-x86_64-3.6/xgboost/src/tree/gpu_hist\n",
      "  copying xgboost/src/tree/gpu_hist/gradient_based_sampler.cuh -> build/temp.linux-x86_64-3.6/xgboost/src/tree/gpu_hist\n",
      "  copying xgboost/src/tree/gpu_hist/feature_groups.cu -> build/temp.linux-x86_64-3.6/xgboost/src/tree/gpu_hist\n",
      "  copying xgboost/src/tree/gpu_hist/evaluate_splits.cuh -> build/temp.linux-x86_64-3.6/xgboost/src/tree/gpu_hist\n",
      "  copying xgboost/src/tree/gpu_hist/driver.cuh -> build/temp.linux-x86_64-3.6/xgboost/src/tree/gpu_hist\n",
      "  copying xgboost/src/tree/gpu_hist/row_partitioner.cu -> build/temp.linux-x86_64-3.6/xgboost/src/tree/gpu_hist\n",
      "  copying xgboost/src/tree/gpu_hist/feature_groups.cuh -> build/temp.linux-x86_64-3.6/xgboost/src/tree/gpu_hist\n",
      "  copying xgboost/src/tree/updater_histmaker.cc -> build/temp.linux-x86_64-3.6/xgboost/src/tree\n",
      "  copying xgboost/src/tree/updater_sync.cc -> build/temp.linux-x86_64-3.6/xgboost/src/tree\n",
      "  copying xgboost/src/tree/updater_quantile_hist.cc -> build/temp.linux-x86_64-3.6/xgboost/src/tree\n",
      "  copying xgboost/src/tree/updater_colmaker.cc -> build/temp.linux-x86_64-3.6/xgboost/src/tree\n",
      "  copying xgboost/src/tree/updater_gpu_common.cuh -> build/temp.linux-x86_64-3.6/xgboost/src/tree\n",
      "  copying xgboost/src/tree/param.cc -> build/temp.linux-x86_64-3.6/xgboost/src/tree\n",
      "  copying xgboost/src/tree/constraints.cc -> build/temp.linux-x86_64-3.6/xgboost/src/tree\n",
      "  copying xgboost/src/tree/tree_model.cc -> build/temp.linux-x86_64-3.6/xgboost/src/tree\n",
      "  copying xgboost/src/tree/updater_gpu_hist.cu -> build/temp.linux-x86_64-3.6/xgboost/src/tree\n",
      "  copying xgboost/src/tree/updater_basemaker-inl.h -> build/temp.linux-x86_64-3.6/xgboost/src/tree\n",
      "  copying xgboost/src/tree/constraints.h -> build/temp.linux-x86_64-3.6/xgboost/src/tree\n",
      "  copying xgboost/src/tree/tree_updater.cc -> build/temp.linux-x86_64-3.6/xgboost/src/tree\n",
      "  copying xgboost/src/tree/updater_quantile_hist.h -> build/temp.linux-x86_64-3.6/xgboost/src/tree\n",
      "  copying xgboost/src/tree/split_evaluator.h -> build/temp.linux-x86_64-3.6/xgboost/src/tree\n",
      "  copying xgboost/src/tree/param.h -> build/temp.linux-x86_64-3.6/xgboost/src/tree\n",
      "  copying xgboost/src/tree/constraints.cuh -> build/temp.linux-x86_64-3.6/xgboost/src/tree\n",
      "  copying xgboost/src/tree/updater_prune.cc -> build/temp.linux-x86_64-3.6/xgboost/src/tree\n",
      "  copying xgboost/src/tree/updater_refresh.cc -> build/temp.linux-x86_64-3.6/xgboost/src/tree\n",
      "  creating build/temp.linux-x86_64-3.6/xgboost/src/data\n",
      "  copying xgboost/src/data/proxy_dmatrix.h -> build/temp.linux-x86_64-3.6/xgboost/src/data\n",
      "  copying xgboost/src/data/sparse_page_dmatrix.h -> build/temp.linux-x86_64-3.6/xgboost/src/data\n",
      "  copying xgboost/src/data/ellpack_page.cc -> build/temp.linux-x86_64-3.6/xgboost/src/data\n",
      "  copying xgboost/src/data/ellpack_page_source.cu -> build/temp.linux-x86_64-3.6/xgboost/src/data\n",
      "  copying xgboost/src/data/sparse_page_dmatrix.cc -> build/temp.linux-x86_64-3.6/xgboost/src/data\n",
      "  copying xgboost/src/data/ellpack_page_source.h -> build/temp.linux-x86_64-3.6/xgboost/src/data\n",
      "  copying xgboost/src/data/sparse_page_source.cc -> build/temp.linux-x86_64-3.6/xgboost/src/data\n",
      "  copying xgboost/src/data/proxy_dmatrix.cu -> build/temp.linux-x86_64-3.6/xgboost/src/data\n",
      "  copying xgboost/src/data/simple_dmatrix.cc -> build/temp.linux-x86_64-3.6/xgboost/src/data\n",
      "  copying xgboost/src/data/array_interface.cu -> build/temp.linux-x86_64-3.6/xgboost/src/data\n",
      "  copying xgboost/src/data/simple_batch_iterator.h -> build/temp.linux-x86_64-3.6/xgboost/src/data\n",
      "  copying xgboost/src/data/ellpack_page.cuh -> build/temp.linux-x86_64-3.6/xgboost/src/data\n",
      "  copying xgboost/src/data/sparse_page_writer.h -> build/temp.linux-x86_64-3.6/xgboost/src/data\n",
      "  copying xgboost/src/data/sparse_page_raw_format.cc -> build/temp.linux-x86_64-3.6/xgboost/src/data\n",
      "  copying xgboost/src/data/iterative_device_dmatrix.h -> build/temp.linux-x86_64-3.6/xgboost/src/data\n",
      "  copying xgboost/src/data/data.cc -> build/temp.linux-x86_64-3.6/xgboost/src/data\n",
      "  copying xgboost/src/data/array_interface.h -> build/temp.linux-x86_64-3.6/xgboost/src/data\n",
      "  copying xgboost/src/data/ellpack_page_raw_format.cu -> build/temp.linux-x86_64-3.6/xgboost/src/data\n",
      "  copying xgboost/src/data/ellpack_page.cu -> build/temp.linux-x86_64-3.6/xgboost/src/data\n",
      "  copying xgboost/src/data/data.cu -> build/temp.linux-x86_64-3.6/xgboost/src/data\n",
      "  copying xgboost/src/data/device_adapter.cuh -> build/temp.linux-x86_64-3.6/xgboost/src/data\n",
      "  copying xgboost/src/data/adapter.h -> build/temp.linux-x86_64-3.6/xgboost/src/data\n",
      "  copying xgboost/src/data/simple_dmatrix.h -> build/temp.linux-x86_64-3.6/xgboost/src/data\n",
      "  copying xgboost/src/data/ellpack_page_source.cc -> build/temp.linux-x86_64-3.6/xgboost/src/data\n",
      "  copying xgboost/src/data/simple_dmatrix.cu -> build/temp.linux-x86_64-3.6/xgboost/src/data\n",
      "  copying xgboost/src/data/sparse_page_source.h -> build/temp.linux-x86_64-3.6/xgboost/src/data\n",
      "  copying xgboost/src/data/iterative_device_dmatrix.cu -> build/temp.linux-x86_64-3.6/xgboost/src/data\n",
      "  creating build/temp.linux-x86_64-3.6/xgboost/include\n",
      "  creating build/temp.linux-x86_64-3.6/xgboost/include/xgboost\n",
      "  copying xgboost/include/xgboost/linear_updater.h -> build/temp.linux-x86_64-3.6/xgboost/include/xgboost\n",
      "  copying xgboost/include/xgboost/global_config.h -> build/temp.linux-x86_64-3.6/xgboost/include/xgboost\n",
      "  copying xgboost/include/xgboost/feature_map.h -> build/temp.linux-x86_64-3.6/xgboost/include/xgboost\n",
      "  copying xgboost/include/xgboost/data.h -> build/temp.linux-x86_64-3.6/xgboost/include/xgboost\n",
      "  copying xgboost/include/xgboost/objective.h -> build/temp.linux-x86_64-3.6/xgboost/include/xgboost\n",
      "  copying xgboost/include/xgboost/learner.h -> build/temp.linux-x86_64-3.6/xgboost/include/xgboost\n",
      "  copying xgboost/include/xgboost/host_device_vector.h -> build/temp.linux-x86_64-3.6/xgboost/include/xgboost\n",
      "  copying xgboost/include/xgboost/metric.h -> build/temp.linux-x86_64-3.6/xgboost/include/xgboost\n",
      "  copying xgboost/include/xgboost/c_api.h -> build/temp.linux-x86_64-3.6/xgboost/include/xgboost\n",
      "  copying xgboost/include/xgboost/json.h -> build/temp.linux-x86_64-3.6/xgboost/include/xgboost\n",
      "  copying xgboost/include/xgboost/logging.h -> build/temp.linux-x86_64-3.6/xgboost/include/xgboost\n",
      "  copying xgboost/include/xgboost/tree_updater.h -> build/temp.linux-x86_64-3.6/xgboost/include/xgboost\n",
      "  copying xgboost/include/xgboost/base.h -> build/temp.linux-x86_64-3.6/xgboost/include/xgboost\n",
      "  copying xgboost/include/xgboost/model.h -> build/temp.linux-x86_64-3.6/xgboost/include/xgboost\n",
      "  copying xgboost/include/xgboost/json_io.h -> build/temp.linux-x86_64-3.6/xgboost/include/xgboost\n",
      "  copying xgboost/include/xgboost/generic_parameters.h -> build/temp.linux-x86_64-3.6/xgboost/include/xgboost\n",
      "  copying xgboost/include/xgboost/intrusive_ptr.h -> build/temp.linux-x86_64-3.6/xgboost/include/xgboost\n",
      "  copying xgboost/include/xgboost/predictor.h -> build/temp.linux-x86_64-3.6/xgboost/include/xgboost\n",
      "  copying xgboost/include/xgboost/parameter.h -> build/temp.linux-x86_64-3.6/xgboost/include/xgboost\n",
      "  copying xgboost/include/xgboost/gbm.h -> build/temp.linux-x86_64-3.6/xgboost/include/xgboost\n",
      "  copying xgboost/include/xgboost/span.h -> build/temp.linux-x86_64-3.6/xgboost/include/xgboost\n",
      "  copying xgboost/include/xgboost/version_config.h -> build/temp.linux-x86_64-3.6/xgboost/include/xgboost\n",
      "  copying xgboost/include/xgboost/tree_model.h -> build/temp.linux-x86_64-3.6/xgboost/include/xgboost\n",
      "  creating build/temp.linux-x86_64-3.6/xgboost/dmlc-core\n",
      "  copying xgboost/dmlc-core/CMakeLists.txt -> build/temp.linux-x86_64-3.6/xgboost/dmlc-core\n",
      "  creating build/temp.linux-x86_64-3.6/xgboost/dmlc-core/src\n",
      "  copying xgboost/dmlc-core/src/config.cc -> build/temp.linux-x86_64-3.6/xgboost/dmlc-core/src\n",
      "  copying xgboost/dmlc-core/src/io.cc -> build/temp.linux-x86_64-3.6/xgboost/dmlc-core/src\n",
      "  copying xgboost/dmlc-core/src/data.cc -> build/temp.linux-x86_64-3.6/xgboost/dmlc-core/src\n",
      "  copying xgboost/dmlc-core/src/recordio.cc -> build/temp.linux-x86_64-3.6/xgboost/dmlc-core/src\n",
      "  creating build/temp.linux-x86_64-3.6/xgboost/dmlc-core/src/data\n",
      "  copying xgboost/dmlc-core/src/data/text_parser.h -> build/temp.linux-x86_64-3.6/xgboost/dmlc-core/src/data\n",
      "  copying xgboost/dmlc-core/src/data/row_block.h -> build/temp.linux-x86_64-3.6/xgboost/dmlc-core/src/data\n",
      "  copying xgboost/dmlc-core/src/data/csv_parser.h -> build/temp.linux-x86_64-3.6/xgboost/dmlc-core/src/data\n",
      "  copying xgboost/dmlc-core/src/data/basic_row_iter.h -> build/temp.linux-x86_64-3.6/xgboost/dmlc-core/src/data\n",
      "  copying xgboost/dmlc-core/src/data/disk_row_iter.h -> build/temp.linux-x86_64-3.6/xgboost/dmlc-core/src/data\n",
      "  copying xgboost/dmlc-core/src/data/libsvm_parser.h -> build/temp.linux-x86_64-3.6/xgboost/dmlc-core/src/data\n",
      "  copying xgboost/dmlc-core/src/data/libfm_parser.h -> build/temp.linux-x86_64-3.6/xgboost/dmlc-core/src/data\n",
      "  copying xgboost/dmlc-core/src/data/parser.h -> build/temp.linux-x86_64-3.6/xgboost/dmlc-core/src/data\n",
      "  creating build/temp.linux-x86_64-3.6/xgboost/dmlc-core/src/io\n",
      "  copying xgboost/dmlc-core/src/io/uri_spec.h -> build/temp.linux-x86_64-3.6/xgboost/dmlc-core/src/io\n",
      "  copying xgboost/dmlc-core/src/io/threaded_input_split.h -> build/temp.linux-x86_64-3.6/xgboost/dmlc-core/src/io\n",
      "  copying xgboost/dmlc-core/src/io/hdfs_filesys.h -> build/temp.linux-x86_64-3.6/xgboost/dmlc-core/src/io\n",
      "  copying xgboost/dmlc-core/src/io/input_split_base.h -> build/temp.linux-x86_64-3.6/xgboost/dmlc-core/src/io\n",
      "  copying xgboost/dmlc-core/src/io/azure_filesys.cc -> build/temp.linux-x86_64-3.6/xgboost/dmlc-core/src/io\n",
      "  copying xgboost/dmlc-core/src/io/filesys.cc -> build/temp.linux-x86_64-3.6/xgboost/dmlc-core/src/io\n",
      "  copying xgboost/dmlc-core/src/io/recordio_split.h -> build/temp.linux-x86_64-3.6/xgboost/dmlc-core/src/io\n",
      "  copying xgboost/dmlc-core/src/io/cached_input_split.h -> build/temp.linux-x86_64-3.6/xgboost/dmlc-core/src/io\n",
      "  copying xgboost/dmlc-core/src/io/indexed_recordio_split.cc -> build/temp.linux-x86_64-3.6/xgboost/dmlc-core/src/io\n",
      "  copying xgboost/dmlc-core/src/io/single_threaded_input_split.h -> build/temp.linux-x86_64-3.6/xgboost/dmlc-core/src/io\n",
      "  copying xgboost/dmlc-core/src/io/azure_filesys.h -> build/temp.linux-x86_64-3.6/xgboost/dmlc-core/src/io\n",
      "  copying xgboost/dmlc-core/src/io/s3_filesys.h -> build/temp.linux-x86_64-3.6/xgboost/dmlc-core/src/io\n",
      "  copying xgboost/dmlc-core/src/io/s3_filesys.cc -> build/temp.linux-x86_64-3.6/xgboost/dmlc-core/src/io\n",
      "  copying xgboost/dmlc-core/src/io/input_split_base.cc -> build/temp.linux-x86_64-3.6/xgboost/dmlc-core/src/io\n",
      "  copying xgboost/dmlc-core/src/io/indexed_recordio_split.h -> build/temp.linux-x86_64-3.6/xgboost/dmlc-core/src/io\n",
      "  copying xgboost/dmlc-core/src/io/line_split.cc -> build/temp.linux-x86_64-3.6/xgboost/dmlc-core/src/io\n",
      "  copying xgboost/dmlc-core/src/io/hdfs_filesys.cc -> build/temp.linux-x86_64-3.6/xgboost/dmlc-core/src/io\n",
      "  copying xgboost/dmlc-core/src/io/line_split.h -> build/temp.linux-x86_64-3.6/xgboost/dmlc-core/src/io\n",
      "  copying xgboost/dmlc-core/src/io/local_filesys.cc -> build/temp.linux-x86_64-3.6/xgboost/dmlc-core/src/io\n",
      "  copying xgboost/dmlc-core/src/io/recordio_split.cc -> build/temp.linux-x86_64-3.6/xgboost/dmlc-core/src/io\n",
      "  copying xgboost/dmlc-core/src/io/local_filesys.h -> build/temp.linux-x86_64-3.6/xgboost/dmlc-core/src/io\n",
      "  copying xgboost/dmlc-core/src/io/single_file_split.h -> build/temp.linux-x86_64-3.6/xgboost/dmlc-core/src/io\n",
      "  creating build/temp.linux-x86_64-3.6/xgboost/dmlc-core/include\n",
      "  creating build/temp.linux-x86_64-3.6/xgboost/dmlc-core/include/dmlc\n",
      "  copying xgboost/dmlc-core/include/dmlc/optional.h -> build/temp.linux-x86_64-3.6/xgboost/dmlc-core/include/dmlc\n",
      "  copying xgboost/dmlc-core/include/dmlc/memory.h -> build/temp.linux-x86_64-3.6/xgboost/dmlc-core/include/dmlc\n",
      "  copying xgboost/dmlc-core/include/dmlc/blockingconcurrentqueue.h -> build/temp.linux-x86_64-3.6/xgboost/dmlc-core/include/dmlc\n",
      "  copying xgboost/dmlc-core/include/dmlc/input_split_shuffle.h -> build/temp.linux-x86_64-3.6/xgboost/dmlc-core/include/dmlc\n",
      "  copying xgboost/dmlc-core/include/dmlc/config.h -> build/temp.linux-x86_64-3.6/xgboost/dmlc-core/include/dmlc\n",
      "  copying xgboost/dmlc-core/include/dmlc/array_view.h -> build/temp.linux-x86_64-3.6/xgboost/dmlc-core/include/dmlc\n",
      "  copying xgboost/dmlc-core/include/dmlc/data.h -> build/temp.linux-x86_64-3.6/xgboost/dmlc-core/include/dmlc\n",
      "  copying xgboost/dmlc-core/include/dmlc/json.h -> build/temp.linux-x86_64-3.6/xgboost/dmlc-core/include/dmlc\n",
      "  copying xgboost/dmlc-core/include/dmlc/common.h -> build/temp.linux-x86_64-3.6/xgboost/dmlc-core/include/dmlc\n",
      "  copying xgboost/dmlc-core/include/dmlc/logging.h -> build/temp.linux-x86_64-3.6/xgboost/dmlc-core/include/dmlc\n",
      "  copying xgboost/dmlc-core/include/dmlc/any.h -> build/temp.linux-x86_64-3.6/xgboost/dmlc-core/include/dmlc\n",
      "  copying xgboost/dmlc-core/include/dmlc/type_traits.h -> build/temp.linux-x86_64-3.6/xgboost/dmlc-core/include/dmlc\n",
      "  copying xgboost/dmlc-core/include/dmlc/recordio.h -> build/temp.linux-x86_64-3.6/xgboost/dmlc-core/include/dmlc\n",
      "  copying xgboost/dmlc-core/include/dmlc/filesystem.h -> build/temp.linux-x86_64-3.6/xgboost/dmlc-core/include/dmlc\n",
      "  copying xgboost/dmlc-core/include/dmlc/endian.h -> build/temp.linux-x86_64-3.6/xgboost/dmlc-core/include/dmlc\n",
      "  copying xgboost/dmlc-core/include/dmlc/io.h -> build/temp.linux-x86_64-3.6/xgboost/dmlc-core/include/dmlc\n",
      "  copying xgboost/dmlc-core/include/dmlc/registry.h -> build/temp.linux-x86_64-3.6/xgboost/dmlc-core/include/dmlc\n",
      "  copying xgboost/dmlc-core/include/dmlc/base.h -> build/temp.linux-x86_64-3.6/xgboost/dmlc-core/include/dmlc\n",
      "  copying xgboost/dmlc-core/include/dmlc/thread_group.h -> build/temp.linux-x86_64-3.6/xgboost/dmlc-core/include/dmlc\n",
      "  copying xgboost/dmlc-core/include/dmlc/thread_local.h -> build/temp.linux-x86_64-3.6/xgboost/dmlc-core/include/dmlc\n",
      "  copying xgboost/dmlc-core/include/dmlc/serializer.h -> build/temp.linux-x86_64-3.6/xgboost/dmlc-core/include/dmlc\n",
      "  copying xgboost/dmlc-core/include/dmlc/strtonum.h -> build/temp.linux-x86_64-3.6/xgboost/dmlc-core/include/dmlc\n",
      "  copying xgboost/dmlc-core/include/dmlc/memory_io.h -> build/temp.linux-x86_64-3.6/xgboost/dmlc-core/include/dmlc\n",
      "  copying xgboost/dmlc-core/include/dmlc/timer.h -> build/temp.linux-x86_64-3.6/xgboost/dmlc-core/include/dmlc\n",
      "  copying xgboost/dmlc-core/include/dmlc/threadediter.h -> build/temp.linux-x86_64-3.6/xgboost/dmlc-core/include/dmlc\n",
      "  copying xgboost/dmlc-core/include/dmlc/build_config_default.h -> build/temp.linux-x86_64-3.6/xgboost/dmlc-core/include/dmlc\n",
      "  copying xgboost/dmlc-core/include/dmlc/lua.h -> build/temp.linux-x86_64-3.6/xgboost/dmlc-core/include/dmlc\n",
      "  copying xgboost/dmlc-core/include/dmlc/concurrentqueue.h -> build/temp.linux-x86_64-3.6/xgboost/dmlc-core/include/dmlc\n",
      "  copying xgboost/dmlc-core/include/dmlc/parameter.h -> build/temp.linux-x86_64-3.6/xgboost/dmlc-core/include/dmlc\n",
      "  copying xgboost/dmlc-core/include/dmlc/omp.h -> build/temp.linux-x86_64-3.6/xgboost/dmlc-core/include/dmlc\n",
      "  copying xgboost/dmlc-core/include/dmlc/concurrency.h -> build/temp.linux-x86_64-3.6/xgboost/dmlc-core/include/dmlc\n",
      "  creating build/temp.linux-x86_64-3.6/xgboost/dmlc-core/tracker\n",
      "  copying xgboost/dmlc-core/tracker/dmlc-submit -> build/temp.linux-x86_64-3.6/xgboost/dmlc-core/tracker\n",
      "  creating build/temp.linux-x86_64-3.6/xgboost/dmlc-core/tracker/yarn\n",
      "  creating build/temp.linux-x86_64-3.6/xgboost/dmlc-core/tracker/yarn/src\n",
      "  creating build/temp.linux-x86_64-3.6/xgboost/dmlc-core/tracker/yarn/src/main\n",
      "  creating build/temp.linux-x86_64-3.6/xgboost/dmlc-core/tracker/yarn/src/main/java\n",
      "  creating build/temp.linux-x86_64-3.6/xgboost/dmlc-core/tracker/yarn/src/main/java/org\n",
      "  creating build/temp.linux-x86_64-3.6/xgboost/dmlc-core/tracker/yarn/src/main/java/org/apache\n",
      "  creating build/temp.linux-x86_64-3.6/xgboost/dmlc-core/tracker/yarn/src/main/java/org/apache/hadoop\n",
      "  creating build/temp.linux-x86_64-3.6/xgboost/dmlc-core/tracker/yarn/src/main/java/org/apache/hadoop/yarn\n",
      "  creating build/temp.linux-x86_64-3.6/xgboost/dmlc-core/tracker/yarn/src/main/java/org/apache/hadoop/yarn/dmlc\n",
      "  copying xgboost/dmlc-core/tracker/yarn/src/main/java/org/apache/hadoop/yarn/dmlc/Client.java -> build/temp.linux-x86_64-3.6/xgboost/dmlc-core/tracker/yarn/src/main/java/org/apache/hadoop/yarn/dmlc\n",
      "  copying xgboost/dmlc-core/tracker/yarn/src/main/java/org/apache/hadoop/yarn/dmlc/TaskRecord.java -> build/temp.linux-x86_64-3.6/xgboost/dmlc-core/tracker/yarn/src/main/java/org/apache/hadoop/yarn/dmlc\n",
      "  copying xgboost/dmlc-core/tracker/yarn/src/main/java/org/apache/hadoop/yarn/dmlc/ApplicationMaster.java -> build/temp.linux-x86_64-3.6/xgboost/dmlc-core/tracker/yarn/src/main/java/org/apache/hadoop/yarn/dmlc\n",
      "  copying xgboost/dmlc-core/tracker/yarn/build.bat -> build/temp.linux-x86_64-3.6/xgboost/dmlc-core/tracker/yarn\n",
      "  copying xgboost/dmlc-core/tracker/yarn/build.sh -> build/temp.linux-x86_64-3.6/xgboost/dmlc-core/tracker/yarn\n",
      "  copying xgboost/dmlc-core/tracker/yarn/pom.xml -> build/temp.linux-x86_64-3.6/xgboost/dmlc-core/tracker/yarn\n",
      "  creating build/temp.linux-x86_64-3.6/xgboost/dmlc-core/tracker/dmlc_tracker\n",
      "  copying xgboost/dmlc-core/tracker/dmlc_tracker/launcher.py -> build/temp.linux-x86_64-3.6/xgboost/dmlc-core/tracker/dmlc_tracker\n",
      "  copying xgboost/dmlc-core/tracker/dmlc_tracker/kubernetes.py -> build/temp.linux-x86_64-3.6/xgboost/dmlc-core/tracker/dmlc_tracker\n",
      "  copying xgboost/dmlc-core/tracker/dmlc_tracker/__init__.py -> build/temp.linux-x86_64-3.6/xgboost/dmlc-core/tracker/dmlc_tracker\n",
      "  copying xgboost/dmlc-core/tracker/dmlc_tracker/sge.py -> build/temp.linux-x86_64-3.6/xgboost/dmlc-core/tracker/dmlc_tracker\n",
      "  copying xgboost/dmlc-core/tracker/dmlc_tracker/yarn.py -> build/temp.linux-x86_64-3.6/xgboost/dmlc-core/tracker/dmlc_tracker\n",
      "  copying xgboost/dmlc-core/tracker/dmlc_tracker/submit.py -> build/temp.linux-x86_64-3.6/xgboost/dmlc-core/tracker/dmlc_tracker\n",
      "  copying xgboost/dmlc-core/tracker/dmlc_tracker/util.py -> build/temp.linux-x86_64-3.6/xgboost/dmlc-core/tracker/dmlc_tracker\n",
      "  copying xgboost/dmlc-core/tracker/dmlc_tracker/ssh.py -> build/temp.linux-x86_64-3.6/xgboost/dmlc-core/tracker/dmlc_tracker\n",
      "  copying xgboost/dmlc-core/tracker/dmlc_tracker/local.py -> build/temp.linux-x86_64-3.6/xgboost/dmlc-core/tracker/dmlc_tracker\n",
      "  copying xgboost/dmlc-core/tracker/dmlc_tracker/slurm.py -> build/temp.linux-x86_64-3.6/xgboost/dmlc-core/tracker/dmlc_tracker\n",
      "  copying xgboost/dmlc-core/tracker/dmlc_tracker/mesos.py -> build/temp.linux-x86_64-3.6/xgboost/dmlc-core/tracker/dmlc_tracker\n",
      "  copying xgboost/dmlc-core/tracker/dmlc_tracker/tracker.py -> build/temp.linux-x86_64-3.6/xgboost/dmlc-core/tracker/dmlc_tracker\n",
      "  copying xgboost/dmlc-core/tracker/dmlc_tracker/opts.py -> build/temp.linux-x86_64-3.6/xgboost/dmlc-core/tracker/dmlc_tracker\n",
      "  copying xgboost/dmlc-core/tracker/dmlc_tracker/mpi.py -> build/temp.linux-x86_64-3.6/xgboost/dmlc-core/tracker/dmlc_tracker\n",
      "  creating build/temp.linux-x86_64-3.6/xgboost/dmlc-core/windows\n",
      "  creating build/temp.linux-x86_64-3.6/xgboost/dmlc-core/windows/dmlc\n",
      "  copying xgboost/dmlc-core/windows/dmlc/dmlc.vcxproj -> build/temp.linux-x86_64-3.6/xgboost/dmlc-core/windows/dmlc\n",
      "  copying xgboost/dmlc-core/windows/dmlc.sln -> build/temp.linux-x86_64-3.6/xgboost/dmlc-core/windows\n",
      "  creating build/temp.linux-x86_64-3.6/xgboost/dmlc-core/cmake\n",
      "  creating build/temp.linux-x86_64-3.6/xgboost/dmlc-core/cmake/Modules\n",
      "  copying xgboost/dmlc-core/cmake/Modules/FindHDFS.cmake -> build/temp.linux-x86_64-3.6/xgboost/dmlc-core/cmake/Modules\n",
      "  copying xgboost/dmlc-core/cmake/dmlc-config.cmake.in -> build/temp.linux-x86_64-3.6/xgboost/dmlc-core/cmake\n",
      "  copying xgboost/dmlc-core/cmake/build_config.h.in -> build/temp.linux-x86_64-3.6/xgboost/dmlc-core/cmake\n",
      "  copying xgboost/dmlc-core/cmake/Utils.cmake -> build/temp.linux-x86_64-3.6/xgboost/dmlc-core/cmake\n",
      "  creating build/temp.linux-x86_64-3.6/xgboost/dmlc-core/make\n",
      "  copying xgboost/dmlc-core/make/config.mk -> build/temp.linux-x86_64-3.6/xgboost/dmlc-core/make\n",
      "  copying xgboost/dmlc-core/make/dmlc.mk -> build/temp.linux-x86_64-3.6/xgboost/dmlc-core/make\n",
      "  creating build/temp.linux-x86_64-3.6/xgboost/rabit\n",
      "  copying xgboost/rabit/CMakeLists.txt -> build/temp.linux-x86_64-3.6/xgboost/rabit\n",
      "  creating build/temp.linux-x86_64-3.6/xgboost/rabit/src\n",
      "  copying xgboost/rabit/src/allreduce_mock.h -> build/temp.linux-x86_64-3.6/xgboost/rabit/src\n",
      "  copying xgboost/rabit/src/c_api.cc -> build/temp.linux-x86_64-3.6/xgboost/rabit/src\n",
      "  copying xgboost/rabit/src/engine_mpi.cc -> build/temp.linux-x86_64-3.6/xgboost/rabit/src\n",
      "  copying xgboost/rabit/src/allreduce_base.h -> build/temp.linux-x86_64-3.6/xgboost/rabit/src\n",
      "  copying xgboost/rabit/src/engine_mock.cc -> build/temp.linux-x86_64-3.6/xgboost/rabit/src\n",
      "  copying xgboost/rabit/src/engine.cc -> build/temp.linux-x86_64-3.6/xgboost/rabit/src\n",
      "  copying xgboost/rabit/src/allreduce_base.cc -> build/temp.linux-x86_64-3.6/xgboost/rabit/src\n",
      "  creating build/temp.linux-x86_64-3.6/xgboost/rabit/include\n",
      "  creating build/temp.linux-x86_64-3.6/xgboost/rabit/include/rabit\n",
      "  copying xgboost/rabit/include/rabit/c_api.h -> build/temp.linux-x86_64-3.6/xgboost/rabit/include/rabit\n",
      "  copying xgboost/rabit/include/rabit/serializable.h -> build/temp.linux-x86_64-3.6/xgboost/rabit/include/rabit\n",
      "  copying xgboost/rabit/include/rabit/base.h -> build/temp.linux-x86_64-3.6/xgboost/rabit/include/rabit\n",
      "  copying xgboost/rabit/include/rabit/rabit.h -> build/temp.linux-x86_64-3.6/xgboost/rabit/include/rabit\n",
      "  creating build/temp.linux-x86_64-3.6/xgboost/rabit/include/rabit/internal\n",
      "  copying xgboost/rabit/include/rabit/internal/rabit-inl.h -> build/temp.linux-x86_64-3.6/xgboost/rabit/include/rabit/internal\n",
      "  copying xgboost/rabit/include/rabit/internal/io.h -> build/temp.linux-x86_64-3.6/xgboost/rabit/include/rabit/internal\n",
      "  copying xgboost/rabit/include/rabit/internal/utils.h -> build/temp.linux-x86_64-3.6/xgboost/rabit/include/rabit/internal\n",
      "  copying xgboost/rabit/include/rabit/internal/engine.h -> build/temp.linux-x86_64-3.6/xgboost/rabit/include/rabit/internal\n",
      "  copying xgboost/rabit/include/rabit/internal/socket.h -> build/temp.linux-x86_64-3.6/xgboost/rabit/include/rabit/internal\n",
      "  creating build/temp.linux-x86_64-3.6/xgboost/cmake\n",
      "  creating build/temp.linux-x86_64-3.6/xgboost/cmake/modules\n",
      "  copying xgboost/cmake/modules/FindNVTX.cmake -> build/temp.linux-x86_64-3.6/xgboost/cmake/modules\n",
      "  copying xgboost/cmake/modules/FindNccl.cmake -> build/temp.linux-x86_64-3.6/xgboost/cmake/modules\n",
      "  copying xgboost/cmake/modules/FindNVML.cmake -> build/temp.linux-x86_64-3.6/xgboost/cmake/modules\n",
      "  copying xgboost/cmake/xgboost.pc.in -> build/temp.linux-x86_64-3.6/xgboost/cmake\n",
      "  copying xgboost/cmake/Python_version.in -> build/temp.linux-x86_64-3.6/xgboost/cmake\n",
      "  copying xgboost/cmake/version_config.h.in -> build/temp.linux-x86_64-3.6/xgboost/cmake\n",
      "  copying xgboost/cmake/FindPrefetchIntrinsics.cmake -> build/temp.linux-x86_64-3.6/xgboost/cmake\n",
      "  copying xgboost/cmake/xgboost-config.cmake.in -> build/temp.linux-x86_64-3.6/xgboost/cmake\n",
      "  copying xgboost/cmake/Doc.cmake -> build/temp.linux-x86_64-3.6/xgboost/cmake\n",
      "  copying xgboost/cmake/Utils.cmake -> build/temp.linux-x86_64-3.6/xgboost/cmake\n",
      "  copying xgboost/cmake/Version.cmake -> build/temp.linux-x86_64-3.6/xgboost/cmake\n",
      "  creating build/temp.linux-x86_64-3.6/xgboost/plugin\n",
      "  copying xgboost/plugin/CMakeLists.txt -> build/temp.linux-x86_64-3.6/xgboost/plugin\n",
      "  creating build/temp.linux-x86_64-3.6/xgboost/plugin/lz4\n",
      "  copying xgboost/plugin/lz4/sparse_page_lz4_format.cc -> build/temp.linux-x86_64-3.6/xgboost/plugin/lz4\n",
      "  copying xgboost/plugin/README.md -> build/temp.linux-x86_64-3.6/xgboost/plugin\n",
      "  creating build/temp.linux-x86_64-3.6/xgboost/plugin/updater_gpu\n",
      "  copying xgboost/plugin/updater_gpu/README.md -> build/temp.linux-x86_64-3.6/xgboost/plugin/updater_gpu\n",
      "  creating build/temp.linux-x86_64-3.6/xgboost/plugin/updater_oneapi\n",
      "  copying xgboost/plugin/updater_oneapi/predictor_oneapi.cc -> build/temp.linux-x86_64-3.6/xgboost/plugin/updater_oneapi\n",
      "  copying xgboost/plugin/updater_oneapi/README.md -> build/temp.linux-x86_64-3.6/xgboost/plugin/updater_oneapi\n",
      "  copying xgboost/plugin/updater_oneapi/regression_loss_oneapi.h -> build/temp.linux-x86_64-3.6/xgboost/plugin/updater_oneapi\n",
      "  copying xgboost/plugin/updater_oneapi/regression_obj_oneapi.cc -> build/temp.linux-x86_64-3.6/xgboost/plugin/updater_oneapi\n",
      "  creating build/temp.linux-x86_64-3.6/xgboost/plugin/example\n",
      "  copying xgboost/plugin/example/README.md -> build/temp.linux-x86_64-3.6/xgboost/plugin/example\n",
      "  copying xgboost/plugin/example/custom_obj.cc -> build/temp.linux-x86_64-3.6/xgboost/plugin/example\n",
      "  creating build/temp.linux-x86_64-3.6/xgboost/plugin/dense_parser\n",
      "  copying xgboost/plugin/dense_parser/dense_libsvm.cc -> build/temp.linux-x86_64-3.6/xgboost/plugin/dense_parser\n",
      "  copying xgboost/CMakeLists.txt -> build/temp.linux-x86_64-3.6/xgboost\n",
      "  copying xgboost/LICENSE -> build/temp.linux-x86_64-3.6/xgboost\n",
      "  INFO:XGBoost build_ext:Building from source. /tmp/pip-install-bz4bvqio/lib/libxgboost.so\n",
      "  INFO:XGBoost build_ext:Run CMake command: ['cmake', 'xgboost', '-GNinja', '-DUSE_OPENMP=1', '-DUSE_CUDA=0', '-DUSE_NCCL=0', '-DBUILD_WITH_SHARED_NCCL=0', '-DHIDE_CXX_SYMBOLS=1', '-DUSE_HDFS=0', '-DUSE_AZURE=0', '-DUSE_S3=0', '-DPLUGIN_LZ4=0', '-DPLUGIN_DENSE_PARSER=0']\n",
      "  CMake Error at CMakeLists.txt:1 (cmake_minimum_required):\n",
      "    CMake 3.13 or higher is required.  You are running version 3.5.1\n",
      "  \n",
      "  \n",
      "  -- Configuring incomplete, errors occurred!\n",
      "  WARNING:XGBoost build_ext:Disabling OpenMP support.\n",
      "  INFO:XGBoost build_ext:Run CMake command: ['cmake', 'xgboost', '-GNinja', '-DUSE_OPENMP=0', '-DUSE_CUDA=0', '-DUSE_NCCL=0', '-DBUILD_WITH_SHARED_NCCL=0', '-DHIDE_CXX_SYMBOLS=1', '-DUSE_HDFS=0', '-DUSE_AZURE=0', '-DUSE_S3=0', '-DPLUGIN_LZ4=0', '-DPLUGIN_DENSE_PARSER=0']\n",
      "  CMake Error at CMakeLists.txt:1 (cmake_minimum_required):\n",
      "    CMake 3.13 or higher is required.  You are running version 3.5.1\n",
      "  \n",
      "  \n",
      "  -- Configuring incomplete, errors occurred!\n",
      "  Traceback (most recent call last):\n",
      "    File \"/tmp/pip-install-bz4bvqio/xgboost/setup.py\", line 173, in build_cmake_extension\n",
      "      self.build(src_dir, build_dir, gen, build_tool, use_omp=1)\n",
      "    File \"/tmp/pip-install-bz4bvqio/xgboost/setup.py\", line 116, in build\n",
      "      subprocess.check_call(cmake_cmd, cwd=build_dir)\n",
      "    File \"/opt/conda/lib/python3.6/subprocess.py\", line 291, in check_call\n",
      "      raise CalledProcessError(retcode, cmd)\n",
      "  subprocess.CalledProcessError: Command '['cmake', 'xgboost', '-GNinja', '-DUSE_OPENMP=1', '-DUSE_CUDA=0', '-DUSE_NCCL=0', '-DBUILD_WITH_SHARED_NCCL=0', '-DHIDE_CXX_SYMBOLS=1', '-DUSE_HDFS=0', '-DUSE_AZURE=0', '-DUSE_S3=0', '-DPLUGIN_LZ4=0', '-DPLUGIN_DENSE_PARSER=0']' returned non-zero exit status 1.\n",
      "  \n",
      "  During handling of the above exception, another exception occurred:\n",
      "  \n",
      "  Traceback (most recent call last):\n",
      "    File \"<string>\", line 1, in <module>\n",
      "    File \"/tmp/pip-install-bz4bvqio/xgboost/setup.py\", line 344, in <module>\n",
      "      url='https://github.com/dmlc/xgboost')\n",
      "    File \"/opt/conda/lib/python3.6/site-packages/setuptools/__init__.py\", line 129, in setup\n",
      "      return distutils.core.setup(**attrs)\n",
      "    File \"/opt/conda/lib/python3.6/distutils/core.py\", line 148, in setup\n",
      "      dist.run_commands()\n",
      "    File \"/opt/conda/lib/python3.6/distutils/dist.py\", line 955, in run_commands\n",
      "      self.run_command(cmd)\n",
      "    File \"/opt/conda/lib/python3.6/distutils/dist.py\", line 974, in run_command\n",
      "      cmd_obj.run()\n",
      "    File \"/opt/conda/lib/python3.6/site-packages/wheel/bdist_wheel.py\", line 204, in run\n",
      "      self.run_command('build')\n",
      "    File \"/opt/conda/lib/python3.6/distutils/cmd.py\", line 313, in run_command\n",
      "      self.distribution.run_command(command)\n",
      "    File \"/opt/conda/lib/python3.6/distutils/dist.py\", line 974, in run_command\n",
      "      cmd_obj.run()\n",
      "    File \"/opt/conda/lib/python3.6/distutils/command/build.py\", line 135, in run\n",
      "      self.run_command(cmd_name)\n",
      "    File \"/opt/conda/lib/python3.6/distutils/cmd.py\", line 313, in run_command\n",
      "      self.distribution.run_command(command)\n",
      "    File \"/opt/conda/lib/python3.6/distutils/dist.py\", line 974, in run_command\n",
      "      cmd_obj.run()\n",
      "    File \"/opt/conda/lib/python3.6/site-packages/setuptools/command/build_ext.py\", line 75, in run\n",
      "      _build_ext.run(self)\n",
      "    File \"/opt/conda/lib/python3.6/site-packages/Cython/Distutils/old_build_ext.py\", line 186, in run\n",
      "      _build_ext.build_ext.run(self)\n",
      "    File \"/opt/conda/lib/python3.6/distutils/command/build_ext.py\", line 339, in run\n",
      "      self.build_extensions()\n",
      "    File \"/opt/conda/lib/python3.6/site-packages/Cython/Distutils/old_build_ext.py\", line 194, in build_extensions\n",
      "      self.build_extension(ext)\n",
      "    File \"/tmp/pip-install-bz4bvqio/xgboost/setup.py\", line 181, in build_extension\n",
      "      self.build_cmake_extension()\n",
      "    File \"/tmp/pip-install-bz4bvqio/xgboost/setup.py\", line 176, in build_cmake_extension\n",
      "      self.build(src_dir, build_dir, gen, build_tool, use_omp=0)\n",
      "    File \"/tmp/pip-install-bz4bvqio/xgboost/setup.py\", line 116, in build\n",
      "      subprocess.check_call(cmake_cmd, cwd=build_dir)\n",
      "    File \"/opt/conda/lib/python3.6/subprocess.py\", line 291, in check_call\n",
      "      raise CalledProcessError(retcode, cmd)\n",
      "  subprocess.CalledProcessError: Command '['cmake', 'xgboost', '-GNinja', '-DUSE_OPENMP=0', '-DUSE_CUDA=0', '-DUSE_NCCL=0', '-DBUILD_WITH_SHARED_NCCL=0', '-DHIDE_CXX_SYMBOLS=1', '-DUSE_HDFS=0', '-DUSE_AZURE=0', '-DUSE_S3=0', '-DPLUGIN_LZ4=0', '-DPLUGIN_DENSE_PARSER=0']' returned non-zero exit status 1.\n",
      "  \n",
      "  ----------------------------------------\n",
      "\u001b[31m  Failed building wheel for xgboost\u001b[0m\n",
      "\u001b[?25h  Running setup.py clean for xgboost\n"
     ]
    },
    {
     "name": "stdout",
     "output_type": "stream",
     "text": [
      "Failed to build xgboost\n",
      "\u001b[31mtensorflow 1.3.0 requires tensorflow-tensorboard<0.2.0,>=0.1.0, which is not installed.\u001b[0m\n",
      "Installing collected packages: cmake, numpy, xgboost, threadpoolctl, scikit-learn, lightgbm, pyaml, scikit-optimize, kneed\n",
      "  Found existing installation: numpy 1.12.1\n",
      "    Uninstalling numpy-1.12.1:\n",
      "      Successfully uninstalled numpy-1.12.1\n",
      "  Running setup.py install for xgboost ... \u001b[?25ldone\n",
      "\u001b[?25h  Found existing installation: scikit-learn 0.19.1\n",
      "    Uninstalling scikit-learn-0.19.1:\n",
      "      Successfully uninstalled scikit-learn-0.19.1\n",
      "Successfully installed cmake-3.18.4.post1 kneed-0.7.0 lightgbm-3.2.1 numpy-1.19.5 pyaml-20.4.0 scikit-learn-0.23.2 scikit-optimize-0.8.1 threadpoolctl-2.1.0 xgboost-1.4.1\n"
     ]
    }
   ],
   "source": [
    "!pip install -r requirement.txt"
   ]
  },
  {
   "cell_type": "code",
   "execution_count": 4,
   "metadata": {},
   "outputs": [],
   "source": [
    "# import libraries here; add more as necessary\n",
    "import numpy as np\n",
    "import pandas as pd\n",
    "import matplotlib.pyplot as plt\n",
    "import seaborn as sns\n",
    "\n",
    "# magic word for producing visualizations in notebook\n",
    "%matplotlib inline\n",
    "\n",
    "from sklearn.preprocessing import LabelEncoder, MinMaxScaler\n",
    "from sklearn.decomposition import PCA\n",
    "from sklearn.cluster import KMeans\n",
    "from kneed import KneeLocator\n",
    "\n",
    "from helper import *\n",
    "\n",
    "import xgboost as xgb\n",
    "import lightgbm as lgb\n",
    "\n",
    "import joblib"
   ]
  },
  {
   "cell_type": "markdown",
   "metadata": {},
   "source": [
    "## Part 0: Get to Know the Data\n",
    "\n",
    "There are four data files associated with this project:\n",
    "\n",
    "- `Udacity_AZDIAS_052018.csv`: Demographics data for the general population of Germany; 891 211 persons (rows) x 366 features (columns).\n",
    "- `Udacity_CUSTOMERS_052018.csv`: Demographics data for customers of a mail-order company; 191 652 persons (rows) x 369 features (columns).\n",
    "- `Udacity_MAILOUT_052018_TRAIN.csv`: Demographics data for individuals who were targets of a marketing campaign; 42 982 persons (rows) x 367 (columns).\n",
    "- `Udacity_MAILOUT_052018_TEST.csv`: Demographics data for individuals who were targets of a marketing campaign; 42 833 persons (rows) x 366 (columns).\n",
    "\n",
    "Each row of the demographics files represents a single person, but also includes information outside of individuals, including information about their household, building, and neighborhood. Use the information from the first two files to figure out how customers (\"CUSTOMERS\") are similar to or differ from the general population at large (\"AZDIAS\"), then use your analysis to make predictions on the other two files (\"MAILOUT\"), predicting which recipients are most likely to become a customer for the mail-order company.\n",
    "\n",
    "The \"CUSTOMERS\" file contains three extra columns ('CUSTOMER_GROUP', 'ONLINE_PURCHASE', and 'PRODUCT_GROUP'), which provide broad information about the customers depicted in the file. The original \"MAILOUT\" file included one additional column, \"RESPONSE\", which indicated whether or not each recipient became a customer of the company. For the \"TRAIN\" subset, this column has been retained, but in the \"TEST\" subset it has been removed; it is against that withheld column that your final predictions will be assessed in the Kaggle competition.\n",
    "\n",
    "Otherwise, all of the remaining columns are the same between the three data files. For more information about the columns depicted in the files, you can refer to two Excel spreadsheets provided in the workspace. [One of them](./DIAS Information Levels - Attributes 2017.xlsx) is a top-level list of attributes and descriptions, organized by informational category. [The other](./DIAS Attributes - Values 2017.xlsx) is a detailed mapping of data values for each feature in alphabetical order.\n",
    "\n",
    "In the below cell, we've provided some initial code to load in the first two datasets. Note for all of the `.csv` data files in this project that they're semicolon (`;`) delimited, so an additional argument in the [`read_csv()`](https://pandas.pydata.org/pandas-docs/stable/generated/pandas.read_csv.html) call has been included to read in the data properly. Also, considering the size of the datasets, it may take some time for them to load completely.\n",
    "\n",
    "You'll notice when the data is loaded in that a warning message will immediately pop up. Before you really start digging into the modeling and analysis, you're going to need to perform some cleaning. Take some time to browse the structure of the data and look over the informational spreadsheets to understand the data values. Make some decisions on which features to keep, which features to drop, and if any revisions need to be made on data formats. It'll be a good idea to create a function with pre-processing steps, since you'll need to clean all of the datasets before you work with them."
   ]
  },
  {
   "cell_type": "code",
   "execution_count": null,
   "metadata": {},
   "outputs": [],
   "source": [
    "# load in the data\n",
    "azdias = pd.read_csv('../../data/Term2/capstone/arvato_data/Udacity_AZDIAS_052018.csv', sep=';', low_memory=False)\n",
    "#customers = pd.read_csv('../../data/Term2/capstone/arvato_data/Udacity_CUSTOMERS_052018.csv', sep=';', low_memory=False)"
   ]
  },
  {
   "cell_type": "code",
   "execution_count": null,
   "metadata": {},
   "outputs": [],
   "source": [
    "# Save to pickle\n",
    "azdias.to_pickle('azdias.pkl')\n",
    "#customers.to_pickle('customers.pkl')"
   ]
  },
  {
   "cell_type": "code",
   "execution_count": 2,
   "metadata": {},
   "outputs": [],
   "source": [
    "# Load Pickle Data\n",
    "azdias = pd.read_pickle('azdias.pkl')\n",
    "customers = pd.read_pickle('customers.pkl')"
   ]
  },
  {
   "cell_type": "code",
   "execution_count": 3,
   "metadata": {},
   "outputs": [
    {
     "name": "stdout",
     "output_type": "stream",
     "text": [
      "General(orig) rows, cols:  (891221, 366)\n",
      "Customer(orig) rows, cols:  (191652, 369)\n"
     ]
    }
   ],
   "source": [
    "# Clean data by dropping missing values\n",
    "print('General(orig) rows, cols: ', azdias.shape)\n",
    "print('Customer(orig) rows, cols: ', customers.shape)\n",
    "\n",
    "#azdias_clean = azdias.dropna(axis=0)\n",
    "#customers_clean = customers.dropna(axis=0)\n",
    "\n",
    "#print('General(clean) rows, cols: ', azdias_clean.shape)\n",
    "#print('Customer(clean) rows, cols: ', customers_clean.shape)"
   ]
  },
  {
   "cell_type": "code",
   "execution_count": 4,
   "metadata": {},
   "outputs": [
    {
     "data": {
      "text/html": [
       "<div>\n",
       "<style scoped>\n",
       "    .dataframe tbody tr th:only-of-type {\n",
       "        vertical-align: middle;\n",
       "    }\n",
       "\n",
       "    .dataframe tbody tr th {\n",
       "        vertical-align: top;\n",
       "    }\n",
       "\n",
       "    .dataframe thead th {\n",
       "        text-align: right;\n",
       "    }\n",
       "</style>\n",
       "<table border=\"1\" class=\"dataframe\">\n",
       "  <thead>\n",
       "    <tr style=\"text-align: right;\">\n",
       "      <th></th>\n",
       "      <th>Attribute</th>\n",
       "      <th>Description</th>\n",
       "      <th>Value</th>\n",
       "      <th>Meaning</th>\n",
       "    </tr>\n",
       "  </thead>\n",
       "  <tbody>\n",
       "    <tr>\n",
       "      <th>NaN</th>\n",
       "      <td>AGER_TYP</td>\n",
       "      <td>best-ager typology</td>\n",
       "      <td>-1</td>\n",
       "      <td>unknown</td>\n",
       "    </tr>\n",
       "    <tr>\n",
       "      <th>NaN</th>\n",
       "      <td>AGER_TYP</td>\n",
       "      <td>NaN</td>\n",
       "      <td>0</td>\n",
       "      <td>no classification possible</td>\n",
       "    </tr>\n",
       "    <tr>\n",
       "      <th>NaN</th>\n",
       "      <td>AGER_TYP</td>\n",
       "      <td>NaN</td>\n",
       "      <td>1</td>\n",
       "      <td>passive elderly</td>\n",
       "    </tr>\n",
       "    <tr>\n",
       "      <th>NaN</th>\n",
       "      <td>AGER_TYP</td>\n",
       "      <td>NaN</td>\n",
       "      <td>2</td>\n",
       "      <td>cultural elderly</td>\n",
       "    </tr>\n",
       "    <tr>\n",
       "      <th>NaN</th>\n",
       "      <td>AGER_TYP</td>\n",
       "      <td>NaN</td>\n",
       "      <td>3</td>\n",
       "      <td>experience-driven elderly</td>\n",
       "    </tr>\n",
       "    <tr>\n",
       "      <th>NaN</th>\n",
       "      <td>ALTERSKATEGORIE_GROB</td>\n",
       "      <td>age classification through prename analysis</td>\n",
       "      <td>-1, 0</td>\n",
       "      <td>unknown</td>\n",
       "    </tr>\n",
       "    <tr>\n",
       "      <th>NaN</th>\n",
       "      <td>ALTERSKATEGORIE_GROB</td>\n",
       "      <td>NaN</td>\n",
       "      <td>1</td>\n",
       "      <td>&lt; 30 years</td>\n",
       "    </tr>\n",
       "    <tr>\n",
       "      <th>NaN</th>\n",
       "      <td>ALTERSKATEGORIE_GROB</td>\n",
       "      <td>NaN</td>\n",
       "      <td>2</td>\n",
       "      <td>30 - 45 years</td>\n",
       "    </tr>\n",
       "    <tr>\n",
       "      <th>NaN</th>\n",
       "      <td>ALTERSKATEGORIE_GROB</td>\n",
       "      <td>NaN</td>\n",
       "      <td>3</td>\n",
       "      <td>46 - 60 years</td>\n",
       "    </tr>\n",
       "    <tr>\n",
       "      <th>NaN</th>\n",
       "      <td>ALTERSKATEGORIE_GROB</td>\n",
       "      <td>NaN</td>\n",
       "      <td>4</td>\n",
       "      <td>&gt; 60 years</td>\n",
       "    </tr>\n",
       "  </tbody>\n",
       "</table>\n",
       "</div>"
      ],
      "text/plain": [
       "                Attribute                                   Description  \\\n",
       "NaN              AGER_TYP                            best-ager typology   \n",
       "NaN              AGER_TYP                                           NaN   \n",
       "NaN              AGER_TYP                                           NaN   \n",
       "NaN              AGER_TYP                                           NaN   \n",
       "NaN              AGER_TYP                                           NaN   \n",
       "NaN  ALTERSKATEGORIE_GROB  age classification through prename analysis    \n",
       "NaN  ALTERSKATEGORIE_GROB                                           NaN   \n",
       "NaN  ALTERSKATEGORIE_GROB                                           NaN   \n",
       "NaN  ALTERSKATEGORIE_GROB                                           NaN   \n",
       "NaN  ALTERSKATEGORIE_GROB                                           NaN   \n",
       "\n",
       "     Value                     Meaning  \n",
       "NaN     -1                     unknown  \n",
       "NaN      0  no classification possible  \n",
       "NaN      1             passive elderly  \n",
       "NaN      2            cultural elderly  \n",
       "NaN      3   experience-driven elderly  \n",
       "NaN  -1, 0                     unknown  \n",
       "NaN      1                  < 30 years  \n",
       "NaN      2               30 - 45 years  \n",
       "NaN      3               46 - 60 years  \n",
       "NaN      4                  > 60 years  "
      ]
     },
     "execution_count": 4,
     "metadata": {},
     "output_type": "execute_result"
    }
   ],
   "source": [
    "# Loading feature values mapping files\n",
    "dias = pd.read_excel(\"DIAS Attributes - Values 2017.xlsx\", header=1)\n",
    "dias['Attribute'] = dias['Attribute'].ffill()\n",
    "dias.head(10)"
   ]
  },
  {
   "cell_type": "code",
   "execution_count": null,
   "metadata": {},
   "outputs": [],
   "source": [
    "#azdias_pre_cleanup = azdias.copy()\n",
    "#customers_pre_cleanup = customers.copy()"
   ]
  },
  {
   "cell_type": "code",
   "execution_count": 5,
   "metadata": {},
   "outputs": [
    {
     "name": "stdout",
     "output_type": "stream",
     "text": [
      "General(dropped) rows, cols:  (891221, 365)\n",
      "Customer(dropped) rows, cols:  (191652, 365)\n"
     ]
    }
   ],
   "source": [
    "# drop index and extra columns\n",
    "azdias.drop(['LNR'], axis = 1, inplace = True)\n",
    "customers.drop(['LNR', 'CUSTOMER_GROUP', 'ONLINE_PURCHASE', 'PRODUCT_GROUP'], axis = 1, inplace = True)\n",
    "print('General(dropped) rows, cols: ', azdias.shape)\n",
    "print('Customer(dropped) rows, cols: ', customers.shape)"
   ]
  },
  {
   "cell_type": "code",
   "execution_count": 6,
   "metadata": {},
   "outputs": [],
   "source": [
    "azdias_pre_cleanup_nans = azdias.isnull().sum().sum()\n",
    "customers_pre_cleanup_nans = customers.isnull().sum().sum()"
   ]
  },
  {
   "cell_type": "code",
   "execution_count": 7,
   "metadata": {},
   "outputs": [
    {
     "name": "stdout",
     "output_type": "stream",
     "text": [
      "General missing value before clean-up: 33492923\n",
      "Customer missing value before clean-up: 13864522\n"
     ]
    }
   ],
   "source": [
    "print('General missing value before clean-up: ' + str(azdias_pre_cleanup_nans))\n",
    "print('Customer missing value before clean-up: ' + str(customers_pre_cleanup_nans))"
   ]
  },
  {
   "cell_type": "code",
   "execution_count": null,
   "metadata": {},
   "outputs": [],
   "source": [
    "# unique values in data per column\n",
    "for col in azdias.columns:\n",
    "    print(col, azdias[col].unique())          \n",
    " "
   ]
  },
  {
   "cell_type": "markdown",
   "metadata": {},
   "source": [
    "### Convert Special Characters to NaN"
   ]
  },
  {
   "cell_type": "code",
   "execution_count": 6,
   "metadata": {},
   "outputs": [],
   "source": [
    "def convert_special_char_to_nan(df): # This function was later moved to helper.py file\n",
    "    \"\"\" Convert special character to np.nan\n",
    "    \"\"\"\n",
    "    special_chars = ['X', 'XX', ' ', '']\n",
    "    columns_list = ['CAMEO_DEU_2015', 'CAMEO_DEUG_2015', 'CAMEO_INTL_2015' ]\n",
    "    for col in columns_list:\n",
    "        df[col].replace(special_chars, np.nan, inplace=True)\n",
    "    "
   ]
  },
  {
   "cell_type": "code",
   "execution_count": 7,
   "metadata": {},
   "outputs": [],
   "source": [
    "convert_special_char_to_nan(azdias)\n",
    "convert_special_char_to_nan(customers)"
   ]
  },
  {
   "cell_type": "code",
   "execution_count": 10,
   "metadata": {},
   "outputs": [
    {
     "name": "stdout",
     "output_type": "stream",
     "text": [
      "General missing value before clean-up: 33492923 after: 33494042\n",
      "Customer missing value before clean-up: 13864522 after: 13864900\n"
     ]
    }
   ],
   "source": [
    "print('General missing value before clean-up: ' + str(azdias_pre_cleanup_nans) \n",
    "      + ' after: ' + str(azdias.isnull().sum().sum()))\n",
    "print('Customer missing value before clean-up: ' + str(customers_pre_cleanup_nans) \n",
    "      + ' after: ' + str(customers.isnull().sum().sum()))"
   ]
  },
  {
   "cell_type": "markdown",
   "metadata": {},
   "source": [
    "### Convert unknown to missing values"
   ]
  },
  {
   "cell_type": "code",
   "execution_count": 8,
   "metadata": {},
   "outputs": [],
   "source": [
    "def covert_unknown_to_nan(df, dias): # This function was later moved to helper.py file\n",
    "    \"\"\" Convert unknown values like 0, -1, 9 to np.nan \n",
    "    \"\"\"\n",
    "    unknowns = dias['Meaning'].where(dias.Meaning.str.contains(\"unknown\")).value_counts().index\n",
    "    dias = dias[dias['Meaning'].isin(unknowns)]\n",
    "    for row in dias.iterrows():\n",
    "        missing_val = row[1]['Value']\n",
    "        attr = row[1]['Attribute']\n",
    "        if attr not in df: \n",
    "            continue\n",
    "        if isinstance(missing_val, int):\n",
    "            df[attr].replace(missing_val, np.nan, inplace=True)\n",
    "        elif isinstance(missing_val, str):\n",
    "            df[attr].replace(eval(\"[\"+missing_val+\"]\"), np.nan, inplace=True)  \n"
   ]
  },
  {
   "cell_type": "code",
   "execution_count": 9,
   "metadata": {},
   "outputs": [],
   "source": [
    "covert_unknown_to_nan(azdias, dias)\n",
    "covert_unknown_to_nan(customers, dias)"
   ]
  },
  {
   "cell_type": "code",
   "execution_count": null,
   "metadata": {},
   "outputs": [
    {
     "name": "stdout",
     "output_type": "stream",
     "text": [
      "General missing value before clean-up: 33492923 after: 37088636\n"
     ]
    }
   ],
   "source": [
    "print('General missing value before clean-up: ' + str(azdias_pre_cleanup_nans) \n",
    "      + ' after: ' + str(azdias.isnull().sum().sum()))\n",
    "print('Customer missing value before clean-up: ' + str(customers_pre_cleanup_nans) \n",
    "      + ' after: ' + str(customers.isnull().sum().sum()))"
   ]
  },
  {
   "cell_type": "code",
   "execution_count": 10,
   "metadata": {},
   "outputs": [],
   "source": [
    "# Save to pickle\n",
    "customers.to_pickle('customers2.pkl')\n",
    "azdias.to_pickle('azdias2.pkl')"
   ]
  },
  {
   "cell_type": "markdown",
   "metadata": {},
   "source": [
    "### Remove columns with higher percentage of missing values"
   ]
  },
  {
   "cell_type": "code",
   "execution_count": 2,
   "metadata": {},
   "outputs": [],
   "source": [
    "# Load Pickle Data\n",
    "azdias = pd.read_pickle('azdias2.pkl')\n",
    "customers = pd.read_pickle('customers2.pkl')"
   ]
  },
  {
   "cell_type": "code",
   "execution_count": 6,
   "metadata": {},
   "outputs": [],
   "source": [
    "# dropping columns with too many missin\n",
    "def percent_missing_df(df): # This function was later moved to helper.py file\n",
    "    percent = df.isnull().sum()*100/len(df.index)\n",
    "    new_df = pd.DataFrame({'percent': percent}, index=df.columns)\n",
    "    return new_df"
   ]
  },
  {
   "cell_type": "code",
   "execution_count": 5,
   "metadata": {},
   "outputs": [],
   "source": [
    "percent_missing_cust = percent_missing_df(customers)\n",
    "percent_missing_az = percent_missing_df(azdias)"
   ]
  },
  {
   "cell_type": "code",
   "execution_count": 6,
   "metadata": {},
   "outputs": [
    {
     "data": {
      "text/plain": [
       "<matplotlib.axes._subplots.AxesSubplot at 0x7f3f2447fbe0>"
      ]
     },
     "execution_count": 6,
     "metadata": {},
     "output_type": "execute_result"
    },
    {
     "data": {
      "image/png": "[encoded data removed]",
      "text/plain": [
       "<matplotlib.figure.Figure at 0x7f3f254fd630>"
      ]
     },
     "metadata": {
      "needs_background": "light"
     },
     "output_type": "display_data"
    }
   ],
   "source": [
    "percent_missing_cust.sort_values(by=['percent']).plot()"
   ]
  },
  {
   "cell_type": "code",
   "execution_count": 7,
   "metadata": {},
   "outputs": [
    {
     "data": {
      "text/plain": [
       "<matplotlib.axes._subplots.AxesSubplot at 0x7f3f5a3000b8>"
      ]
     },
     "execution_count": 7,
     "metadata": {},
     "output_type": "execute_result"
    },
    {
     "data": {
      "image/png": "[encoded data removed]",
      "text/plain": [
       "<matplotlib.figure.Figure at 0x7f3f25049c18>"
      ]
     },
     "metadata": {
      "needs_background": "light"
     },
     "output_type": "display_data"
    }
   ],
   "source": [
    "percent_missing_az.sort_values(by=['percent']).plot()"
   ]
  },
  {
   "cell_type": "code",
   "execution_count": 8,
   "metadata": {},
   "outputs": [],
   "source": [
    "# Finding columns with missing values over 32 percent\n",
    "columns_over_32_az = list(percent_missing_az[percent_missing_az['percent'] > 32].index)\n",
    "columns_over_32_cust = list(percent_missing_cust[percent_missing_cust['percent'] > 32].index)"
   ]
  },
  {
   "cell_type": "code",
   "execution_count": 9,
   "metadata": {},
   "outputs": [
    {
     "data": {
      "text/plain": [
       "['AGER_TYP',\n",
       " 'ALTER_KIND2',\n",
       " 'TITEL_KZ',\n",
       " 'ALTER_KIND3',\n",
       " 'KBA05_BAUMAX',\n",
       " 'KK_KUNDENTYP',\n",
       " 'ALTER_KIND4',\n",
       " 'EXTSEL992',\n",
       " 'ALTER_HH',\n",
       " 'ALTER_KIND1']"
      ]
     },
     "execution_count": 9,
     "metadata": {},
     "output_type": "execute_result"
    }
   ],
   "source": [
    "# deleting those columns common to both datasets\n",
    "delete_columns = list(set(columns_over_32_az) & set(columns_over_32_cust))\n",
    "delete_columns"
   ]
  },
  {
   "cell_type": "code",
   "execution_count": 10,
   "metadata": {},
   "outputs": [],
   "source": [
    "customers.drop(delete_columns, axis=1, inplace=True)\n",
    "azdias.drop(delete_columns, axis=1, inplace=True)"
   ]
  },
  {
   "cell_type": "code",
   "execution_count": 11,
   "metadata": {},
   "outputs": [],
   "source": [
    "# Save to pickle\n",
    "customers.to_pickle('customers3.pkl')\n",
    "azdias.to_pickle('azdias3.pkl')"
   ]
  },
  {
   "cell_type": "markdown",
   "metadata": {},
   "source": [
    "### Feature Engineering"
   ]
  },
  {
   "cell_type": "code",
   "execution_count": 2,
   "metadata": {},
   "outputs": [],
   "source": [
    "# Load Pickle Data\n",
    "azdias = pd.read_pickle('azdias3.pkl')\n",
    "#customers = pd.read_pickle('customers3.pkl')"
   ]
  },
  {
   "cell_type": "code",
   "execution_count": 12,
   "metadata": {},
   "outputs": [
    {
     "data": {
      "text/plain": [
       "['CAMEO_DEU_2015',\n",
       " 'D19_LETZTER_KAUF_BRANCHE',\n",
       " 'CAMEO_DEUG_2015',\n",
       " 'CAMEO_INTL_2015',\n",
       " 'OST_WEST_KZ',\n",
       " 'EINGEFUEGT_AM']"
      ]
     },
     "execution_count": 12,
     "metadata": {},
     "output_type": "execute_result"
    }
   ],
   "source": [
    "numeric_columns = customers.select_dtypes(include=np.number).columns.tolist()\n",
    "categorical_columns = list(set(customers.columns).difference(set(numeric_columns)))\n",
    "categorical_columns"
   ]
  },
  {
   "cell_type": "code",
   "execution_count": 13,
   "metadata": {},
   "outputs": [
    {
     "name": "stdout",
     "output_type": "stream",
     "text": [
      "CAMEO_DEU_2015\n",
      "NaN    50554\n",
      "2D     11208\n",
      "6B      9634\n",
      "4C      9053\n",
      "3D      8085\n",
      "4A      7507\n",
      "3C      6628\n",
      "1D      5880\n",
      "2C      5076\n",
      "5D      4546\n",
      "8A      4252\n",
      "1A      4198\n",
      "7A      4109\n",
      "8B      3790\n",
      "2A      3715\n",
      "2B      3485\n",
      "7B      3421\n",
      "1E      3337\n",
      "6E      3086\n",
      "6C      2832\n",
      "8C      2801\n",
      "8D      2206\n",
      "1C      2206\n",
      "4D      2124\n",
      "4B      2093\n",
      "5A      1969\n",
      "9D      1957\n",
      "3A      1904\n",
      "3B      1773\n",
      "5B      1696\n",
      "5C      1574\n",
      "9E      1508\n",
      "4E      1287\n",
      "6D      1235\n",
      "7C      1194\n",
      "6F      1168\n",
      "1B      1157\n",
      "5F      1059\n",
      "7E      1034\n",
      "9A      1023\n",
      "9C       987\n",
      "9B       917\n",
      "5E       822\n",
      "7D       800\n",
      "6A       762\n",
      "Name: CAMEO_DEU_2015, dtype: int64\n",
      "D19_LETZTER_KAUF_BRANCHE\n",
      "NaN                       47697\n",
      "D19_UNBEKANNT             31910\n",
      "D19_SONSTIGE              14540\n",
      "D19_VERSICHERUNGEN        10534\n",
      "D19_BUCH_CD               10038\n",
      "D19_VOLLSORTIMENT          8647\n",
      "D19_HAUS_DEKO              8129\n",
      "D19_SCHUHE                 6317\n",
      "D19_BEKLEIDUNG_GEH         5975\n",
      "D19_DROGERIEARTIKEL        5528\n",
      "D19_ENERGIE                4454\n",
      "D19_BEKLEIDUNG_REST        4096\n",
      "D19_VERSAND_REST           3619\n",
      "D19_BANKEN_DIREKT          3466\n",
      "D19_LEBENSMITTEL           3053\n",
      "D19_TELKO_REST             2303\n",
      "D19_NAHRUNGSERGAENZUNG     2253\n",
      "D19_TELKO_MOBILE           2131\n",
      "D19_TECHNIK                1836\n",
      "D19_BANKEN_GROSS           1684\n",
      "D19_FREIZEIT               1672\n",
      "D19_SAMMELARTIKEL          1610\n",
      "D19_RATGEBER               1519\n",
      "D19_KINDERARTIKEL          1439\n",
      "D19_WEIN_FEINKOST          1424\n",
      "D19_BANKEN_REST            1233\n",
      "D19_BIO_OEKO                808\n",
      "D19_REISEN                  666\n",
      "D19_DIGIT_SERV              653\n",
      "D19_GARTEN                  568\n",
      "D19_HANDWERK                532\n",
      "D19_BILDUNG                 357\n",
      "D19_TIERARTIKEL             345\n",
      "D19_BANKEN_LOKAL            306\n",
      "D19_LOTTO                   194\n",
      "D19_KOSMETIK                116\n",
      "Name: D19_LETZTER_KAUF_BRANCHE, dtype: int64\n",
      "CAMEO_DEUG_2015\n",
      "NaN    50554\n",
      "2      23484\n",
      "4      22064\n",
      "6      18717\n",
      "3      18390\n",
      "1      16778\n",
      "8      13049\n",
      "5      11666\n",
      "7      10558\n",
      "9       6392\n",
      "Name: CAMEO_DEUG_2015, dtype: int64\n",
      "CAMEO_INTL_2015\n",
      "NaN    50554\n",
      "14     19647\n",
      "24     17805\n",
      "41     11320\n",
      "43      9634\n",
      "25      9372\n",
      "15      9217\n",
      "51      8113\n",
      "13      7683\n",
      "22      7507\n",
      "23      5770\n",
      "34      5368\n",
      "45      5288\n",
      "54      4795\n",
      "12      3715\n",
      "55      3714\n",
      "44      2832\n",
      "31      2731\n",
      "35      2294\n",
      "32      1696\n",
      "33      1574\n",
      "52      1023\n",
      "Name: CAMEO_INTL_2015, dtype: int64\n",
      "OST_WEST_KZ\n",
      "W      130382\n",
      "NaN     49927\n",
      "O       11343\n",
      "Name: OST_WEST_KZ, dtype: int64\n",
      "EINGEFUEGT_AM\n",
      "1992-02-10 00:00:00    64744\n",
      "NaN                    49927\n",
      "1992-02-12 00:00:00    43686\n",
      "2003-11-18 00:00:00     1066\n",
      "2005-12-16 00:00:00      808\n",
      "1995-02-07 00:00:00      569\n",
      "2004-04-14 00:00:00      443\n",
      "2005-08-23 00:00:00      391\n",
      "2005-04-15 00:00:00      363\n",
      "1993-03-01 00:00:00      357\n",
      "1995-10-10 00:00:00      317\n",
      "2000-05-10 00:00:00      315\n",
      "1992-02-21 00:00:00      304\n",
      "1993-09-21 00:00:00      294\n",
      "1993-10-21 00:00:00      287\n",
      "1993-09-22 00:00:00      231\n",
      "1995-07-19 00:00:00      209\n",
      "2005-04-12 00:00:00      200\n",
      "1993-11-03 00:00:00      193\n",
      "1995-08-02 00:00:00      189\n",
      "1996-01-26 00:00:00      187\n",
      "1993-11-02 00:00:00      181\n",
      "1995-08-15 00:00:00      180\n",
      "1995-10-17 00:00:00      179\n",
      "1993-09-23 00:00:00      177\n",
      "1993-01-20 00:00:00      166\n",
      "1993-03-23 00:00:00      159\n",
      "1993-10-25 00:00:00      152\n",
      "1995-12-27 00:00:00      149\n",
      "1995-09-06 00:00:00      148\n",
      "                       ...  \n",
      "1994-08-10 00:00:00        1\n",
      "1998-07-09 00:00:00        1\n",
      "2011-02-10 00:00:00        1\n",
      "2009-04-15 00:00:00        1\n",
      "2012-11-28 00:00:00        1\n",
      "2003-11-20 00:00:00        1\n",
      "2009-02-04 00:00:00        1\n",
      "2000-03-22 00:00:00        1\n",
      "2001-07-06 00:00:00        1\n",
      "2001-01-02 00:00:00        1\n",
      "2006-11-24 00:00:00        1\n",
      "2006-07-03 00:00:00        1\n",
      "2006-11-16 00:00:00        1\n",
      "2011-11-29 00:00:00        1\n",
      "1997-02-14 00:00:00        1\n",
      "2006-12-18 00:00:00        1\n",
      "1999-04-19 00:00:00        1\n",
      "2006-04-19 00:00:00        1\n",
      "1998-08-06 00:00:00        1\n",
      "2003-10-25 00:00:00        1\n",
      "2001-12-20 00:00:00        1\n",
      "1994-12-21 00:00:00        1\n",
      "2011-11-21 00:00:00        1\n",
      "2002-02-11 00:00:00        1\n",
      "2002-07-08 00:00:00        1\n",
      "2006-11-15 00:00:00        1\n",
      "2007-01-08 00:00:00        1\n",
      "2004-10-12 00:00:00        1\n",
      "2006-03-31 00:00:00        1\n",
      "1997-12-13 00:00:00        1\n",
      "Name: EINGEFUEGT_AM, Length: 3035, dtype: int64\n"
     ]
    }
   ],
   "source": [
    "for col in categorical_columns:\n",
    "    print(col)\n",
    "    print(customers[col].value_counts(dropna=False))"
   ]
  },
  {
   "cell_type": "code",
   "execution_count": 3,
   "metadata": {},
   "outputs": [],
   "source": [
    "def feature_eng(df): # This function was later moved to helper.py file\n",
    "    \"\"\" Feature Engineering\n",
    "    \"\"\"\n",
    "    col_drop = []\n",
    "    # label encoding CAMEO_DEU_2015 (one-hot encoding consumes a lot of memory because of too many unique labels)\n",
    "    if 'CAMEO_DEU_2015' in df:\n",
    "        print(\"label encoding CAMEO_DEU_2015\")\n",
    "        cameo_fill = df['CAMEO_DEU_2015'].value_counts().idxmax()\n",
    "        df['CAMEO_DEU_2015'] = df['CAMEO_DEU_2015'].fillna(cameo_fill)\n",
    "        data = np.array(df['CAMEO_DEU_2015'])\n",
    "        encoder = LabelEncoder()\n",
    "        encoded_values = encoder.fit_transform(data)\n",
    "        df['CAMEO_DEU_2015'] = encoded_values\n",
    "    \n",
    "    if 'D19_LETZTER_KAUF_BRANCHE' in df:\n",
    "        print(\"label encoding D19_LETZTER_KAUF_BRANCHE\")\n",
    "        letzer_fill = df['D19_LETZTER_KAUF_BRANCHE'].value_counts().idxmax()\n",
    "        df['D19_LETZTER_KAUF_BRANCHE'] = df['D19_LETZTER_KAUF_BRANCHE'].fillna(letzer_fill)\n",
    "        data = np.array(df['D19_LETZTER_KAUF_BRANCHE'])\n",
    "        encoder = LabelEncoder()\n",
    "        encoded_values = encoder.fit_transform(data)\n",
    "        df['D19_LETZTER_KAUF_BRANCHE'] = encoded_values\n",
    "    \n",
    "    # Convert CAMEO_DEUG_2015 str to float\n",
    "    if 'CAMEO_DEUG_2015' in df:\n",
    "        print(\"Convert CAMEO_DEUG_2015 str to float\")\n",
    "        df['CAMEO_DEUG_2015'] = df['CAMEO_DEUG_2015'].apply(lambda x: float(x))\n",
    "    \n",
    "    if 'OST_WEST_KZ' in df:\n",
    "        \n",
    "        # Mapping OST_WEST_KZ categorical\n",
    "        # W = 1\n",
    "        # O = 0\n",
    "        print(\"Mapping OST_WEST_KZ categorical\")\n",
    "        ost_west_map = {'W': 0, 'O': 1}\n",
    "        df['OST_WEST_KZ'] = df['OST_WEST_KZ'].map(ost_west_map)\n",
    "                                                                            \n",
    "    # Splitting CAMEO_INTL_2015 Feature into 2 features FAMILY and WEALTH\n",
    "    if 'CAMEO_INTL_2015' in df:\n",
    "        print(\"Splitting CAMEO_INTL_2015 Feature into 2 features FAMILY and WEALTH\")\n",
    "        # WEALTH\n",
    "        # 1: Wealthy Households\n",
    "        # 2: Prosperous Households\n",
    "        # 3: Comfortable Households\n",
    "        # 4: Less Affluent Households\n",
    "        # 5: Poorer Households\n",
    "        df['WEALTH'] = df['CAMEO_INTL_2015'].apply(lambda x: np.floor_divide(int(x), 10) if isinstance(x, str) else np.nan)\n",
    "        # FAMILY\n",
    "        # 1: Pre-Family Couples & Singles\n",
    "        # 2: Young Couples With Children\n",
    "        # 3: Families With School Age Children\n",
    "        # 4: Older Families & Mature Couples\n",
    "        # 5: Elders In Retirement\n",
    "        df['FAMILY'] = df['CAMEO_INTL_2015'].apply(lambda x: np.mod(int(x), 10) if isinstance(x, str) else np.nan)\n",
    "        col_drop.append('CAMEO_INTL_2015')\n",
    "  \n",
    "    # Splitting LP_LEBENSPHASE_FEIN into two features INCOME and AGE\n",
    "    if 'LP_LEBENSPHASE_FEIN' in df:\n",
    "        print(\"Splitting LP_LEBENSPHASE_FEIN into two features INCOME and AGE\")\n",
    "        # INCOME\n",
    "        # 1: low\n",
    "        # 2: average\n",
    "        # 3: wealthy\n",
    "        # 4: top\n",
    "        income_map = {1: 1, 2: 1, 3: 2, 4: 2, 5: 1, 6: 1, 7: 1, 8: 2, 9: 2, 10: 3,\n",
    "                      11: 2, 12: 2, 13: 4, 14: 2, 15: 1, 16: 2, 17: 2, 18: 3, 19: 3, 20: 4,\n",
    "                      21: 1, 22: 2, 23: 3, 24: 1, 25: 2, 26: 2, 27: 2, 28: 4, 29: 1, 30: 2,\n",
    "                      31: 1, 32: 2, 33: 2, 34: 2, 35: 4, 36: 2, 37: 2, 38: 2, 39: 4, 40: 4}\n",
    "        df['INCOME'] = df['LP_LEBENSPHASE_FEIN'].map(income_map)\n",
    "        # AGE\n",
    "        # 1: young\n",
    "        # 2: middle\n",
    "        # 3: advanced\n",
    "        # 4: retirement\n",
    "        age_map = {1: 1, 2: 2, 3: 1, 4: 2, 5: 3, 6: 4, 7: 3, 8: 4, 9: 2, 10: 2,\n",
    "                  11: 3, 12: 4, 13: 3, 14: 1, 15: 3, 16: 3, 17: 2, 18: 1, 19: 3, 20: 3,\n",
    "                  21: 2, 22: 2, 23: 2, 24: 2, 25: 2, 26: 2, 27: 2, 28: 2, 29: 1, 30: 1,\n",
    "                  31: 3, 32: 3, 33: 1, 34: 1, 35: 1, 36: 3, 37: 3, 38: 4, 39: 2, 40: 4}\n",
    "        df['AGE'] = df['LP_LEBENSPHASE_FEIN'].map(age_map)\n",
    "        col_drop.append('LP_LEBENSPHASE_FEIN')\n",
    "    \n",
    "   \n",
    "    # Splitting PRAEGENDE_JUGENDJAHRE into two DECADE and MOVEMENT\n",
    "    if 'PRAEGENDE_JUGENDJAHRE' in df:\n",
    "        print(\"Splitting PRAEGENDE_JUGENDJAHRE into two DECADE and MOVEMENT\")\n",
    "        # DECADE\n",
    "        decade_map = {1: 40, 2:40, 3: 50, 4:50, 5:60, 6:60, 7:60, 8:70, 9:70, 10:80, \n",
    "                      11:80, 12:80, 13:80, 14:90, 15:90}\n",
    "        df['DECADE'] = df['PRAEGENDE_JUGENDJAHRE'].map(decade_map)\n",
    "        # MOVEMENT\n",
    "        # 0: Mainstream\n",
    "        # 1: Avantgarde\n",
    "        movement_map = {1: 0, 2:1, 3: 0, 4:1, 5:0, 6:1, 7:1, 8:0, 9:1, 10:0, \n",
    "                      11:1, 12:0, 13:1, 14:0, 15:1}\n",
    "        df['MOVEMENT'] = df['PRAEGENDE_JUGENDJAHRE'].map(movement_map)\n",
    "        col_drop.append('PRAEGENDE_JUGENDJAHRE')\n",
    "\n",
    "    if 'EINGEFUEGT_AM' in df:\n",
    "        # Get just the registeration year\n",
    "        print(\"Get the registeration year from EINGEFUEGT_AM\")\n",
    "        df['EINGEFUEGT_YEAR'] = pd.to_datetime(df['EINGEFUEGT_AM']).dt.year\n",
    "        col_drop.append('EINGEFUEGT_AM')\n",
    "    \n",
    "    print(\"Dropping unwanted columns\")\n",
    "    df.drop(columns=col_drop, axis=1, inplace=True)\n",
    "    \n",
    "    print(\"Imputing missing values with most frequent value\")\n",
    "    #Impute the missing values with the most frequent value of the column\n",
    "    imputer = Imputer(missing_values=np.nan, strategy='most_frequent')\n",
    "    imputed_df = pd.DataFrame(imputer.fit_transform(df))\n",
    "    imputed_df.columns = df.columns\n",
    "    imputed_df.index = df.index\n",
    "    \n",
    "    return imputed_df"
   ]
  },
  {
   "cell_type": "code",
   "execution_count": 20,
   "metadata": {},
   "outputs": [
    {
     "name": "stdout",
     "output_type": "stream",
     "text": [
      "label encoding CAMEO_DEU_2015\n",
      "label encoding D19_LETZTER_KAUF_BRANCHE\n",
      "Convert CAMEO_INTL_2015 str to float\n",
      "Mapping OST_WEST_KZ categorical\n",
      "Splitting CAMEO_INTL_2015 Feature into 2 features FAMILY and WEALTH\n",
      "Splitting LP_LEBENSPHASE_FEIN into two features INCOME and AGE\n",
      "Splitting PRAEGENDE_JUGENDJAHRE into two DECADE and MOVEMENT\n",
      "Get the registeration year from EINGEFUEGT_AM\n",
      "Dropping unwanted columns\n",
      "Imputing missing values with most frequent value\n"
     ]
    }
   ],
   "source": [
    "customer_eng = feature_eng(customers)"
   ]
  },
  {
   "cell_type": "code",
   "execution_count": 21,
   "metadata": {},
   "outputs": [
    {
     "data": {
      "text/plain": [
       "[]"
      ]
     },
     "execution_count": 21,
     "metadata": {},
     "output_type": "execute_result"
    }
   ],
   "source": [
    "numeric_columns = customer_eng.select_dtypes(include=np.number).columns.tolist()\n",
    "categorical_columns = list(set(customer_eng.columns).difference(set(numeric_columns)))\n",
    "categorical_columns"
   ]
  },
  {
   "cell_type": "code",
   "execution_count": 22,
   "metadata": {},
   "outputs": [
    {
     "data": {
      "text/plain": [
       "<matplotlib.axes._subplots.AxesSubplot at 0x7f3f24df0780>"
      ]
     },
     "execution_count": 22,
     "metadata": {},
     "output_type": "execute_result"
    },
    {
     "data": {
      "image/png": "[encoded data removed]",
      "text/plain": [
       "<matplotlib.figure.Figure at 0x7f3f24f31f60>"
      ]
     },
     "metadata": {
      "needs_background": "light"
     },
     "output_type": "display_data"
    }
   ],
   "source": [
    "percent_missing_cust = percent_missing_df(customer_eng)\n",
    "percent_missing_cust.plot()"
   ]
  },
  {
   "cell_type": "code",
   "execution_count": 25,
   "metadata": {},
   "outputs": [],
   "source": [
    "customer_eng.to_pickle('customers_eng.pkl')"
   ]
  },
  {
   "cell_type": "code",
   "execution_count": 4,
   "metadata": {},
   "outputs": [
    {
     "name": "stdout",
     "output_type": "stream",
     "text": [
      "label encoding CAMEO_DEU_2015\n",
      "label encoding D19_LETZTER_KAUF_BRANCHE\n",
      "Convert CAMEO_INTL_2015 str to float\n",
      "Mapping OST_WEST_KZ categorical\n",
      "Splitting CAMEO_INTL_2015 Feature into 2 features FAMILY and WEALTH\n",
      "Splitting LP_LEBENSPHASE_FEIN into two features INCOME and AGE\n",
      "Splitting PRAEGENDE_JUGENDJAHRE into two DECADE and MOVEMENT\n",
      "Get the registeration year from EINGEFUEGT_AM\n",
      "Dropping unwanted columns\n",
      "Imputing missing values with most frequent value\n"
     ]
    }
   ],
   "source": [
    "azdias_eng = feature_eng(azdias)"
   ]
  },
  {
   "cell_type": "code",
   "execution_count": 8,
   "metadata": {},
   "outputs": [
    {
     "data": {
      "text/plain": [
       "<matplotlib.axes._subplots.AxesSubplot at 0x7f967bd26d30>"
      ]
     },
     "execution_count": 8,
     "metadata": {},
     "output_type": "execute_result"
    },
    {
     "data": {
      "image/png": "[encoded data removed]",
      "text/plain": [
       "<matplotlib.figure.Figure at 0x7f967c55df98>"
      ]
     },
     "metadata": {
      "needs_background": "light"
     },
     "output_type": "display_data"
    }
   ],
   "source": [
    "percent_missing_az = percent_missing_df(azdias_eng)\n",
    "percent_missing_az.plot()"
   ]
  },
  {
   "cell_type": "code",
   "execution_count": 9,
   "metadata": {},
   "outputs": [],
   "source": [
    "# Save to pickle\n",
    "\n",
    "azdias_eng.to_pickle('azdias_eng.pkl')"
   ]
  },
  {
   "cell_type": "markdown",
   "metadata": {},
   "source": [
    "### Feature Scaling"
   ]
  },
  {
   "cell_type": "code",
   "execution_count": 10,
   "metadata": {},
   "outputs": [],
   "source": [
    "# Load Pickle Data\n",
    "#azdias_eng = pd.read_pickle('azdias_eng.pkl')\n",
    "customers_eng = pd.read_pickle('customers_eng.pkl')"
   ]
  },
  {
   "cell_type": "code",
   "execution_count": 11,
   "metadata": {},
   "outputs": [],
   "source": [
    "def feature_scaling(df):\n",
    "    \"\"\" Perform Min-Max Scaling\n",
    "    \"\"\"\n",
    "    scaler = MinMaxScaler()\n",
    "    scaled_df = pd.DataFrame(scaler.fit_transform(df))\n",
    "    scaled_df.columns = df.columns\n",
    "    scaled_df.index = df.index\n",
    "    return scaled_df"
   ]
  },
  {
   "cell_type": "code",
   "execution_count": 12,
   "metadata": {},
   "outputs": [
    {
     "data": {
      "text/html": [
       "<div>\n",
       "<style scoped>\n",
       "    .dataframe tbody tr th:only-of-type {\n",
       "        vertical-align: middle;\n",
       "    }\n",
       "\n",
       "    .dataframe tbody tr th {\n",
       "        vertical-align: top;\n",
       "    }\n",
       "\n",
       "    .dataframe thead th {\n",
       "        text-align: right;\n",
       "    }\n",
       "</style>\n",
       "<table border=\"1\" class=\"dataframe\">\n",
       "  <thead>\n",
       "    <tr style=\"text-align: right;\">\n",
       "      <th></th>\n",
       "      <th>AKT_DAT_KL</th>\n",
       "      <th>ALTERSKATEGORIE_FEIN</th>\n",
       "      <th>ANZ_HAUSHALTE_AKTIV</th>\n",
       "      <th>ANZ_HH_TITEL</th>\n",
       "      <th>ANZ_KINDER</th>\n",
       "      <th>ANZ_PERSONEN</th>\n",
       "      <th>ANZ_STATISTISCHE_HAUSHALTE</th>\n",
       "      <th>ANZ_TITEL</th>\n",
       "      <th>ARBEIT</th>\n",
       "      <th>BALLRAUM</th>\n",
       "      <th>...</th>\n",
       "      <th>ZABEOTYP</th>\n",
       "      <th>ANREDE_KZ</th>\n",
       "      <th>ALTERSKATEGORIE_GROB</th>\n",
       "      <th>WEALTH</th>\n",
       "      <th>FAMILY</th>\n",
       "      <th>INCOME</th>\n",
       "      <th>AGE</th>\n",
       "      <th>DECADE</th>\n",
       "      <th>MOVEMENT</th>\n",
       "      <th>EINGEFUEGT_YEAR</th>\n",
       "    </tr>\n",
       "  </thead>\n",
       "  <tbody>\n",
       "    <tr>\n",
       "      <th>0</th>\n",
       "      <td>0.0</td>\n",
       "      <td>0.40</td>\n",
       "      <td>0.001912</td>\n",
       "      <td>0.0</td>\n",
       "      <td>0.0</td>\n",
       "      <td>0.095238</td>\n",
       "      <td>0.002667</td>\n",
       "      <td>0.0</td>\n",
       "      <td>0.00</td>\n",
       "      <td>0.333333</td>\n",
       "      <td>...</td>\n",
       "      <td>0.4</td>\n",
       "      <td>0.0</td>\n",
       "      <td>0.375</td>\n",
       "      <td>0.00</td>\n",
       "      <td>0.50</td>\n",
       "      <td>1.000000</td>\n",
       "      <td>0.666667</td>\n",
       "      <td>0.2</td>\n",
       "      <td>1.0</td>\n",
       "      <td>0.0</td>\n",
       "    </tr>\n",
       "    <tr>\n",
       "      <th>1</th>\n",
       "      <td>1.0</td>\n",
       "      <td>0.40</td>\n",
       "      <td>0.001912</td>\n",
       "      <td>0.0</td>\n",
       "      <td>0.0</td>\n",
       "      <td>0.142857</td>\n",
       "      <td>0.002667</td>\n",
       "      <td>0.0</td>\n",
       "      <td>0.25</td>\n",
       "      <td>0.833333</td>\n",
       "      <td>...</td>\n",
       "      <td>0.4</td>\n",
       "      <td>0.0</td>\n",
       "      <td>0.375</td>\n",
       "      <td>0.25</td>\n",
       "      <td>0.75</td>\n",
       "      <td>0.333333</td>\n",
       "      <td>0.666667</td>\n",
       "      <td>0.2</td>\n",
       "      <td>0.0</td>\n",
       "      <td>0.0</td>\n",
       "    </tr>\n",
       "    <tr>\n",
       "      <th>2</th>\n",
       "      <td>0.0</td>\n",
       "      <td>0.00</td>\n",
       "      <td>0.001912</td>\n",
       "      <td>0.0</td>\n",
       "      <td>0.0</td>\n",
       "      <td>0.047619</td>\n",
       "      <td>0.002667</td>\n",
       "      <td>0.0</td>\n",
       "      <td>0.25</td>\n",
       "      <td>1.000000</td>\n",
       "      <td>...</td>\n",
       "      <td>0.4</td>\n",
       "      <td>1.0</td>\n",
       "      <td>0.375</td>\n",
       "      <td>0.50</td>\n",
       "      <td>0.75</td>\n",
       "      <td>1.000000</td>\n",
       "      <td>0.666667</td>\n",
       "      <td>0.2</td>\n",
       "      <td>1.0</td>\n",
       "      <td>0.0</td>\n",
       "    </tr>\n",
       "    <tr>\n",
       "      <th>3</th>\n",
       "      <td>0.0</td>\n",
       "      <td>0.32</td>\n",
       "      <td>0.000000</td>\n",
       "      <td>0.0</td>\n",
       "      <td>0.0</td>\n",
       "      <td>0.000000</td>\n",
       "      <td>0.002667</td>\n",
       "      <td>0.0</td>\n",
       "      <td>0.00</td>\n",
       "      <td>1.000000</td>\n",
       "      <td>...</td>\n",
       "      <td>0.0</td>\n",
       "      <td>0.0</td>\n",
       "      <td>0.375</td>\n",
       "      <td>0.25</td>\n",
       "      <td>0.75</td>\n",
       "      <td>0.333333</td>\n",
       "      <td>0.666667</td>\n",
       "      <td>0.0</td>\n",
       "      <td>0.0</td>\n",
       "      <td>0.0</td>\n",
       "    </tr>\n",
       "    <tr>\n",
       "      <th>4</th>\n",
       "      <td>0.0</td>\n",
       "      <td>0.56</td>\n",
       "      <td>0.013384</td>\n",
       "      <td>0.0</td>\n",
       "      <td>0.0</td>\n",
       "      <td>0.190476</td>\n",
       "      <td>0.018667</td>\n",
       "      <td>0.0</td>\n",
       "      <td>0.25</td>\n",
       "      <td>0.333333</td>\n",
       "      <td>...</td>\n",
       "      <td>0.0</td>\n",
       "      <td>0.0</td>\n",
       "      <td>0.250</td>\n",
       "      <td>0.75</td>\n",
       "      <td>0.00</td>\n",
       "      <td>0.000000</td>\n",
       "      <td>0.666667</td>\n",
       "      <td>0.6</td>\n",
       "      <td>0.0</td>\n",
       "      <td>0.0</td>\n",
       "    </tr>\n",
       "  </tbody>\n",
       "</table>\n",
       "<p>5 rows × 358 columns</p>\n",
       "</div>"
      ],
      "text/plain": [
       "   AKT_DAT_KL  ALTERSKATEGORIE_FEIN  ANZ_HAUSHALTE_AKTIV  ANZ_HH_TITEL  \\\n",
       "0         0.0                  0.40             0.001912           0.0   \n",
       "1         1.0                  0.40             0.001912           0.0   \n",
       "2         0.0                  0.00             0.001912           0.0   \n",
       "3         0.0                  0.32             0.000000           0.0   \n",
       "4         0.0                  0.56             0.013384           0.0   \n",
       "\n",
       "   ANZ_KINDER  ANZ_PERSONEN  ANZ_STATISTISCHE_HAUSHALTE  ANZ_TITEL  ARBEIT  \\\n",
       "0         0.0      0.095238                    0.002667        0.0    0.00   \n",
       "1         0.0      0.142857                    0.002667        0.0    0.25   \n",
       "2         0.0      0.047619                    0.002667        0.0    0.25   \n",
       "3         0.0      0.000000                    0.002667        0.0    0.00   \n",
       "4         0.0      0.190476                    0.018667        0.0    0.25   \n",
       "\n",
       "   BALLRAUM       ...         ZABEOTYP  ANREDE_KZ  ALTERSKATEGORIE_GROB  \\\n",
       "0  0.333333       ...              0.4        0.0                 0.375   \n",
       "1  0.833333       ...              0.4        0.0                 0.375   \n",
       "2  1.000000       ...              0.4        1.0                 0.375   \n",
       "3  1.000000       ...              0.0        0.0                 0.375   \n",
       "4  0.333333       ...              0.0        0.0                 0.250   \n",
       "\n",
       "   WEALTH  FAMILY    INCOME       AGE  DECADE  MOVEMENT  EINGEFUEGT_YEAR  \n",
       "0    0.00    0.50  1.000000  0.666667     0.2       1.0              0.0  \n",
       "1    0.25    0.75  0.333333  0.666667     0.2       0.0              0.0  \n",
       "2    0.50    0.75  1.000000  0.666667     0.2       1.0              0.0  \n",
       "3    0.25    0.75  0.333333  0.666667     0.0       0.0              0.0  \n",
       "4    0.75    0.00  0.000000  0.666667     0.6       0.0              0.0  \n",
       "\n",
       "[5 rows x 358 columns]"
      ]
     },
     "execution_count": 12,
     "metadata": {},
     "output_type": "execute_result"
    }
   ],
   "source": [
    "customer_scaled = feature_scaling(customers_eng)\n",
    "customer_scaled.head()"
   ]
  },
  {
   "cell_type": "code",
   "execution_count": 86,
   "metadata": {},
   "outputs": [],
   "source": [
    "customer_scaled.to_pickle('customers_scaled.pkl')"
   ]
  },
  {
   "cell_type": "code",
   "execution_count": 15,
   "metadata": {},
   "outputs": [],
   "source": [
    "azdias_scaled = feature_scaling(azdias_eng)"
   ]
  },
  {
   "cell_type": "markdown",
   "metadata": {},
   "source": [
    "### Dimensionality Reduction"
   ]
  },
  {
   "cell_type": "code",
   "execution_count": 2,
   "metadata": {},
   "outputs": [],
   "source": [
    "# Load Pickle Data\n",
    "azdias_scaled = pd.read_pickle('azdias_scaled.pkl')\n",
    "customer_scaled = pd.read_pickle('customers_scaled.pkl')"
   ]
  },
  {
   "cell_type": "code",
   "execution_count": 3,
   "metadata": {},
   "outputs": [],
   "source": [
    "def plot_pca_variance(df):\n",
    "    \"\"\" Plot PCA Variance Graph\n",
    "    \"\"\"\n",
    "    pca = PCA().fit(df)\n",
    "    plt.figure(figsize=(10,8))\n",
    "    plt.plot(pca.explained_variance_ratio_.cumsum(),marker='o',linestyle='--')\n",
    "    plt.title(\"Exaplained Variance by Components\")\n",
    "    plt.xlabel(\"Number of Component\")\n",
    "    plt.ylabel(\"Cummulative Explained Variance\")\n",
    "    plt.grid()\n",
    "    plt.show()\n",
    "    "
   ]
  },
  {
   "cell_type": "code",
   "execution_count": 23,
   "metadata": {},
   "outputs": [
    {
     "data": {
      "image/png": "[encoded data removed]",
      "text/plain": [
       "<matplotlib.figure.Figure at 0x7f967bbf4e48>"
      ]
     },
     "metadata": {
      "needs_background": "light"
     },
     "output_type": "display_data"
    }
   ],
   "source": [
    "plot_pca_variance(customer_scaled)"
   ]
  },
  {
   "cell_type": "code",
   "execution_count": null,
   "metadata": {},
   "outputs": [],
   "source": [
    "plot_pca_variance(azdias_scaled)"
   ]
  },
  {
   "cell_type": "code",
   "execution_count": 73,
   "metadata": {},
   "outputs": [],
   "source": [
    "def pca_model(df, n):\n",
    "    \"\"\" Get the PCA model to get the components\n",
    "    \"\"\"\n",
    "    pca = PCA(n_components=n, random_state=87).fit(df)\n",
    "    print('Explained Variance: ' + str(pca.explained_variance_ratio_.sum()))\n",
    "    pca_components = pd.DataFrame(pca.components_,columns=df.columns, index=pca_df.columns)\n",
    "    return pca, pca_components"
   ]
  },
  {
   "cell_type": "code",
   "execution_count": 74,
   "metadata": {},
   "outputs": [],
   "source": [
    "def reduce_dimension(df, pca):\n",
    "    \"\"\" Perform PCA transformation to reduce dimension\n",
    "    \"\"\"\n",
    "    pca_df = pd.DataFrame(pca.transform(df))\n",
    "    \n",
    "    return pca_df, pca_components"
   ]
  },
  {
   "cell_type": "markdown",
   "metadata": {},
   "source": [
    "Use the same PCA model for general poplation and customer data, so the principal components are the same, which is important for finding the customer segmentation later."
   ]
  },
  {
   "cell_type": "code",
   "execution_count": 75,
   "metadata": {},
   "outputs": [
    {
     "name": "stdout",
     "output_type": "stream",
     "text": [
      "Explained Variance: 0.889071884627\n"
     ]
    }
   ],
   "source": [
    "pca_150, pca_components = pca_model(azdias_scaled, 150)"
   ]
  },
  {
   "cell_type": "code",
   "execution_count": null,
   "metadata": {},
   "outputs": [],
   "source": [
    "azdias_reduced = reduce_dimension(azdias_scaled, pca_150)"
   ]
  },
  {
   "cell_type": "code",
   "execution_count": 77,
   "metadata": {},
   "outputs": [],
   "source": [
    "customers_reduced = reduce_dimension(customer_scaled, pca_150)"
   ]
  },
  {
   "cell_type": "markdown",
   "metadata": {},
   "source": [
    "### Component Makeup"
   ]
  },
  {
   "cell_type": "code",
   "execution_count": 78,
   "metadata": {},
   "outputs": [],
   "source": [
    "def display_component(pca_components_df, component_num, n_weights=10):\n",
    "    \n",
    "    # get index of component (last row - component_num)\n",
    "    row_idx = len(pca_components_df)-component_num\n",
    "\n",
    "    # match weights to features in scaled dataframe, using list comprehension\n",
    "    comps = pd.DataFrame(list(zip(pca_components_df.iloc[row_idx], pca_components_df.columns.values)), \n",
    "                         columns=['weights', 'features'])\n",
    "    \n",
    "    # we'll want to sort by the largest n_weights\n",
    "    # weights can be neg/pos and we'll sort by magnitude\n",
    "    comps['abs_weights']=comps['weights'].apply(lambda x: np.abs(x))\n",
    "    sorted_weight_data = comps.sort_values('abs_weights', ascending=False).head(n_weights)\n",
    "    # display using seaborn\n",
    "    ax=plt.subplots(figsize=(10,6))\n",
    "    ax=sns.barplot(data=sorted_weight_data, \n",
    "                   x=\"weights\", \n",
    "                   y=\"features\", \n",
    "                   palette=\"Blues_d\")\n",
    "    ax.set_title(\"PCA Component Makeup, Component #\" + str(component_num))\n",
    "    plt.show()"
   ]
  },
  {
   "cell_type": "code",
   "execution_count": 79,
   "metadata": {},
   "outputs": [
    {
     "data": {
      "image/png": "[encoded data removed]",
      "text/plain": [
       "<matplotlib.figure.Figure at 0x7f0bc875ed30>"
      ]
     },
     "metadata": {
      "needs_background": "light"
     },
     "output_type": "display_data"
    }
   ],
   "source": [
    "num=1\n",
    "display_component(pca_components, component_num=num, n_weights=10)"
   ]
  },
  {
   "cell_type": "code",
   "execution_count": 81,
   "metadata": {},
   "outputs": [
    {
     "data": {
      "image/png": "[encoded data removed]",
      "text/plain": [
       "<matplotlib.figure.Figure at 0x7f0bc832fdd8>"
      ]
     },
     "metadata": {
      "needs_background": "light"
     },
     "output_type": "display_data"
    }
   ],
   "source": [
    "num=2\n",
    "display_component(pca_components, component_num=num, n_weights=10)"
   ]
  },
  {
   "cell_type": "code",
   "execution_count": 83,
   "metadata": {},
   "outputs": [
    {
     "data": {
      "image/png": "[encoded data removed]",
      "text/plain": [
       "<matplotlib.figure.Figure at 0x7f0bc8197550>"
      ]
     },
     "metadata": {
      "needs_background": "light"
     },
     "output_type": "display_data"
    }
   ],
   "source": [
    "num=3\n",
    "display_component(pca_components, component_num=num, n_weights=10)"
   ]
  },
  {
   "cell_type": "code",
   "execution_count": 84,
   "metadata": {},
   "outputs": [],
   "source": [
    "# Save to pickle\n",
    "customers_reduced.to_pickle('customers_reduced.pkl')"
   ]
  },
  {
   "cell_type": "code",
   "execution_count": 67,
   "metadata": {},
   "outputs": [],
   "source": [
    "azdias_reduced.to_pickle('azdias_reduced.pkl')"
   ]
  },
  {
   "cell_type": "markdown",
   "metadata": {},
   "source": [
    "## Part 1: Customer Segmentation Report\n",
    "\n",
    "The main bulk of your analysis will come in this part of the project. Here, you should use unsupervised learning techniques to describe the relationship between the demographics of the company's existing customers and the general population of Germany. By the end of this part, you should be able to describe parts of the general population that are more likely to be part of the mail-order company's main customer base, and which parts of the general population are less so."
   ]
  },
  {
   "cell_type": "markdown",
   "metadata": {},
   "source": [
    "### Elbow Method"
   ]
  },
  {
   "cell_type": "code",
   "execution_count": 2,
   "metadata": {},
   "outputs": [],
   "source": [
    "# Load Pickle Data\n",
    "azdias_reduced = pd.read_pickle('azdias_reduced.pkl')\n",
    "customers_reduced = pd.read_pickle('customers_reduced.pkl')"
   ]
  },
  {
   "cell_type": "code",
   "execution_count": 10,
   "metadata": {},
   "outputs": [],
   "source": [
    "# K-Means Clustering\n",
    "def elbow_method(scaled_features, max_clusters):\n",
    "    \"\"\" elbow method to find the number of clusters\n",
    "    \"\"\"\n",
    "    kmeans_kwargs = {\n",
    "        \"init\": \"random\",\n",
    "        \"n_init\": 10,\n",
    "        \"max_iter\": 300,\n",
    "        \"random_state\": 42,\n",
    "    }\n",
    "\n",
    "    # A list holds the SSE values for each k\n",
    "    sse = []\n",
    "    for k in range(1, max_clusters):\n",
    "        print(\"K: {}\".format(k))\n",
    "        kmeans = KMeans(n_clusters=k, **kmeans_kwargs)\n",
    "        kmeans.fit(scaled_features)\n",
    "        sse.append(kmeans.inertia_)\n",
    "        print(\"The lowest SSE value: {}\".format(sse[k-1]))\n",
    "    \n",
    "    # Plot SSE vs number of clusters\n",
    "    plt.style.use(\"fivethirtyeight\")\n",
    "    plt.plot(range(1, max_clusters), sse)\n",
    "    plt.xticks(range(1, max_clusters))\n",
    "    plt.xlabel(\"Number of Clusters\")\n",
    "    plt.ylabel(\"SSE\")\n",
    "    plt.show()\n",
    "        "
   ]
  },
  {
   "cell_type": "code",
   "execution_count": 11,
   "metadata": {},
   "outputs": [
    {
     "name": "stdout",
     "output_type": "stream",
     "text": [
      "K: 1\n",
      "The lowest SSE value: 21326063.975148182\n",
      "K: 2\n",
      "The lowest SSE value: 19524489.31910475\n",
      "K: 3\n",
      "The lowest SSE value: 18714798.726486605\n",
      "K: 4\n",
      "The lowest SSE value: 18089666.508084763\n",
      "K: 5\n",
      "The lowest SSE value: 17616730.927996017\n",
      "K: 6\n",
      "The lowest SSE value: 17251321.233780053\n",
      "K: 7\n",
      "The lowest SSE value: 16980490.906085905\n",
      "K: 8\n",
      "The lowest SSE value: 16728569.284293624\n",
      "K: 9\n",
      "The lowest SSE value: 16547904.450586628\n",
      "K: 10\n",
      "The lowest SSE value: 16399465.343768438\n",
      "K: 11\n",
      "The lowest SSE value: 16266560.4063595\n",
      "K: 12\n",
      "The lowest SSE value: 16144582.81053339\n",
      "K: 13\n",
      "The lowest SSE value: 16032773.138720745\n",
      "K: 14\n",
      "The lowest SSE value: 15942851.12860372\n",
      "K: 15\n",
      "The lowest SSE value: 15862636.869239861\n",
      "K: 16\n",
      "The lowest SSE value: 15766717.309916541\n",
      "K: 17\n",
      "The lowest SSE value: 15680662.463771755\n",
      "K: 18\n",
      "The lowest SSE value: 15617241.180784734\n",
      "K: 19\n",
      "The lowest SSE value: 15537232.256807828\n"
     ]
    },
    {
     "ename": "ValueError",
     "evalue": "x and y must have same first dimension, but have shapes (10,) and (19,)",
     "output_type": "error",
     "traceback": [
      "\u001b[0;31m---------------------------------------------------------------------------\u001b[0m",
      "\u001b[0;31mValueError\u001b[0m                                Traceback (most recent call last)",
      "\u001b[0;32m<timed eval>\u001b[0m in \u001b[0;36m<module>\u001b[0;34m()\u001b[0m\n",
      "\u001b[0;32m<ipython-input-10-5d3a873bee8e>\u001b[0m in \u001b[0;36melbow_method\u001b[0;34m(scaled_features, max_clusters)\u001b[0m\n\u001b[1;32m     21\u001b[0m     \u001b[0;31m# Plot SSE vs number of clusters\u001b[0m\u001b[0;34m\u001b[0m\u001b[0;34m\u001b[0m\u001b[0m\n\u001b[1;32m     22\u001b[0m     \u001b[0mplt\u001b[0m\u001b[0;34m.\u001b[0m\u001b[0mstyle\u001b[0m\u001b[0;34m.\u001b[0m\u001b[0muse\u001b[0m\u001b[0;34m(\u001b[0m\u001b[0;34m\"fivethirtyeight\"\u001b[0m\u001b[0;34m)\u001b[0m\u001b[0;34m\u001b[0m\u001b[0m\n\u001b[0;32m---> 23\u001b[0;31m     \u001b[0mplt\u001b[0m\u001b[0;34m.\u001b[0m\u001b[0mplot\u001b[0m\u001b[0;34m(\u001b[0m\u001b[0mrange\u001b[0m\u001b[0;34m(\u001b[0m\u001b[0;36m1\u001b[0m\u001b[0;34m,\u001b[0m \u001b[0;36m11\u001b[0m\u001b[0;34m)\u001b[0m\u001b[0;34m,\u001b[0m \u001b[0msse\u001b[0m\u001b[0;34m)\u001b[0m\u001b[0;34m\u001b[0m\u001b[0m\n\u001b[0m\u001b[1;32m     24\u001b[0m     \u001b[0mplt\u001b[0m\u001b[0;34m.\u001b[0m\u001b[0mxticks\u001b[0m\u001b[0;34m(\u001b[0m\u001b[0mrange\u001b[0m\u001b[0;34m(\u001b[0m\u001b[0;36m1\u001b[0m\u001b[0;34m,\u001b[0m \u001b[0;36m11\u001b[0m\u001b[0;34m)\u001b[0m\u001b[0;34m)\u001b[0m\u001b[0;34m\u001b[0m\u001b[0m\n\u001b[1;32m     25\u001b[0m     \u001b[0mplt\u001b[0m\u001b[0;34m.\u001b[0m\u001b[0mxlabel\u001b[0m\u001b[0;34m(\u001b[0m\u001b[0;34m\"Number of Clusters\"\u001b[0m\u001b[0;34m)\u001b[0m\u001b[0;34m\u001b[0m\u001b[0m\n",
      "\u001b[0;32m/opt/conda/lib/python3.6/site-packages/matplotlib/pyplot.py\u001b[0m in \u001b[0;36mplot\u001b[0;34m(*args, **kwargs)\u001b[0m\n\u001b[1;32m   3238\u001b[0m                       mplDeprecation)\n\u001b[1;32m   3239\u001b[0m     \u001b[0;32mtry\u001b[0m\u001b[0;34m:\u001b[0m\u001b[0;34m\u001b[0m\u001b[0m\n\u001b[0;32m-> 3240\u001b[0;31m         \u001b[0mret\u001b[0m \u001b[0;34m=\u001b[0m \u001b[0max\u001b[0m\u001b[0;34m.\u001b[0m\u001b[0mplot\u001b[0m\u001b[0;34m(\u001b[0m\u001b[0;34m*\u001b[0m\u001b[0margs\u001b[0m\u001b[0;34m,\u001b[0m \u001b[0;34m**\u001b[0m\u001b[0mkwargs\u001b[0m\u001b[0;34m)\u001b[0m\u001b[0;34m\u001b[0m\u001b[0m\n\u001b[0m\u001b[1;32m   3241\u001b[0m     \u001b[0;32mfinally\u001b[0m\u001b[0;34m:\u001b[0m\u001b[0;34m\u001b[0m\u001b[0m\n\u001b[1;32m   3242\u001b[0m         \u001b[0max\u001b[0m\u001b[0;34m.\u001b[0m\u001b[0m_hold\u001b[0m \u001b[0;34m=\u001b[0m \u001b[0mwashold\u001b[0m\u001b[0;34m\u001b[0m\u001b[0m\n",
      "\u001b[0;32m/opt/conda/lib/python3.6/site-packages/matplotlib/__init__.py\u001b[0m in \u001b[0;36minner\u001b[0;34m(ax, *args, **kwargs)\u001b[0m\n\u001b[1;32m   1708\u001b[0m                     warnings.warn(msg % (label_namer, func.__name__),\n\u001b[1;32m   1709\u001b[0m                                   RuntimeWarning, stacklevel=2)\n\u001b[0;32m-> 1710\u001b[0;31m             \u001b[0;32mreturn\u001b[0m \u001b[0mfunc\u001b[0m\u001b[0;34m(\u001b[0m\u001b[0max\u001b[0m\u001b[0;34m,\u001b[0m \u001b[0;34m*\u001b[0m\u001b[0margs\u001b[0m\u001b[0;34m,\u001b[0m \u001b[0;34m**\u001b[0m\u001b[0mkwargs\u001b[0m\u001b[0;34m)\u001b[0m\u001b[0;34m\u001b[0m\u001b[0m\n\u001b[0m\u001b[1;32m   1711\u001b[0m         \u001b[0mpre_doc\u001b[0m \u001b[0;34m=\u001b[0m \u001b[0minner\u001b[0m\u001b[0;34m.\u001b[0m\u001b[0m__doc__\u001b[0m\u001b[0;34m\u001b[0m\u001b[0m\n\u001b[1;32m   1712\u001b[0m         \u001b[0;32mif\u001b[0m \u001b[0mpre_doc\u001b[0m \u001b[0;32mis\u001b[0m \u001b[0;32mNone\u001b[0m\u001b[0;34m:\u001b[0m\u001b[0;34m\u001b[0m\u001b[0m\n",
      "\u001b[0;32m/opt/conda/lib/python3.6/site-packages/matplotlib/axes/_axes.py\u001b[0m in \u001b[0;36mplot\u001b[0;34m(self, *args, **kwargs)\u001b[0m\n\u001b[1;32m   1435\u001b[0m         \u001b[0mkwargs\u001b[0m \u001b[0;34m=\u001b[0m \u001b[0mcbook\u001b[0m\u001b[0;34m.\u001b[0m\u001b[0mnormalize_kwargs\u001b[0m\u001b[0;34m(\u001b[0m\u001b[0mkwargs\u001b[0m\u001b[0;34m,\u001b[0m \u001b[0m_alias_map\u001b[0m\u001b[0;34m)\u001b[0m\u001b[0;34m\u001b[0m\u001b[0m\n\u001b[1;32m   1436\u001b[0m \u001b[0;34m\u001b[0m\u001b[0m\n\u001b[0;32m-> 1437\u001b[0;31m         \u001b[0;32mfor\u001b[0m \u001b[0mline\u001b[0m \u001b[0;32min\u001b[0m \u001b[0mself\u001b[0m\u001b[0;34m.\u001b[0m\u001b[0m_get_lines\u001b[0m\u001b[0;34m(\u001b[0m\u001b[0;34m*\u001b[0m\u001b[0margs\u001b[0m\u001b[0;34m,\u001b[0m \u001b[0;34m**\u001b[0m\u001b[0mkwargs\u001b[0m\u001b[0;34m)\u001b[0m\u001b[0;34m:\u001b[0m\u001b[0;34m\u001b[0m\u001b[0m\n\u001b[0m\u001b[1;32m   1438\u001b[0m             \u001b[0mself\u001b[0m\u001b[0;34m.\u001b[0m\u001b[0madd_line\u001b[0m\u001b[0;34m(\u001b[0m\u001b[0mline\u001b[0m\u001b[0;34m)\u001b[0m\u001b[0;34m\u001b[0m\u001b[0m\n\u001b[1;32m   1439\u001b[0m             \u001b[0mlines\u001b[0m\u001b[0;34m.\u001b[0m\u001b[0mappend\u001b[0m\u001b[0;34m(\u001b[0m\u001b[0mline\u001b[0m\u001b[0;34m)\u001b[0m\u001b[0;34m\u001b[0m\u001b[0m\n",
      "\u001b[0;32m/opt/conda/lib/python3.6/site-packages/matplotlib/axes/_base.py\u001b[0m in \u001b[0;36m_grab_next_args\u001b[0;34m(self, *args, **kwargs)\u001b[0m\n\u001b[1;32m    402\u001b[0m                 \u001b[0mthis\u001b[0m \u001b[0;34m+=\u001b[0m \u001b[0margs\u001b[0m\u001b[0;34m[\u001b[0m\u001b[0;36m0\u001b[0m\u001b[0;34m]\u001b[0m\u001b[0;34m,\u001b[0m\u001b[0;34m\u001b[0m\u001b[0m\n\u001b[1;32m    403\u001b[0m                 \u001b[0margs\u001b[0m \u001b[0;34m=\u001b[0m \u001b[0margs\u001b[0m\u001b[0;34m[\u001b[0m\u001b[0;36m1\u001b[0m\u001b[0;34m:\u001b[0m\u001b[0;34m]\u001b[0m\u001b[0;34m\u001b[0m\u001b[0m\n\u001b[0;32m--> 404\u001b[0;31m             \u001b[0;32mfor\u001b[0m \u001b[0mseg\u001b[0m \u001b[0;32min\u001b[0m \u001b[0mself\u001b[0m\u001b[0;34m.\u001b[0m\u001b[0m_plot_args\u001b[0m\u001b[0;34m(\u001b[0m\u001b[0mthis\u001b[0m\u001b[0;34m,\u001b[0m \u001b[0mkwargs\u001b[0m\u001b[0;34m)\u001b[0m\u001b[0;34m:\u001b[0m\u001b[0;34m\u001b[0m\u001b[0m\n\u001b[0m\u001b[1;32m    405\u001b[0m                 \u001b[0;32myield\u001b[0m \u001b[0mseg\u001b[0m\u001b[0;34m\u001b[0m\u001b[0m\n\u001b[1;32m    406\u001b[0m \u001b[0;34m\u001b[0m\u001b[0m\n",
      "\u001b[0;32m/opt/conda/lib/python3.6/site-packages/matplotlib/axes/_base.py\u001b[0m in \u001b[0;36m_plot_args\u001b[0;34m(self, tup, kwargs)\u001b[0m\n\u001b[1;32m    382\u001b[0m             \u001b[0mx\u001b[0m\u001b[0;34m,\u001b[0m \u001b[0my\u001b[0m \u001b[0;34m=\u001b[0m \u001b[0mindex_of\u001b[0m\u001b[0;34m(\u001b[0m\u001b[0mtup\u001b[0m\u001b[0;34m[\u001b[0m\u001b[0;34m-\u001b[0m\u001b[0;36m1\u001b[0m\u001b[0;34m]\u001b[0m\u001b[0;34m)\u001b[0m\u001b[0;34m\u001b[0m\u001b[0m\n\u001b[1;32m    383\u001b[0m \u001b[0;34m\u001b[0m\u001b[0m\n\u001b[0;32m--> 384\u001b[0;31m         \u001b[0mx\u001b[0m\u001b[0;34m,\u001b[0m \u001b[0my\u001b[0m \u001b[0;34m=\u001b[0m \u001b[0mself\u001b[0m\u001b[0;34m.\u001b[0m\u001b[0m_xy_from_xy\u001b[0m\u001b[0;34m(\u001b[0m\u001b[0mx\u001b[0m\u001b[0;34m,\u001b[0m \u001b[0my\u001b[0m\u001b[0;34m)\u001b[0m\u001b[0;34m\u001b[0m\u001b[0m\n\u001b[0m\u001b[1;32m    385\u001b[0m \u001b[0;34m\u001b[0m\u001b[0m\n\u001b[1;32m    386\u001b[0m         \u001b[0;32mif\u001b[0m \u001b[0mself\u001b[0m\u001b[0;34m.\u001b[0m\u001b[0mcommand\u001b[0m \u001b[0;34m==\u001b[0m \u001b[0;34m'plot'\u001b[0m\u001b[0;34m:\u001b[0m\u001b[0;34m\u001b[0m\u001b[0m\n",
      "\u001b[0;32m/opt/conda/lib/python3.6/site-packages/matplotlib/axes/_base.py\u001b[0m in \u001b[0;36m_xy_from_xy\u001b[0;34m(self, x, y)\u001b[0m\n\u001b[1;32m    241\u001b[0m         \u001b[0;32mif\u001b[0m \u001b[0mx\u001b[0m\u001b[0;34m.\u001b[0m\u001b[0mshape\u001b[0m\u001b[0;34m[\u001b[0m\u001b[0;36m0\u001b[0m\u001b[0;34m]\u001b[0m \u001b[0;34m!=\u001b[0m \u001b[0my\u001b[0m\u001b[0;34m.\u001b[0m\u001b[0mshape\u001b[0m\u001b[0;34m[\u001b[0m\u001b[0;36m0\u001b[0m\u001b[0;34m]\u001b[0m\u001b[0;34m:\u001b[0m\u001b[0;34m\u001b[0m\u001b[0m\n\u001b[1;32m    242\u001b[0m             raise ValueError(\"x and y must have same first dimension, but \"\n\u001b[0;32m--> 243\u001b[0;31m                              \"have shapes {} and {}\".format(x.shape, y.shape))\n\u001b[0m\u001b[1;32m    244\u001b[0m         \u001b[0;32mif\u001b[0m \u001b[0mx\u001b[0m\u001b[0;34m.\u001b[0m\u001b[0mndim\u001b[0m \u001b[0;34m>\u001b[0m \u001b[0;36m2\u001b[0m \u001b[0;32mor\u001b[0m \u001b[0my\u001b[0m\u001b[0;34m.\u001b[0m\u001b[0mndim\u001b[0m \u001b[0;34m>\u001b[0m \u001b[0;36m2\u001b[0m\u001b[0;34m:\u001b[0m\u001b[0;34m\u001b[0m\u001b[0m\n\u001b[1;32m    245\u001b[0m             raise ValueError(\"x and y can be no greater than 2-D, but have \"\n",
      "\u001b[0;31mValueError\u001b[0m: x and y must have same first dimension, but have shapes (10,) and (19,)"
     ]
    },
    {
     "data": {
      "image/png": "[encoded data removed]",
      "text/plain": [
       "<matplotlib.figure.Figure at 0x7efbf8f12fd0>"
      ]
     },
     "metadata": {},
     "output_type": "display_data"
    }
   ],
   "source": [
    "%%time\n",
    "elbow_method(azdias_reduced, 20)"
   ]
  },
  {
   "cell_type": "code",
   "execution_count": 12,
   "metadata": {},
   "outputs": [
    {
     "data": {
      "image/png": "[encoded data removed]",
      "text/plain": [
       "<matplotlib.figure.Figure at 0x7efc286a0e80>"
      ]
     },
     "metadata": {},
     "output_type": "display_data"
    }
   ],
   "source": [
    "max_clusters = 20\n",
    "sse = [21326063.975148182, 19524489.31910475, 18714798.726486605, 18089666.508084763, 17616730.927996017,\n",
    "      17251321.233780053, 16980490.906085905, 16728569.284293624, 16547904.450586628, 16399465.343768438,\n",
    "      16266560.4063595, 16144582.81053339, 16032773.138720745, 15942851.12860372, 15862636.869239861,\n",
    "      15766717.309916541, 15680662.463771755, 15617241.180784734, 15537232.256807828]\n",
    "# Plot SSE vs number of clusters\n",
    "plt.style.use(\"fivethirtyeight\")\n",
    "plt.plot(range(1, max_clusters), sse)\n",
    "plt.xticks(range(1, max_clusters))\n",
    "plt.xlabel(\"Number of Clusters\")\n",
    "plt.ylabel(\"SSE\")\n",
    "plt.show()"
   ]
  },
  {
   "cell_type": "code",
   "execution_count": 13,
   "metadata": {},
   "outputs": [
    {
     "data": {
      "text/plain": [
       "6"
      ]
     },
     "execution_count": 13,
     "metadata": {},
     "output_type": "execute_result"
    }
   ],
   "source": [
    "# Number of Clusters\n",
    "kl = KneeLocator(range(1, max_clusters), sse, curve=\"convex\", direction=\"decreasing\")\n",
    "kl.elbow"
   ]
  },
  {
   "cell_type": "markdown",
   "metadata": {},
   "source": [
    "### K-Means Clustering"
   ]
  },
  {
   "cell_type": "code",
   "execution_count": 14,
   "metadata": {},
   "outputs": [],
   "source": [
    "# K-Means model for 6 clusters\n",
    "kmeans = KMeans(6)\n",
    "kmodel = kmeans.fit(azdias_reduced)"
   ]
  },
  {
   "cell_type": "code",
   "execution_count": 50,
   "metadata": {},
   "outputs": [],
   "source": [
    "# Save Model\n",
    "import pickle\n",
    "pickle.dump(kmodel, open(\"kmodel.pkl\", \"wb\"))"
   ]
  },
  {
   "cell_type": "code",
   "execution_count": null,
   "metadata": {},
   "outputs": [],
   "source": [
    "# Load Model\n",
    "kmodel = pickle.load(open(\"kmodel.pkl\", \"rb\"))"
   ]
  },
  {
   "cell_type": "code",
   "execution_count": 48,
   "metadata": {},
   "outputs": [
    {
     "data": {
      "text/plain": [
       "150"
      ]
     },
     "execution_count": 48,
     "metadata": {},
     "output_type": "execute_result"
    }
   ],
   "source": [
    "len(kmodel.cluster_centers_[0])"
   ]
  },
  {
   "cell_type": "code",
   "execution_count": 18,
   "metadata": {},
   "outputs": [],
   "source": [
    "azdias_clusters = kmodel.predict(azdias_reduced)"
   ]
  },
  {
   "cell_type": "code",
   "execution_count": 22,
   "metadata": {},
   "outputs": [],
   "source": [
    "customers_clusters = kmodel.predict(customers_reduced)"
   ]
  },
  {
   "cell_type": "markdown",
   "metadata": {},
   "source": [
    "### Cluster Mapping"
   ]
  },
  {
   "cell_type": "code",
   "execution_count": 30,
   "metadata": {},
   "outputs": [
    {
     "data": {
      "text/plain": [
       "{1: 38.88975852065201,\n",
       " 2: 23.8239100035481,\n",
       " 4: 12.022833051572642,\n",
       " 0: 2.0203285120948387,\n",
       " 5: 21.818713084131655,\n",
       " 3: 1.4244568280007512}"
      ]
     },
     "execution_count": 30,
     "metadata": {},
     "output_type": "execute_result"
    }
   ],
   "source": [
    "# Cluster Frequency\n",
    "from collections import Counter\n",
    "azdias_counts = Counter(azdias_clusters)\n",
    "customer_counts = Counter(customers_clusters)\n",
    "azdias_freqs = {cluster: 100*(freq / len(azdias_clusters)) for cluster, freq in azdias_counts.items()}\n",
    "customer_freqs = {cluster: 100*(freq / len(customers_clusters)) for cluster, freq in customer_counts.items()}"
   ]
  },
  {
   "cell_type": "code",
   "execution_count": 39,
   "metadata": {},
   "outputs": [
    {
     "data": {
      "text/html": [
       "<div>\n",
       "<style scoped>\n",
       "    .dataframe tbody tr th:only-of-type {\n",
       "        vertical-align: middle;\n",
       "    }\n",
       "\n",
       "    .dataframe tbody tr th {\n",
       "        vertical-align: top;\n",
       "    }\n",
       "\n",
       "    .dataframe thead th {\n",
       "        text-align: right;\n",
       "    }\n",
       "</style>\n",
       "<table border=\"1\" class=\"dataframe\">\n",
       "  <thead>\n",
       "    <tr style=\"text-align: right;\">\n",
       "      <th></th>\n",
       "      <th>Percentage</th>\n",
       "      <th>Cluster</th>\n",
       "      <th>Type</th>\n",
       "    </tr>\n",
       "  </thead>\n",
       "  <tbody>\n",
       "    <tr>\n",
       "      <th>1</th>\n",
       "      <td>38.889759</td>\n",
       "      <td>1</td>\n",
       "      <td>Customer</td>\n",
       "    </tr>\n",
       "    <tr>\n",
       "      <th>2</th>\n",
       "      <td>23.823910</td>\n",
       "      <td>2</td>\n",
       "      <td>Customer</td>\n",
       "    </tr>\n",
       "    <tr>\n",
       "      <th>4</th>\n",
       "      <td>12.022833</td>\n",
       "      <td>4</td>\n",
       "      <td>Customer</td>\n",
       "    </tr>\n",
       "    <tr>\n",
       "      <th>0</th>\n",
       "      <td>2.020329</td>\n",
       "      <td>0</td>\n",
       "      <td>Customer</td>\n",
       "    </tr>\n",
       "    <tr>\n",
       "      <th>5</th>\n",
       "      <td>21.818713</td>\n",
       "      <td>5</td>\n",
       "      <td>Customer</td>\n",
       "    </tr>\n",
       "  </tbody>\n",
       "</table>\n",
       "</div>"
      ],
      "text/plain": [
       "   Percentage  Cluster      Type\n",
       "1   38.889759        1  Customer\n",
       "2   23.823910        2  Customer\n",
       "4   12.022833        4  Customer\n",
       "0    2.020329        0  Customer\n",
       "5   21.818713        5  Customer"
      ]
     },
     "execution_count": 39,
     "metadata": {},
     "output_type": "execute_result"
    }
   ],
   "source": [
    "customer_freqs_df = pd.DataFrame.from_dict(customer_freqs, orient='index', columns=['Percentage'])\n",
    "customer_freqs_df['Cluster'] = customer_freqs_df.index\n",
    "customer_freqs_df['Type'] = 'Customer'\n",
    "customer_freqs_df.head()"
   ]
  },
  {
   "cell_type": "code",
   "execution_count": 40,
   "metadata": {},
   "outputs": [
    {
     "data": {
      "text/html": [
       "<div>\n",
       "<style scoped>\n",
       "    .dataframe tbody tr th:only-of-type {\n",
       "        vertical-align: middle;\n",
       "    }\n",
       "\n",
       "    .dataframe tbody tr th {\n",
       "        vertical-align: top;\n",
       "    }\n",
       "\n",
       "    .dataframe thead th {\n",
       "        text-align: right;\n",
       "    }\n",
       "</style>\n",
       "<table border=\"1\" class=\"dataframe\">\n",
       "  <thead>\n",
       "    <tr style=\"text-align: right;\">\n",
       "      <th></th>\n",
       "      <th>Percentage</th>\n",
       "      <th>Cluster</th>\n",
       "      <th>Type</th>\n",
       "    </tr>\n",
       "  </thead>\n",
       "  <tbody>\n",
       "    <tr>\n",
       "      <th>5</th>\n",
       "      <td>8.863346</td>\n",
       "      <td>5</td>\n",
       "      <td>General</td>\n",
       "    </tr>\n",
       "    <tr>\n",
       "      <th>3</th>\n",
       "      <td>17.826555</td>\n",
       "      <td>3</td>\n",
       "      <td>General</td>\n",
       "    </tr>\n",
       "    <tr>\n",
       "      <th>1</th>\n",
       "      <td>18.509438</td>\n",
       "      <td>1</td>\n",
       "      <td>General</td>\n",
       "    </tr>\n",
       "    <tr>\n",
       "      <th>2</th>\n",
       "      <td>21.332756</td>\n",
       "      <td>2</td>\n",
       "      <td>General</td>\n",
       "    </tr>\n",
       "    <tr>\n",
       "      <th>4</th>\n",
       "      <td>17.446514</td>\n",
       "      <td>4</td>\n",
       "      <td>General</td>\n",
       "    </tr>\n",
       "  </tbody>\n",
       "</table>\n",
       "</div>"
      ],
      "text/plain": [
       "   Percentage  Cluster     Type\n",
       "5    8.863346        5  General\n",
       "3   17.826555        3  General\n",
       "1   18.509438        1  General\n",
       "2   21.332756        2  General\n",
       "4   17.446514        4  General"
      ]
     },
     "execution_count": 40,
     "metadata": {},
     "output_type": "execute_result"
    }
   ],
   "source": [
    "azdias_freqs_df = pd.DataFrame.from_dict(azdias_freqs, orient='index', columns=['Percentage'])\n",
    "azdias_freqs_df['Cluster'] = azdias_freqs_df.index\n",
    "azdias_freqs_df['Type'] = 'General'\n",
    "azdias_freqs_df.head()"
   ]
  },
  {
   "cell_type": "code",
   "execution_count": 43,
   "metadata": {},
   "outputs": [
    {
     "data": {
      "text/html": [
       "<div>\n",
       "<style scoped>\n",
       "    .dataframe tbody tr th:only-of-type {\n",
       "        vertical-align: middle;\n",
       "    }\n",
       "\n",
       "    .dataframe tbody tr th {\n",
       "        vertical-align: top;\n",
       "    }\n",
       "\n",
       "    .dataframe thead th {\n",
       "        text-align: right;\n",
       "    }\n",
       "</style>\n",
       "<table border=\"1\" class=\"dataframe\">\n",
       "  <thead>\n",
       "    <tr style=\"text-align: right;\">\n",
       "      <th></th>\n",
       "      <th>Percentage</th>\n",
       "      <th>Cluster</th>\n",
       "      <th>Type</th>\n",
       "    </tr>\n",
       "  </thead>\n",
       "  <tbody>\n",
       "    <tr>\n",
       "      <th>1</th>\n",
       "      <td>38.889759</td>\n",
       "      <td>1</td>\n",
       "      <td>Customer</td>\n",
       "    </tr>\n",
       "    <tr>\n",
       "      <th>2</th>\n",
       "      <td>23.823910</td>\n",
       "      <td>2</td>\n",
       "      <td>Customer</td>\n",
       "    </tr>\n",
       "    <tr>\n",
       "      <th>4</th>\n",
       "      <td>12.022833</td>\n",
       "      <td>4</td>\n",
       "      <td>Customer</td>\n",
       "    </tr>\n",
       "    <tr>\n",
       "      <th>0</th>\n",
       "      <td>2.020329</td>\n",
       "      <td>0</td>\n",
       "      <td>Customer</td>\n",
       "    </tr>\n",
       "    <tr>\n",
       "      <th>5</th>\n",
       "      <td>21.818713</td>\n",
       "      <td>5</td>\n",
       "      <td>Customer</td>\n",
       "    </tr>\n",
       "    <tr>\n",
       "      <th>3</th>\n",
       "      <td>1.424457</td>\n",
       "      <td>3</td>\n",
       "      <td>Customer</td>\n",
       "    </tr>\n",
       "    <tr>\n",
       "      <th>5</th>\n",
       "      <td>8.863346</td>\n",
       "      <td>5</td>\n",
       "      <td>General</td>\n",
       "    </tr>\n",
       "    <tr>\n",
       "      <th>3</th>\n",
       "      <td>17.826555</td>\n",
       "      <td>3</td>\n",
       "      <td>General</td>\n",
       "    </tr>\n",
       "    <tr>\n",
       "      <th>1</th>\n",
       "      <td>18.509438</td>\n",
       "      <td>1</td>\n",
       "      <td>General</td>\n",
       "    </tr>\n",
       "    <tr>\n",
       "      <th>2</th>\n",
       "      <td>21.332756</td>\n",
       "      <td>2</td>\n",
       "      <td>General</td>\n",
       "    </tr>\n",
       "    <tr>\n",
       "      <th>4</th>\n",
       "      <td>17.446514</td>\n",
       "      <td>4</td>\n",
       "      <td>General</td>\n",
       "    </tr>\n",
       "    <tr>\n",
       "      <th>0</th>\n",
       "      <td>16.021391</td>\n",
       "      <td>0</td>\n",
       "      <td>General</td>\n",
       "    </tr>\n",
       "  </tbody>\n",
       "</table>\n",
       "</div>"
      ],
      "text/plain": [
       "   Percentage  Cluster      Type\n",
       "1   38.889759        1  Customer\n",
       "2   23.823910        2  Customer\n",
       "4   12.022833        4  Customer\n",
       "0    2.020329        0  Customer\n",
       "5   21.818713        5  Customer\n",
       "3    1.424457        3  Customer\n",
       "5    8.863346        5   General\n",
       "3   17.826555        3   General\n",
       "1   18.509438        1   General\n",
       "2   21.332756        2   General\n",
       "4   17.446514        4   General\n",
       "0   16.021391        0   General"
      ]
     },
     "execution_count": 43,
     "metadata": {},
     "output_type": "execute_result"
    }
   ],
   "source": [
    "combined_cluster_dist = pd.concat([customer_freqs_df, azdias_freqs_df])"
   ]
  },
  {
   "cell_type": "code",
   "execution_count": 46,
   "metadata": {},
   "outputs": [
    {
     "data": {
      "image/png": "[encoded data removed]",
      "text/plain": [
       "<matplotlib.figure.Figure at 0x7efbf88736d8>"
      ]
     },
     "metadata": {},
     "output_type": "display_data"
    }
   ],
   "source": [
    "plt.style.use('default')\n",
    "sns.barplot(x='Cluster', y='Percentage', hue='Type', data=combined_cluster_dist)\n",
    "plt.show()"
   ]
  },
  {
   "cell_type": "markdown",
   "metadata": {},
   "source": [
    "The above diagram shows that the general population data is quite evenly distributed among the 6 clusters but the customer data predominantly lies in the cluster **1, 2, 4** and **5**."
   ]
  },
  {
   "cell_type": "code",
   "execution_count": 85,
   "metadata": {},
   "outputs": [
    {
     "data": {
      "text/plain": [
       "1      1.206334\n",
       "5      0.203390\n",
       "3      0.150229\n",
       "8      0.090239\n",
       "4      0.085845\n",
       "10     0.060001\n",
       "37     0.058471\n",
       "33     0.057364\n",
       "25     0.048626\n",
       "36     0.036385\n",
       "18     0.030618\n",
       "38     0.029457\n",
       "39     0.029054\n",
       "51     0.024172\n",
       "28     0.020577\n",
       "11     0.020397\n",
       "87     0.019455\n",
       "21     0.017811\n",
       "83     0.017040\n",
       "46     0.016585\n",
       "43     0.014917\n",
       "35     0.014098\n",
       "84     0.013824\n",
       "44     0.013774\n",
       "52     0.013718\n",
       "14     0.012677\n",
       "66     0.012421\n",
       "101    0.012088\n",
       "59     0.012034\n",
       "15     0.011546\n",
       "         ...   \n",
       "134   -0.008796\n",
       "148   -0.011226\n",
       "50    -0.011491\n",
       "111   -0.012095\n",
       "71    -0.014218\n",
       "26    -0.015298\n",
       "110   -0.015520\n",
       "56    -0.016239\n",
       "107   -0.016860\n",
       "30    -0.017131\n",
       "45    -0.017967\n",
       "54    -0.018663\n",
       "22    -0.019086\n",
       "47    -0.019152\n",
       "24    -0.019478\n",
       "19    -0.020634\n",
       "58    -0.022007\n",
       "29    -0.023406\n",
       "34    -0.024478\n",
       "20    -0.025312\n",
       "31    -0.035577\n",
       "23    -0.040305\n",
       "13    -0.049762\n",
       "16    -0.055305\n",
       "17    -0.057454\n",
       "27    -0.066945\n",
       "12    -0.068946\n",
       "9     -0.088116\n",
       "6     -0.232375\n",
       "2     -1.470122\n",
       "Length: 150, dtype: float64"
      ]
     },
     "execution_count": 85,
     "metadata": {},
     "output_type": "execute_result"
    }
   ],
   "source": [
    "# What kinds of people are part of a cluster that is overrepresented in the\n",
    "# customer data compared to the general population?\n",
    "\n",
    "\n",
    "# Analysis of principal components of cluster 1 consisting of people with over-representation in the\n",
    "# customer data compared to the general population.\n",
    "p_comp_cluster_1 = pd.Series(kmodel.cluster_centers_[1])\n",
    "p_comp_cluster_1.index = p_comp_cluster_1.index + 1\n",
    "p_comp_cluster_1.sort_values(ascending=False, inplace=True)\n",
    "p_comp_cluster_1"
   ]
  },
  {
   "cell_type": "markdown",
   "metadata": {},
   "source": [
    "## Part 2: Supervised Learning Model\n",
    "\n",
    "Now that you've found which parts of the population are more likely to be customers of the mail-order company, it's time to build a prediction model. Each of the rows in the \"MAILOUT\" data files represents an individual that was targeted for a mailout campaign. Ideally, we should be able to use the demographic information from each individual to decide whether or not it will be worth it to include that person in the campaign.\n",
    "\n",
    "The \"MAILOUT\" data has been split into two approximately equal parts, each with almost 43 000 data rows. In this part, you can verify your model with the \"TRAIN\" partition, which includes a column, \"RESPONSE\", that states whether or not a person became a customer of the company following the campaign. In the next part, you'll need to create predictions on the \"TEST\" partition, where the \"RESPONSE\" column has been withheld."
   ]
  },
  {
   "cell_type": "code",
   "execution_count": 5,
   "metadata": {},
   "outputs": [
    {
     "name": "stderr",
     "output_type": "stream",
     "text": [
      "/opt/conda/lib/python3.6/site-packages/IPython/core/interactiveshell.py:2785: DtypeWarning: Columns (18,19) have mixed types. Specify dtype option on import or set low_memory=False.\n",
      "  interactivity=interactivity, compiler=compiler, result=result)\n"
     ]
    }
   ],
   "source": [
    "mailout_train = pd.read_csv('../../data/Term2/capstone/arvato_data/Udacity_MAILOUT_052018_TRAIN.csv', sep=';')"
   ]
  },
  {
   "cell_type": "code",
   "execution_count": 6,
   "metadata": {},
   "outputs": [],
   "source": [
    "# Loading feature values mapping files\n",
    "dias = pd.read_excel(\"DIAS Attributes - Values 2017.xlsx\", header=1)\n",
    "dias['Attribute'] = dias['Attribute'].ffill()"
   ]
  },
  {
   "cell_type": "code",
   "execution_count": 7,
   "metadata": {},
   "outputs": [],
   "source": [
    "target = mailout_train['RESPONSE']\n",
    "mailout_train.drop(['RESPONSE'], inplace=True, axis=1)\n",
    "mailout_train.drop(['LNR'], inplace=True, axis=1)"
   ]
  },
  {
   "cell_type": "code",
   "execution_count": 8,
   "metadata": {},
   "outputs": [
    {
     "data": {
      "text/plain": [
       "(42962, 365)"
      ]
     },
     "execution_count": 8,
     "metadata": {},
     "output_type": "execute_result"
    }
   ],
   "source": [
    "mailout_train.shape"
   ]
  },
  {
   "cell_type": "code",
   "execution_count": 9,
   "metadata": {},
   "outputs": [
    {
     "name": "stdout",
     "output_type": "stream",
     "text": [
      "Dropping columns with high percentage of missing values ['AGER_TYP', 'ALTER_HH', 'ALTER_KIND1', 'ALTER_KIND2', 'ALTER_KIND3', 'ALTER_KIND4', 'EXTSEL992', 'KBA05_BAUMAX', 'KK_KUNDENTYP', 'TITEL_KZ']\n",
      "label encoding CAMEO_DEU_2015\n",
      "Convert CAMEO_DEUG_2015 str to float\n",
      "Mapping OST_WEST_KZ categorical\n",
      "Splitting CAMEO_INTL_2015 Feature into 2 features FAMILY and WEALTH\n",
      "Splitting LP_LEBENSPHASE_FEIN into two features INCOME and AGE\n",
      "Splitting PRAEGENDE_JUGENDJAHRE into two DECADE and MOVEMENT\n",
      "Get the registeration year from EINGEFUEGT_AM\n",
      "Dropping unwanted columns ['D19_LETZTER_KAUF_BRANCHE', 'CAMEO_INTL_2015', 'LP_LEBENSPHASE_FEIN', 'PRAEGENDE_JUGENDJAHRE', 'EINGEFUEGT_AM']\n",
      "Imputing missing values with most frequent value\n"
     ]
    }
   ],
   "source": [
    "mailout_train_eng = preprocess(mailout_train, dias)"
   ]
  },
  {
   "cell_type": "code",
   "execution_count": 10,
   "metadata": {},
   "outputs": [],
   "source": [
    "mailout_train_scaled = feature_scaling(mailout_train_eng)"
   ]
  },
  {
   "cell_type": "code",
   "execution_count": 11,
   "metadata": {},
   "outputs": [
    {
     "data": {
      "text/html": [
       "<div>\n",
       "<style scoped>\n",
       "    .dataframe tbody tr th:only-of-type {\n",
       "        vertical-align: middle;\n",
       "    }\n",
       "\n",
       "    .dataframe tbody tr th {\n",
       "        vertical-align: top;\n",
       "    }\n",
       "\n",
       "    .dataframe thead th {\n",
       "        text-align: right;\n",
       "    }\n",
       "</style>\n",
       "<table border=\"1\" class=\"dataframe\">\n",
       "  <thead>\n",
       "    <tr style=\"text-align: right;\">\n",
       "      <th></th>\n",
       "      <th>AKT_DAT_KL</th>\n",
       "      <th>ALTERSKATEGORIE_FEIN</th>\n",
       "      <th>ANZ_HAUSHALTE_AKTIV</th>\n",
       "      <th>ANZ_HH_TITEL</th>\n",
       "      <th>ANZ_KINDER</th>\n",
       "      <th>ANZ_PERSONEN</th>\n",
       "      <th>ANZ_STATISTISCHE_HAUSHALTE</th>\n",
       "      <th>ANZ_TITEL</th>\n",
       "      <th>ARBEIT</th>\n",
       "      <th>BALLRAUM</th>\n",
       "      <th>...</th>\n",
       "      <th>ZABEOTYP</th>\n",
       "      <th>ANREDE_KZ</th>\n",
       "      <th>ALTERSKATEGORIE_GROB</th>\n",
       "      <th>WEALTH</th>\n",
       "      <th>FAMILY</th>\n",
       "      <th>INCOME</th>\n",
       "      <th>AGE</th>\n",
       "      <th>DECADE</th>\n",
       "      <th>MOVEMENT</th>\n",
       "      <th>EINGEFUEGT_YEAR</th>\n",
       "    </tr>\n",
       "  </thead>\n",
       "  <tbody>\n",
       "    <tr>\n",
       "      <th>0</th>\n",
       "      <td>0.000</td>\n",
       "      <td>0.32</td>\n",
       "      <td>0.034247</td>\n",
       "      <td>0.0</td>\n",
       "      <td>0.0</td>\n",
       "      <td>0.041667</td>\n",
       "      <td>0.035230</td>\n",
       "      <td>0.0</td>\n",
       "      <td>0.250</td>\n",
       "      <td>0.666667</td>\n",
       "      <td>...</td>\n",
       "      <td>0.4</td>\n",
       "      <td>1.0</td>\n",
       "      <td>0.375</td>\n",
       "      <td>0.25</td>\n",
       "      <td>0.75</td>\n",
       "      <td>0.333333</td>\n",
       "      <td>1.000000</td>\n",
       "      <td>0.0</td>\n",
       "      <td>0.0</td>\n",
       "      <td>0.041667</td>\n",
       "    </tr>\n",
       "    <tr>\n",
       "      <th>1</th>\n",
       "      <td>0.375</td>\n",
       "      <td>0.52</td>\n",
       "      <td>0.002283</td>\n",
       "      <td>0.0</td>\n",
       "      <td>0.0</td>\n",
       "      <td>0.083333</td>\n",
       "      <td>0.002710</td>\n",
       "      <td>0.0</td>\n",
       "      <td>0.125</td>\n",
       "      <td>0.666667</td>\n",
       "      <td>...</td>\n",
       "      <td>0.0</td>\n",
       "      <td>1.0</td>\n",
       "      <td>0.250</td>\n",
       "      <td>0.25</td>\n",
       "      <td>0.75</td>\n",
       "      <td>0.666667</td>\n",
       "      <td>0.666667</td>\n",
       "      <td>0.6</td>\n",
       "      <td>0.0</td>\n",
       "      <td>0.250000</td>\n",
       "    </tr>\n",
       "    <tr>\n",
       "      <th>2</th>\n",
       "      <td>0.000</td>\n",
       "      <td>0.28</td>\n",
       "      <td>0.000000</td>\n",
       "      <td>0.0</td>\n",
       "      <td>0.0</td>\n",
       "      <td>0.000000</td>\n",
       "      <td>0.002710</td>\n",
       "      <td>0.0</td>\n",
       "      <td>0.375</td>\n",
       "      <td>0.000000</td>\n",
       "      <td>...</td>\n",
       "      <td>0.4</td>\n",
       "      <td>0.0</td>\n",
       "      <td>0.375</td>\n",
       "      <td>0.25</td>\n",
       "      <td>0.75</td>\n",
       "      <td>0.333333</td>\n",
       "      <td>0.666667</td>\n",
       "      <td>0.0</td>\n",
       "      <td>1.0</td>\n",
       "      <td>0.166667</td>\n",
       "    </tr>\n",
       "    <tr>\n",
       "      <th>3</th>\n",
       "      <td>0.000</td>\n",
       "      <td>0.24</td>\n",
       "      <td>0.009132</td>\n",
       "      <td>0.0</td>\n",
       "      <td>0.0</td>\n",
       "      <td>0.083333</td>\n",
       "      <td>0.010840</td>\n",
       "      <td>0.0</td>\n",
       "      <td>0.375</td>\n",
       "      <td>0.166667</td>\n",
       "      <td>...</td>\n",
       "      <td>0.4</td>\n",
       "      <td>1.0</td>\n",
       "      <td>0.375</td>\n",
       "      <td>0.25</td>\n",
       "      <td>0.75</td>\n",
       "      <td>0.333333</td>\n",
       "      <td>0.666667</td>\n",
       "      <td>0.0</td>\n",
       "      <td>1.0</td>\n",
       "      <td>0.041667</td>\n",
       "    </tr>\n",
       "    <tr>\n",
       "      <th>4</th>\n",
       "      <td>0.000</td>\n",
       "      <td>0.36</td>\n",
       "      <td>0.121005</td>\n",
       "      <td>0.0</td>\n",
       "      <td>0.0</td>\n",
       "      <td>0.041667</td>\n",
       "      <td>0.119241</td>\n",
       "      <td>0.0</td>\n",
       "      <td>0.250</td>\n",
       "      <td>0.500000</td>\n",
       "      <td>...</td>\n",
       "      <td>0.4</td>\n",
       "      <td>0.0</td>\n",
       "      <td>0.250</td>\n",
       "      <td>0.25</td>\n",
       "      <td>0.75</td>\n",
       "      <td>0.333333</td>\n",
       "      <td>0.333333</td>\n",
       "      <td>0.2</td>\n",
       "      <td>0.0</td>\n",
       "      <td>0.041667</td>\n",
       "    </tr>\n",
       "  </tbody>\n",
       "</table>\n",
       "<p>5 rows × 357 columns</p>\n",
       "</div>"
      ],
      "text/plain": [
       "   AKT_DAT_KL  ALTERSKATEGORIE_FEIN  ANZ_HAUSHALTE_AKTIV  ANZ_HH_TITEL  \\\n",
       "0       0.000                  0.32             0.034247           0.0   \n",
       "1       0.375                  0.52             0.002283           0.0   \n",
       "2       0.000                  0.28             0.000000           0.0   \n",
       "3       0.000                  0.24             0.009132           0.0   \n",
       "4       0.000                  0.36             0.121005           0.0   \n",
       "\n",
       "   ANZ_KINDER  ANZ_PERSONEN  ANZ_STATISTISCHE_HAUSHALTE  ANZ_TITEL  ARBEIT  \\\n",
       "0         0.0      0.041667                    0.035230        0.0   0.250   \n",
       "1         0.0      0.083333                    0.002710        0.0   0.125   \n",
       "2         0.0      0.000000                    0.002710        0.0   0.375   \n",
       "3         0.0      0.083333                    0.010840        0.0   0.375   \n",
       "4         0.0      0.041667                    0.119241        0.0   0.250   \n",
       "\n",
       "   BALLRAUM       ...         ZABEOTYP  ANREDE_KZ  ALTERSKATEGORIE_GROB  \\\n",
       "0  0.666667       ...              0.4        1.0                 0.375   \n",
       "1  0.666667       ...              0.0        1.0                 0.250   \n",
       "2  0.000000       ...              0.4        0.0                 0.375   \n",
       "3  0.166667       ...              0.4        1.0                 0.375   \n",
       "4  0.500000       ...              0.4        0.0                 0.250   \n",
       "\n",
       "   WEALTH  FAMILY    INCOME       AGE  DECADE  MOVEMENT  EINGEFUEGT_YEAR  \n",
       "0    0.25    0.75  0.333333  1.000000     0.0       0.0         0.041667  \n",
       "1    0.25    0.75  0.666667  0.666667     0.6       0.0         0.250000  \n",
       "2    0.25    0.75  0.333333  0.666667     0.0       1.0         0.166667  \n",
       "3    0.25    0.75  0.333333  0.666667     0.0       1.0         0.041667  \n",
       "4    0.25    0.75  0.333333  0.333333     0.2       0.0         0.041667  \n",
       "\n",
       "[5 rows x 357 columns]"
      ]
     },
     "execution_count": 11,
     "metadata": {},
     "output_type": "execute_result"
    }
   ],
   "source": [
    "mailout_train_scaled.head()"
   ]
  },
  {
   "cell_type": "code",
   "execution_count": 12,
   "metadata": {},
   "outputs": [
    {
     "data": {
      "text/plain": [
       "(42962, 357)"
      ]
     },
     "execution_count": 12,
     "metadata": {},
     "output_type": "execute_result"
    }
   ],
   "source": [
    "mailout_train_scaled.shape"
   ]
  },
  {
   "cell_type": "markdown",
   "metadata": {},
   "source": [
    "### Modeling"
   ]
  },
  {
   "cell_type": "code",
   "execution_count": 15,
   "metadata": {},
   "outputs": [],
   "source": [
    "lgb_model = lgb.LGBMClassifier(application='binary', learning_rate=0.2952150312099677,\n",
    "               max_bin=1579, max_depth=2, metric='auc', min_child_samples=50,\n",
    "               n_estimators=20, num_leaves=114, reg_alpha=1.0,\n",
    "               reg_lambda=6.087536046756808e-07, scale_pos_weight=1,\n",
    "               verbose=-1)"
   ]
  },
  {
   "cell_type": "code",
   "execution_count": 16,
   "metadata": {},
   "outputs": [
    {
     "data": {
      "text/plain": [
       "LGBMClassifier(application='binary', learning_rate=0.2952150312099677,\n",
       "               max_bin=1579, max_depth=2, metric='auc', min_child_samples=50,\n",
       "               n_estimators=20, num_leaves=114, reg_alpha=1.0,\n",
       "               reg_lambda=6.087536046756808e-07, scale_pos_weight=1,\n",
       "               verbose=-1)"
      ]
     },
     "execution_count": 16,
     "metadata": {},
     "output_type": "execute_result"
    }
   ],
   "source": [
    "lgb_model.fit(mailout_train_scaled, target)"
   ]
  },
  {
   "cell_type": "code",
   "execution_count": 17,
   "metadata": {},
   "outputs": [],
   "source": [
    "def plot_feature_importance(model, features, n=10):\n",
    "    \"\"\" Plot n number of features from the model\n",
    "    \"\"\"\n",
    "    sorted_idx = model.feature_importances_.argsort()\n",
    "    df = pd.DataFrame()\n",
    "    df['features'] = features\n",
    "    df['importance'] = model.feature_importances_\n",
    "    df_sorted = df.sort_values('importance', ascending=False)\n",
    "    df_sorted[:n].plot.barh(x='features', y='importance')\n",
    "    plt.xlabel(\"LGBM Feature Importance\")\n",
    "    "
   ]
  },
  {
   "cell_type": "code",
   "execution_count": 19,
   "metadata": {},
   "outputs": [
    {
     "data": {
      "image/png": "[encoded data removed]",
      "text/plain": [
       "<matplotlib.figure.Figure at 0x7fd3fa201dd8>"
      ]
     },
     "metadata": {
      "needs_background": "light"
     },
     "output_type": "display_data"
    }
   ],
   "source": [
    "plot_feature_importance(lgb_model, mailout_train_scaled.columns.values, n=10)"
   ]
  },
  {
   "cell_type": "code",
   "execution_count": 20,
   "metadata": {},
   "outputs": [
    {
     "data": {
      "text/plain": [
       "array([ 0,  1,  0,  0,  0,  0,  0,  0,  0,  0,  0,  0,  2,  1,  0,  0,  0,\n",
       "        0,  0,  0,  0,  0,  0,  1,  0,  0,  0,  0,  0,  0,  0,  0,  0,  0,\n",
       "        0,  0,  0,  0,  0,  0,  0,  0,  0,  0,  0,  0,  0,  0,  0,  0,  3,\n",
       "        0,  0,  0,  0,  1,  0,  0,  0,  1, 15,  0,  0,  0,  0,  1,  0,  0,\n",
       "        0,  0,  0,  0,  0,  0,  0,  0,  0,  0,  0,  0,  0,  0,  0,  0,  0,\n",
       "        0,  0,  0,  3,  0,  0,  0,  0,  1,  0,  0,  0,  0,  0,  0,  1,  0,\n",
       "        2,  0,  0,  0,  2,  0,  1,  0,  0,  0,  0,  0,  0,  0,  0,  0,  0,\n",
       "        0,  0,  1,  0,  0,  0,  0,  1,  1,  0,  0,  0,  0,  0,  0,  0,  0,\n",
       "        0,  0,  0,  1,  0,  0,  0,  0,  0,  0,  0,  0,  0,  0,  0,  0,  0,\n",
       "        0,  0,  0,  0,  1,  0,  0,  0,  0,  0,  0,  0,  0,  0,  0,  0,  0,\n",
       "        0,  1,  0,  0,  1,  0,  0,  0,  0,  0,  0,  0,  0,  0,  0,  0,  0,\n",
       "        0,  0,  0,  0,  0,  0,  0,  0,  0,  0,  0,  1,  0,  0,  0,  0,  0,\n",
       "        0,  0,  0,  0,  0,  0,  0,  0,  0,  1,  0,  0,  0,  0,  0,  0,  0,\n",
       "        0,  0,  0,  0,  0,  0,  0,  0,  0,  0,  0,  0,  0,  0,  0,  0,  0,\n",
       "        0,  1,  1,  0,  0,  0,  0,  0,  0,  0,  2,  0,  0,  0,  1,  0,  0,\n",
       "        1,  0,  0,  0,  0,  0,  0,  0,  0,  0,  0,  0,  0,  0,  0,  0,  0,\n",
       "        0,  0,  0,  0,  0,  0,  0,  0,  0,  0,  1,  0,  0,  0,  0,  0,  0,\n",
       "        0,  0,  0,  0,  0,  0,  0,  0,  1,  0,  1,  0,  0,  0,  0,  0,  0,\n",
       "        0,  0,  0,  0,  0,  0,  0,  0,  0,  0,  0,  0,  0,  0,  0,  0,  0,\n",
       "        0,  0,  0,  0,  0,  0,  0,  0,  0,  0,  0,  0,  0,  0,  0,  0,  1,\n",
       "        1,  0,  0,  1,  0,  0,  0,  0,  0,  0,  0,  0,  0,  0,  1,  0,  2],\n",
       "      dtype=int32)"
      ]
     },
     "execution_count": 20,
     "metadata": {},
     "output_type": "execute_result"
    }
   ],
   "source": [
    "lgb_model.feature_importances_"
   ]
  },
  {
   "cell_type": "code",
   "execution_count": 12,
   "metadata": {},
   "outputs": [
    {
     "data": {
      "text/plain": [
       "(42962, 358)"
      ]
     },
     "execution_count": 12,
     "metadata": {},
     "output_type": "execute_result"
    }
   ],
   "source": [
    "mailout_train_scaled.shape"
   ]
  },
  {
   "cell_type": "code",
   "execution_count": 10,
   "metadata": {},
   "outputs": [],
   "source": [
    "bayes_lgbm = lgb.LGBMClassifier(application='binary', colsample_bytree=0.9, learning_rate=0.25,\n",
    "               max_bin=1000, max_depth=2, metric='auc', min_child_samples=1,\n",
    "               n_estimators=40, num_leaves=20, reg_alpha=10.0, reg_lambda=1e-10,\n",
    "               scale_pos_weight=1, verbose=-1)"
   ]
  },
  {
   "cell_type": "code",
   "execution_count": 12,
   "metadata": {},
   "outputs": [
    {
     "data": {
      "text/plain": [
       "LGBMClassifier(application='binary', colsample_bytree=0.9, learning_rate=0.25,\n",
       "               max_bin=1000, max_depth=2, metric='auc', min_child_samples=1,\n",
       "               n_estimators=40, num_leaves=20, reg_alpha=10.0, reg_lambda=1e-10,\n",
       "               scale_pos_weight=1, verbose=-1)"
      ]
     },
     "execution_count": 12,
     "metadata": {},
     "output_type": "execute_result"
    }
   ],
   "source": [
    "bayes_lgbm.fit(mailout_train_scaled, target)"
   ]
  },
  {
   "cell_type": "code",
   "execution_count": 13,
   "metadata": {},
   "outputs": [
    {
     "data": {
      "text/plain": [
       "['lgb_01.pkl']"
      ]
     },
     "execution_count": 13,
     "metadata": {},
     "output_type": "execute_result"
    }
   ],
   "source": [
    "# save model\n",
    "joblib.dump(bayes_lgbm, 'lgb_01.pkl')"
   ]
  },
  {
   "cell_type": "markdown",
   "metadata": {},
   "source": [
    "## Part 3: Kaggle Competition\n",
    "\n",
    "Now that you've created a model to predict which individuals are most likely to respond to a mailout campaign, it's time to test that model in competition through Kaggle. If you click on the link [here](http://www.kaggle.com/t/21e6d45d4c574c7fa2d868f0e8c83140), you'll be taken to the competition page where, if you have a Kaggle account, you can enter. If you're one of the top performers, you may have the chance to be contacted by a hiring manager from Arvato or Bertelsmann for an interview!\n",
    "\n",
    "Your entry to the competition should be a CSV file with two columns. The first column should be a copy of \"LNR\", which acts as an ID number for each individual in the \"TEST\" partition. The second column, \"RESPONSE\", should be some measure of how likely each individual became a customer – this might not be a straightforward probability. As you should have found in Part 2, there is a large output class imbalance, where most individuals did not respond to the mailout. Thus, predicting individual classes and using accuracy does not seem to be an appropriate performance evaluation method. Instead, the competition will be using AUC to evaluate performance. The exact values of the \"RESPONSE\" column do not matter as much: only that the higher values try to capture as many of the actual customers as possible, early in the ROC curve sweep."
   ]
  },
  {
   "cell_type": "code",
   "execution_count": 2,
   "metadata": {},
   "outputs": [
    {
     "name": "stderr",
     "output_type": "stream",
     "text": [
      "/opt/conda/lib/python3.6/site-packages/IPython/core/interactiveshell.py:2785: DtypeWarning: Columns (18,19) have mixed types. Specify dtype option on import or set low_memory=False.\n",
      "  interactivity=interactivity, compiler=compiler, result=result)\n"
     ]
    }
   ],
   "source": [
    "mailout_test = pd.read_csv('../../data/Term2/capstone/arvato_data/Udacity_MAILOUT_052018_TEST.csv', sep=';')"
   ]
  },
  {
   "cell_type": "code",
   "execution_count": 3,
   "metadata": {},
   "outputs": [],
   "source": [
    "# Loading feature values mapping files\n",
    "dias = pd.read_excel(\"DIAS Attributes - Values 2017.xlsx\", header=1)\n",
    "dias['Attribute'] = dias['Attribute'].ffill()"
   ]
  },
  {
   "cell_type": "code",
   "execution_count": 4,
   "metadata": {},
   "outputs": [],
   "source": [
    "lnr = pd.DataFrame(mailout_test['LNR'].astype('int32'))"
   ]
  },
  {
   "cell_type": "code",
   "execution_count": 5,
   "metadata": {},
   "outputs": [
    {
     "name": "stdout",
     "output_type": "stream",
     "text": [
      "Dropping columns with high percentage of missing values ['AGER_TYP', 'ALTER_HH', 'ALTER_KIND1', 'ALTER_KIND2', 'ALTER_KIND3', 'ALTER_KIND4', 'EXTSEL992', 'KBA05_BAUMAX', 'KK_KUNDENTYP', 'TITEL_KZ']\n",
      "label encoding CAMEO_DEU_2015\n",
      "label encoding D19_LETZTER_KAUF_BRANCHE\n",
      "Convert CAMEO_DEUG_2015 str to float\n",
      "Mapping OST_WEST_KZ categorical\n",
      "Splitting CAMEO_INTL_2015 Feature into 2 features FAMILY and WEALTH\n",
      "Splitting LP_LEBENSPHASE_FEIN into two features INCOME and AGE\n",
      "Splitting PRAEGENDE_JUGENDJAHRE into two DECADE and MOVEMENT\n",
      "Get the registeration year from EINGEFUEGT_AM\n",
      "Dropping unwanted columns ['CAMEO_INTL_2015', 'LP_LEBENSPHASE_FEIN', 'PRAEGENDE_JUGENDJAHRE', 'EINGEFUEGT_AM']\n",
      "Imputing missing values with most frequent value\n"
     ]
    }
   ],
   "source": [
    "mailout_test.drop(['LNR'], inplace=True, axis=1)\n",
    "mailout_test_eng = preprocess(mailout_test, dias)\n",
    "mailout_test_scaled = feature_scaling(mailout_test_eng)"
   ]
  },
  {
   "cell_type": "code",
   "execution_count": 14,
   "metadata": {},
   "outputs": [],
   "source": [
    "# Applying the same scaler from trained data to test\n",
    "scaler = MinMaxScaler().fit(mailout_train_eng)\n",
    "mailout_test_scaled = scaler.transform(mailout_test_eng)"
   ]
  },
  {
   "cell_type": "code",
   "execution_count": 15,
   "metadata": {},
   "outputs": [],
   "source": [
    "# load model\n",
    "lgbm_model = joblib.load('lgbm_200.pkl')\n",
    "predictions = lgbm_model.predict_proba(mailout_test_scaled)[:,1]"
   ]
  },
  {
   "cell_type": "code",
   "execution_count": 16,
   "metadata": {},
   "outputs": [],
   "source": [
    "response_df = pd.DataFrame(predictions, columns =['RESPONSE'])\n",
    "submission_df = pd.concat([lnr, response_df], axis=1)\n",
    "submission_df.set_index('LNR', inplace = True)"
   ]
  },
  {
   "cell_type": "code",
   "execution_count": 17,
   "metadata": {},
   "outputs": [
    {
     "data": {
      "text/plain": [
       "(42833, 1)"
      ]
     },
     "execution_count": 17,
     "metadata": {},
     "output_type": "execute_result"
    }
   ],
   "source": [
    "submission_df.shape"
   ]
  },
  {
   "cell_type": "code",
   "execution_count": 18,
   "metadata": {},
   "outputs": [],
   "source": [
    "submission_df.to_csv(\"Avrato_kaggle_submission_lgbm_200_2.csv\")"
   ]
  },
  {
   "cell_type": "code",
   "execution_count": null,
   "metadata": {},
   "outputs": [],
   "source": []
  }
 ],
 "metadata": {
  "kernelspec": {
   "display_name": "Python 3",
   "language": "python",
   "name": "python3"
  },
  "language_info": {
   "codemirror_mode": {
    "name": "ipython",
    "version": 3
   },
   "file_extension": ".py",
   "mimetype": "text/x-python",
   "name": "python",
   "nbconvert_exporter": "python",
   "pygments_lexer": "ipython3",
   "version": "3.6.3"
  }
 },
 "nbformat": 4,
 "nbformat_minor": 2
}
